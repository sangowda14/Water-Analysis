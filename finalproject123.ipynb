{
  "nbformat": 4,
  "nbformat_minor": 0,
  "metadata": {
    "colab": {
      "provenance": []
    },
    "kernelspec": {
      "name": "python3",
      "display_name": "Python 3"
    },
    "language_info": {
      "name": "python"
    }
  },
  "cells": [
    {
      "cell_type": "markdown",
      "source": [
        "# Importing Libraries"
      ],
      "metadata": {
        "id": "yS65Jjsba5K2"
      }
    },
    {
      "cell_type": "code",
      "source": [
        "import csv\n",
        "import numpy as np\n",
        "import pandas as pd\n",
        "from sklearn.ensemble import RandomForestClassifier\n",
        "from sklearn.neighbors import KNeighborsClassifier\n",
        "from sklearn.tree import DecisionTreeClassifier\n",
        "from sklearn.svm import SVC\n",
        "from sklearn.naive_bayes import GaussianNB\n",
        "from sklearn.model_selection import train_test_split\n",
        "from sklearn.metrics import accuracy_score, confusion_matrix\n",
        "from mlxtend.plotting import plot_confusion_matrix\n",
        "import matplotlib.pyplot as plt\n",
        "%matplotlib inline\n",
        "from prettytable import PrettyTable\n",
        "import warnings\n",
        "warnings.filterwarnings(\"ignore\")"
      ],
      "metadata": {
        "id": "mndI07WguLjm"
      },
      "execution_count": 1,
      "outputs": []
    },
    {
      "cell_type": "markdown",
      "source": [
        "### Importing Data"
      ],
      "metadata": {
        "id": "Aj6mAzopa9eL"
      }
    },
    {
      "cell_type": "code",
      "source": [
        "import csv\n",
        "rows = []\n",
        "#to open and read the csv file\n",
        "with open(\"Students_Data_final .csv\", 'r') as file:\n",
        "  csvreader = csv.reader(file)\n",
        "  header = next(csvreader)\n",
        "  for row in csvreader:\n",
        "    rows.append(row)\n",
        "print(header) # header contains the names of columns\n",
        "for i in range(10):\n",
        "  print(rows[i]) # rows contains the all rows in dataset and each value is in string"
      ],
      "metadata": {
        "id": "2JUPPb9KbBqO",
        "colab": {
          "base_uri": "https://localhost:8080/"
        },
        "outputId": "50ec25e8-dd31-4e34-b9ec-f7476bb2575f"
      },
      "execution_count": 2,
      "outputs": [
        {
          "output_type": "stream",
          "name": "stdout",
          "text": [
            "['ID', 'Ph', 'Calcium(in ppm)', 'Magnesium(in ppm)', 'Chlorine(in ppm)', 'Benzene(in ppb)', 'THM(in ppb)', 'Copper(in ppm)', 'Nitrate(in ppm)', 'Drinking Purpose', 'Ailments', 'Cement Industry Purpose', 'Irrigation Purpose']\n",
            "['1', '6.32199', '40.46381', '37.11756', '125.76967', '1.29794', '4.26769', '0.08466', '47.55646', 'No', 'Breathing Difficulty,Nausea,Diarrhoea,Methemoglobinemia', 'No', 'Yes']\n",
            "['2', '1.11703', '489.13508', '394.47085', '2.82537', '138.14883', '225.7977', '60.77358', '7.40217', 'Yes', 'Safe', 'Yes', 'Yes']\n",
            "['3', '7.0739', '144.91595', '92.40137', '66.91135', '229.14941', '318.90759', '25.77226', '209.05062', 'Yes', 'Safe', 'Yes', 'Yes']\n",
            "['4', '7.62976', '54.05074', '18.43207', '2.63521', '1.87751', '2.64588', '1.22626', '9.19097', 'Yes', 'Safe', 'Yes', 'No']\n",
            "['5', '2.00241', '378.86847', '80.60606', '347.01476', '70.69219', '274.25715', '16.51665', '360.53748', 'No', 'Breathing Difficulty,Burns in mouth and throat,Stomach pain,Nausea,Diarrhoea,Leukaemia,Anaemia,Bladder Cancer,Diarrhoea,Methemoglobinemia', 'No', 'No']\n",
            "['6', '2.25887', '480.41266', '224.66012', '138.55897', '2.02823', '215.41339', '79.71261', '375.32036', 'No', 'Breathing Difficulty,Burns in mouth and throat,Stomach pain,Nausea,Diarrhoea,Bladder Cancer,Diarrhoea,Methemoglobinemia', 'No', 'No']\n",
            "['7', '8.34289', '43.36936', '16.02324', '3.18901', '1.65355', '3.31904', '1.64572', '4.64196', 'Yes', 'Safe', 'Yes', 'No']\n",
            "['8', '12.91251', '178.35412', '338.96475', '344.27375', '84.54522', '255.87773', '60.86019', '485.47251', 'No', 'Burns in mouth and throat,Stomach pain,Nausea,Diarrhoea,Leukaemia,Anaemia,Bladder Cancer,Diarrhoea,Methemoglobinemia', 'No', 'No']\n",
            "['9', '6.77627', '11.53328', '288.37608', '287.67051', '256.86103', '63.02798', '85.16868', '134.50875', 'No', 'Nausea,Diarrhoea,Leukaemia,Anaemia,Bladder Cancer,Diarrhoea,Methemoglobinemia', 'No', 'No']\n",
            "['10', '6.33898', '35.41262', '35.84237', '55.93105', '2.69782', '0.79407', '0.05019', '136.74924', 'No', 'Breathing Difficulty,Nausea,Diarrhoea,Methemoglobinemia', 'No', 'Yes']\n"
          ]
        }
      ]
    },
    {
      "cell_type": "markdown",
      "source": [
        "### Pre-Processing"
      ],
      "metadata": {
        "id": "1eEfBPWObF1M"
      }
    },
    {
      "cell_type": "code",
      "source": [
        "# to change the datatype of value to necessary datatype and to round the float number to 2 decimals\n",
        "# Ailments are multiple in dataset in a row so taking each ailment only one time\n",
        "for i in range(len(rows)):\n",
        "  rows[i][0]=int(rows[i][0])\n",
        "  rows[i][1]=round(float(rows[i][1]),2)\n",
        "  rows[i][2]=round(float(rows[i][2]),2)\n",
        "  rows[i][3]=round(float(rows[i][3]),2)\n",
        "  rows[i][4]=round(float(rows[i][4]),2)\n",
        "  rows[i][5]=round(float(rows[i][5]),2)\n",
        "  rows[i][6]=round(float(rows[i][6]),2)\n",
        "  rows[i][7]=round(float(rows[i][7]),2)\n",
        "  rows[i][8]=round(float(rows[i][8]),2)\n",
        "  l=rows[i][10].split(\",\")\n",
        "  l=list(set(l))\n",
        "  rows[i][10]=','.join(l)\n",
        "for i in range(10):\n",
        "  print(rows[i])"
      ],
      "metadata": {
        "id": "NqyylwqzbHzH",
        "colab": {
          "base_uri": "https://localhost:8080/"
        },
        "outputId": "115a3b98-4850-4793-c362-d80216234491"
      },
      "execution_count": 3,
      "outputs": [
        {
          "output_type": "stream",
          "name": "stdout",
          "text": [
            "[1, 6.32, 40.46, 37.12, 125.77, 1.3, 4.27, 0.08, 47.56, 'No', 'Diarrhoea,Nausea,Breathing Difficulty,Methemoglobinemia', 'No', 'Yes']\n",
            "[2, 1.12, 489.14, 394.47, 2.83, 138.15, 225.8, 60.77, 7.4, 'Yes', 'Safe', 'Yes', 'Yes']\n",
            "[3, 7.07, 144.92, 92.4, 66.91, 229.15, 318.91, 25.77, 209.05, 'Yes', 'Safe', 'Yes', 'Yes']\n",
            "[4, 7.63, 54.05, 18.43, 2.64, 1.88, 2.65, 1.23, 9.19, 'Yes', 'Safe', 'Yes', 'No']\n",
            "[5, 2.0, 378.87, 80.61, 347.01, 70.69, 274.26, 16.52, 360.54, 'No', 'Breathing Difficulty,Anaemia,Stomach pain,Nausea,Burns in mouth and throat,Bladder Cancer,Methemoglobinemia,Diarrhoea,Leukaemia', 'No', 'No']\n",
            "[6, 2.26, 480.41, 224.66, 138.56, 2.03, 215.41, 79.71, 375.32, 'No', 'Breathing Difficulty,Stomach pain,Nausea,Burns in mouth and throat,Bladder Cancer,Methemoglobinemia,Diarrhoea', 'No', 'No']\n",
            "[7, 8.34, 43.37, 16.02, 3.19, 1.65, 3.32, 1.65, 4.64, 'Yes', 'Safe', 'Yes', 'No']\n",
            "[8, 12.91, 178.35, 338.96, 344.27, 84.55, 255.88, 60.86, 485.47, 'No', 'Anaemia,Stomach pain,Nausea,Burns in mouth and throat,Bladder Cancer,Methemoglobinemia,Diarrhoea,Leukaemia', 'No', 'No']\n",
            "[9, 6.78, 11.53, 288.38, 287.67, 256.86, 63.03, 85.17, 134.51, 'No', 'Anaemia,Nausea,Bladder Cancer,Methemoglobinemia,Diarrhoea,Leukaemia', 'No', 'No']\n",
            "[10, 6.34, 35.41, 35.84, 55.93, 2.7, 0.79, 0.05, 136.75, 'No', 'Diarrhoea,Nausea,Breathing Difficulty,Methemoglobinemia', 'No', 'Yes']\n"
          ]
        }
      ]
    },
    {
      "cell_type": "markdown",
      "source": [
        "### Creation of DataFrame from data"
      ],
      "metadata": {
        "id": "9AITwnUbbSVR"
      }
    },
    {
      "cell_type": "code",
      "source": [
        "import pandas as pd\n",
        "df=pd.DataFrame(rows) # converting into dataframe -> columns names are from 0 to 12\n",
        "df.drop(columns=[0],inplace=True) #removing the 1st column(ID)"
      ],
      "metadata": {
        "id": "eFYdu-IebWwY"
      },
      "execution_count": 4,
      "outputs": []
    },
    {
      "cell_type": "code",
      "source": [
        "df"
      ],
      "metadata": {
        "id": "7_2v4q_ebaau",
        "colab": {
          "base_uri": "https://localhost:8080/",
          "height": 423
        },
        "outputId": "ad3edd57-add8-452b-e7f6-ad323c89fb48"
      },
      "execution_count": 5,
      "outputs": [
        {
          "output_type": "execute_result",
          "data": {
            "text/plain": [
              "          1       2       3       4       5       6      7       8    9   \\\n",
              "0       6.32   40.46   37.12  125.77    1.30    4.27   0.08   47.56   No   \n",
              "1       1.12  489.14  394.47    2.83  138.15  225.80  60.77    7.40  Yes   \n",
              "2       7.07  144.92   92.40   66.91  229.15  318.91  25.77  209.05  Yes   \n",
              "3       7.63   54.05   18.43    2.64    1.88    2.65   1.23    9.19  Yes   \n",
              "4       2.00  378.87   80.61  347.01   70.69  274.26  16.52  360.54   No   \n",
              "...      ...     ...     ...     ...     ...     ...    ...     ...  ...   \n",
              "13040   7.67   43.06   16.36    3.16    4.95    4.17   0.29    6.95  Yes   \n",
              "13041   2.46  145.75  201.09  492.57  165.75  281.09  68.11  364.10   No   \n",
              "13042  10.75  110.05   99.68  165.52  137.66  184.49  29.32   68.67   No   \n",
              "13043   7.69   20.13   18.79    3.77    2.05    7.89   0.17    0.04  Yes   \n",
              "13044   8.61   31.45   73.96   67.16  124.52   54.71   8.75  273.74   No   \n",
              "\n",
              "                                                      10   11   12  \n",
              "0      Diarrhoea,Nausea,Breathing Difficulty,Methemog...   No  Yes  \n",
              "1                                                   Safe  Yes  Yes  \n",
              "2                                                   Safe  Yes  Yes  \n",
              "3                                                   Safe  Yes   No  \n",
              "4      Breathing Difficulty,Anaemia,Stomach pain,Naus...   No   No  \n",
              "...                                                  ...  ...  ...  \n",
              "13040                                               Safe  Yes   No  \n",
              "13041  Breathing Difficulty,Anaemia,Stomach pain,Naus...   No   No  \n",
              "13042  Anaemia,Stomach pain,Nausea,Burns in mouth and...  Yes   No  \n",
              "13043                                               Safe  Yes   No  \n",
              "13044  Anaemia,Nausea,Bladder Cancer,Methemoglobinemi...  Yes   No  \n",
              "\n",
              "[13045 rows x 12 columns]"
            ],
            "text/html": [
              "\n",
              "  <div id=\"df-9289436e-0853-49ef-887f-9429419a8edd\" class=\"colab-df-container\">\n",
              "    <div>\n",
              "<style scoped>\n",
              "    .dataframe tbody tr th:only-of-type {\n",
              "        vertical-align: middle;\n",
              "    }\n",
              "\n",
              "    .dataframe tbody tr th {\n",
              "        vertical-align: top;\n",
              "    }\n",
              "\n",
              "    .dataframe thead th {\n",
              "        text-align: right;\n",
              "    }\n",
              "</style>\n",
              "<table border=\"1\" class=\"dataframe\">\n",
              "  <thead>\n",
              "    <tr style=\"text-align: right;\">\n",
              "      <th></th>\n",
              "      <th>1</th>\n",
              "      <th>2</th>\n",
              "      <th>3</th>\n",
              "      <th>4</th>\n",
              "      <th>5</th>\n",
              "      <th>6</th>\n",
              "      <th>7</th>\n",
              "      <th>8</th>\n",
              "      <th>9</th>\n",
              "      <th>10</th>\n",
              "      <th>11</th>\n",
              "      <th>12</th>\n",
              "    </tr>\n",
              "  </thead>\n",
              "  <tbody>\n",
              "    <tr>\n",
              "      <th>0</th>\n",
              "      <td>6.32</td>\n",
              "      <td>40.46</td>\n",
              "      <td>37.12</td>\n",
              "      <td>125.77</td>\n",
              "      <td>1.30</td>\n",
              "      <td>4.27</td>\n",
              "      <td>0.08</td>\n",
              "      <td>47.56</td>\n",
              "      <td>No</td>\n",
              "      <td>Diarrhoea,Nausea,Breathing Difficulty,Methemog...</td>\n",
              "      <td>No</td>\n",
              "      <td>Yes</td>\n",
              "    </tr>\n",
              "    <tr>\n",
              "      <th>1</th>\n",
              "      <td>1.12</td>\n",
              "      <td>489.14</td>\n",
              "      <td>394.47</td>\n",
              "      <td>2.83</td>\n",
              "      <td>138.15</td>\n",
              "      <td>225.80</td>\n",
              "      <td>60.77</td>\n",
              "      <td>7.40</td>\n",
              "      <td>Yes</td>\n",
              "      <td>Safe</td>\n",
              "      <td>Yes</td>\n",
              "      <td>Yes</td>\n",
              "    </tr>\n",
              "    <tr>\n",
              "      <th>2</th>\n",
              "      <td>7.07</td>\n",
              "      <td>144.92</td>\n",
              "      <td>92.40</td>\n",
              "      <td>66.91</td>\n",
              "      <td>229.15</td>\n",
              "      <td>318.91</td>\n",
              "      <td>25.77</td>\n",
              "      <td>209.05</td>\n",
              "      <td>Yes</td>\n",
              "      <td>Safe</td>\n",
              "      <td>Yes</td>\n",
              "      <td>Yes</td>\n",
              "    </tr>\n",
              "    <tr>\n",
              "      <th>3</th>\n",
              "      <td>7.63</td>\n",
              "      <td>54.05</td>\n",
              "      <td>18.43</td>\n",
              "      <td>2.64</td>\n",
              "      <td>1.88</td>\n",
              "      <td>2.65</td>\n",
              "      <td>1.23</td>\n",
              "      <td>9.19</td>\n",
              "      <td>Yes</td>\n",
              "      <td>Safe</td>\n",
              "      <td>Yes</td>\n",
              "      <td>No</td>\n",
              "    </tr>\n",
              "    <tr>\n",
              "      <th>4</th>\n",
              "      <td>2.00</td>\n",
              "      <td>378.87</td>\n",
              "      <td>80.61</td>\n",
              "      <td>347.01</td>\n",
              "      <td>70.69</td>\n",
              "      <td>274.26</td>\n",
              "      <td>16.52</td>\n",
              "      <td>360.54</td>\n",
              "      <td>No</td>\n",
              "      <td>Breathing Difficulty,Anaemia,Stomach pain,Naus...</td>\n",
              "      <td>No</td>\n",
              "      <td>No</td>\n",
              "    </tr>\n",
              "    <tr>\n",
              "      <th>...</th>\n",
              "      <td>...</td>\n",
              "      <td>...</td>\n",
              "      <td>...</td>\n",
              "      <td>...</td>\n",
              "      <td>...</td>\n",
              "      <td>...</td>\n",
              "      <td>...</td>\n",
              "      <td>...</td>\n",
              "      <td>...</td>\n",
              "      <td>...</td>\n",
              "      <td>...</td>\n",
              "      <td>...</td>\n",
              "    </tr>\n",
              "    <tr>\n",
              "      <th>13040</th>\n",
              "      <td>7.67</td>\n",
              "      <td>43.06</td>\n",
              "      <td>16.36</td>\n",
              "      <td>3.16</td>\n",
              "      <td>4.95</td>\n",
              "      <td>4.17</td>\n",
              "      <td>0.29</td>\n",
              "      <td>6.95</td>\n",
              "      <td>Yes</td>\n",
              "      <td>Safe</td>\n",
              "      <td>Yes</td>\n",
              "      <td>No</td>\n",
              "    </tr>\n",
              "    <tr>\n",
              "      <th>13041</th>\n",
              "      <td>2.46</td>\n",
              "      <td>145.75</td>\n",
              "      <td>201.09</td>\n",
              "      <td>492.57</td>\n",
              "      <td>165.75</td>\n",
              "      <td>281.09</td>\n",
              "      <td>68.11</td>\n",
              "      <td>364.10</td>\n",
              "      <td>No</td>\n",
              "      <td>Breathing Difficulty,Anaemia,Stomach pain,Naus...</td>\n",
              "      <td>No</td>\n",
              "      <td>No</td>\n",
              "    </tr>\n",
              "    <tr>\n",
              "      <th>13042</th>\n",
              "      <td>10.75</td>\n",
              "      <td>110.05</td>\n",
              "      <td>99.68</td>\n",
              "      <td>165.52</td>\n",
              "      <td>137.66</td>\n",
              "      <td>184.49</td>\n",
              "      <td>29.32</td>\n",
              "      <td>68.67</td>\n",
              "      <td>No</td>\n",
              "      <td>Anaemia,Stomach pain,Nausea,Burns in mouth and...</td>\n",
              "      <td>Yes</td>\n",
              "      <td>No</td>\n",
              "    </tr>\n",
              "    <tr>\n",
              "      <th>13043</th>\n",
              "      <td>7.69</td>\n",
              "      <td>20.13</td>\n",
              "      <td>18.79</td>\n",
              "      <td>3.77</td>\n",
              "      <td>2.05</td>\n",
              "      <td>7.89</td>\n",
              "      <td>0.17</td>\n",
              "      <td>0.04</td>\n",
              "      <td>Yes</td>\n",
              "      <td>Safe</td>\n",
              "      <td>Yes</td>\n",
              "      <td>No</td>\n",
              "    </tr>\n",
              "    <tr>\n",
              "      <th>13044</th>\n",
              "      <td>8.61</td>\n",
              "      <td>31.45</td>\n",
              "      <td>73.96</td>\n",
              "      <td>67.16</td>\n",
              "      <td>124.52</td>\n",
              "      <td>54.71</td>\n",
              "      <td>8.75</td>\n",
              "      <td>273.74</td>\n",
              "      <td>No</td>\n",
              "      <td>Anaemia,Nausea,Bladder Cancer,Methemoglobinemi...</td>\n",
              "      <td>Yes</td>\n",
              "      <td>No</td>\n",
              "    </tr>\n",
              "  </tbody>\n",
              "</table>\n",
              "<p>13045 rows × 12 columns</p>\n",
              "</div>\n",
              "    <div class=\"colab-df-buttons\">\n",
              "\n",
              "  <div class=\"colab-df-container\">\n",
              "    <button class=\"colab-df-convert\" onclick=\"convertToInteractive('df-9289436e-0853-49ef-887f-9429419a8edd')\"\n",
              "            title=\"Convert this dataframe to an interactive table.\"\n",
              "            style=\"display:none;\">\n",
              "\n",
              "  <svg xmlns=\"http://www.w3.org/2000/svg\" height=\"24px\" viewBox=\"0 -960 960 960\">\n",
              "    <path d=\"M120-120v-720h720v720H120Zm60-500h600v-160H180v160Zm220 220h160v-160H400v160Zm0 220h160v-160H400v160ZM180-400h160v-160H180v160Zm440 0h160v-160H620v160ZM180-180h160v-160H180v160Zm440 0h160v-160H620v160Z\"/>\n",
              "  </svg>\n",
              "    </button>\n",
              "\n",
              "  <style>\n",
              "    .colab-df-container {\n",
              "      display:flex;\n",
              "      gap: 12px;\n",
              "    }\n",
              "\n",
              "    .colab-df-convert {\n",
              "      background-color: #E8F0FE;\n",
              "      border: none;\n",
              "      border-radius: 50%;\n",
              "      cursor: pointer;\n",
              "      display: none;\n",
              "      fill: #1967D2;\n",
              "      height: 32px;\n",
              "      padding: 0 0 0 0;\n",
              "      width: 32px;\n",
              "    }\n",
              "\n",
              "    .colab-df-convert:hover {\n",
              "      background-color: #E2EBFA;\n",
              "      box-shadow: 0px 1px 2px rgba(60, 64, 67, 0.3), 0px 1px 3px 1px rgba(60, 64, 67, 0.15);\n",
              "      fill: #174EA6;\n",
              "    }\n",
              "\n",
              "    .colab-df-buttons div {\n",
              "      margin-bottom: 4px;\n",
              "    }\n",
              "\n",
              "    [theme=dark] .colab-df-convert {\n",
              "      background-color: #3B4455;\n",
              "      fill: #D2E3FC;\n",
              "    }\n",
              "\n",
              "    [theme=dark] .colab-df-convert:hover {\n",
              "      background-color: #434B5C;\n",
              "      box-shadow: 0px 1px 3px 1px rgba(0, 0, 0, 0.15);\n",
              "      filter: drop-shadow(0px 1px 2px rgba(0, 0, 0, 0.3));\n",
              "      fill: #FFFFFF;\n",
              "    }\n",
              "  </style>\n",
              "\n",
              "    <script>\n",
              "      const buttonEl =\n",
              "        document.querySelector('#df-9289436e-0853-49ef-887f-9429419a8edd button.colab-df-convert');\n",
              "      buttonEl.style.display =\n",
              "        google.colab.kernel.accessAllowed ? 'block' : 'none';\n",
              "\n",
              "      async function convertToInteractive(key) {\n",
              "        const element = document.querySelector('#df-9289436e-0853-49ef-887f-9429419a8edd');\n",
              "        const dataTable =\n",
              "          await google.colab.kernel.invokeFunction('convertToInteractive',\n",
              "                                                    [key], {});\n",
              "        if (!dataTable) return;\n",
              "\n",
              "        const docLinkHtml = 'Like what you see? Visit the ' +\n",
              "          '<a target=\"_blank\" href=https://colab.research.google.com/notebooks/data_table.ipynb>data table notebook</a>'\n",
              "          + ' to learn more about interactive tables.';\n",
              "        element.innerHTML = '';\n",
              "        dataTable['output_type'] = 'display_data';\n",
              "        await google.colab.output.renderOutput(dataTable, element);\n",
              "        const docLink = document.createElement('div');\n",
              "        docLink.innerHTML = docLinkHtml;\n",
              "        element.appendChild(docLink);\n",
              "      }\n",
              "    </script>\n",
              "  </div>\n",
              "\n",
              "\n",
              "<div id=\"df-9fc1caf3-e228-4098-bd68-caaf39d2d352\">\n",
              "  <button class=\"colab-df-quickchart\" onclick=\"quickchart('df-9fc1caf3-e228-4098-bd68-caaf39d2d352')\"\n",
              "            title=\"Suggest charts\"\n",
              "            style=\"display:none;\">\n",
              "\n",
              "<svg xmlns=\"http://www.w3.org/2000/svg\" height=\"24px\"viewBox=\"0 0 24 24\"\n",
              "     width=\"24px\">\n",
              "    <g>\n",
              "        <path d=\"M19 3H5c-1.1 0-2 .9-2 2v14c0 1.1.9 2 2 2h14c1.1 0 2-.9 2-2V5c0-1.1-.9-2-2-2zM9 17H7v-7h2v7zm4 0h-2V7h2v10zm4 0h-2v-4h2v4z\"/>\n",
              "    </g>\n",
              "</svg>\n",
              "  </button>\n",
              "\n",
              "<style>\n",
              "  .colab-df-quickchart {\n",
              "      --bg-color: #E8F0FE;\n",
              "      --fill-color: #1967D2;\n",
              "      --hover-bg-color: #E2EBFA;\n",
              "      --hover-fill-color: #174EA6;\n",
              "      --disabled-fill-color: #AAA;\n",
              "      --disabled-bg-color: #DDD;\n",
              "  }\n",
              "\n",
              "  [theme=dark] .colab-df-quickchart {\n",
              "      --bg-color: #3B4455;\n",
              "      --fill-color: #D2E3FC;\n",
              "      --hover-bg-color: #434B5C;\n",
              "      --hover-fill-color: #FFFFFF;\n",
              "      --disabled-bg-color: #3B4455;\n",
              "      --disabled-fill-color: #666;\n",
              "  }\n",
              "\n",
              "  .colab-df-quickchart {\n",
              "    background-color: var(--bg-color);\n",
              "    border: none;\n",
              "    border-radius: 50%;\n",
              "    cursor: pointer;\n",
              "    display: none;\n",
              "    fill: var(--fill-color);\n",
              "    height: 32px;\n",
              "    padding: 0;\n",
              "    width: 32px;\n",
              "  }\n",
              "\n",
              "  .colab-df-quickchart:hover {\n",
              "    background-color: var(--hover-bg-color);\n",
              "    box-shadow: 0 1px 2px rgba(60, 64, 67, 0.3), 0 1px 3px 1px rgba(60, 64, 67, 0.15);\n",
              "    fill: var(--button-hover-fill-color);\n",
              "  }\n",
              "\n",
              "  .colab-df-quickchart-complete:disabled,\n",
              "  .colab-df-quickchart-complete:disabled:hover {\n",
              "    background-color: var(--disabled-bg-color);\n",
              "    fill: var(--disabled-fill-color);\n",
              "    box-shadow: none;\n",
              "  }\n",
              "\n",
              "  .colab-df-spinner {\n",
              "    border: 2px solid var(--fill-color);\n",
              "    border-color: transparent;\n",
              "    border-bottom-color: var(--fill-color);\n",
              "    animation:\n",
              "      spin 1s steps(1) infinite;\n",
              "  }\n",
              "\n",
              "  @keyframes spin {\n",
              "    0% {\n",
              "      border-color: transparent;\n",
              "      border-bottom-color: var(--fill-color);\n",
              "      border-left-color: var(--fill-color);\n",
              "    }\n",
              "    20% {\n",
              "      border-color: transparent;\n",
              "      border-left-color: var(--fill-color);\n",
              "      border-top-color: var(--fill-color);\n",
              "    }\n",
              "    30% {\n",
              "      border-color: transparent;\n",
              "      border-left-color: var(--fill-color);\n",
              "      border-top-color: var(--fill-color);\n",
              "      border-right-color: var(--fill-color);\n",
              "    }\n",
              "    40% {\n",
              "      border-color: transparent;\n",
              "      border-right-color: var(--fill-color);\n",
              "      border-top-color: var(--fill-color);\n",
              "    }\n",
              "    60% {\n",
              "      border-color: transparent;\n",
              "      border-right-color: var(--fill-color);\n",
              "    }\n",
              "    80% {\n",
              "      border-color: transparent;\n",
              "      border-right-color: var(--fill-color);\n",
              "      border-bottom-color: var(--fill-color);\n",
              "    }\n",
              "    90% {\n",
              "      border-color: transparent;\n",
              "      border-bottom-color: var(--fill-color);\n",
              "    }\n",
              "  }\n",
              "</style>\n",
              "\n",
              "  <script>\n",
              "    async function quickchart(key) {\n",
              "      const quickchartButtonEl =\n",
              "        document.querySelector('#' + key + ' button');\n",
              "      quickchartButtonEl.disabled = true;  // To prevent multiple clicks.\n",
              "      quickchartButtonEl.classList.add('colab-df-spinner');\n",
              "      try {\n",
              "        const charts = await google.colab.kernel.invokeFunction(\n",
              "            'suggestCharts', [key], {});\n",
              "      } catch (error) {\n",
              "        console.error('Error during call to suggestCharts:', error);\n",
              "      }\n",
              "      quickchartButtonEl.classList.remove('colab-df-spinner');\n",
              "      quickchartButtonEl.classList.add('colab-df-quickchart-complete');\n",
              "    }\n",
              "    (() => {\n",
              "      let quickchartButtonEl =\n",
              "        document.querySelector('#df-9fc1caf3-e228-4098-bd68-caaf39d2d352 button');\n",
              "      quickchartButtonEl.style.display =\n",
              "        google.colab.kernel.accessAllowed ? 'block' : 'none';\n",
              "    })();\n",
              "  </script>\n",
              "</div>\n",
              "\n",
              "  <div id=\"id_46ff07c9-7e82-4fa5-b9b3-550c218ae21f\">\n",
              "    <style>\n",
              "      .colab-df-generate {\n",
              "        background-color: #E8F0FE;\n",
              "        border: none;\n",
              "        border-radius: 50%;\n",
              "        cursor: pointer;\n",
              "        display: none;\n",
              "        fill: #1967D2;\n",
              "        height: 32px;\n",
              "        padding: 0 0 0 0;\n",
              "        width: 32px;\n",
              "      }\n",
              "\n",
              "      .colab-df-generate:hover {\n",
              "        background-color: #E2EBFA;\n",
              "        box-shadow: 0px 1px 2px rgba(60, 64, 67, 0.3), 0px 1px 3px 1px rgba(60, 64, 67, 0.15);\n",
              "        fill: #174EA6;\n",
              "      }\n",
              "\n",
              "      [theme=dark] .colab-df-generate {\n",
              "        background-color: #3B4455;\n",
              "        fill: #D2E3FC;\n",
              "      }\n",
              "\n",
              "      [theme=dark] .colab-df-generate:hover {\n",
              "        background-color: #434B5C;\n",
              "        box-shadow: 0px 1px 3px 1px rgba(0, 0, 0, 0.15);\n",
              "        filter: drop-shadow(0px 1px 2px rgba(0, 0, 0, 0.3));\n",
              "        fill: #FFFFFF;\n",
              "      }\n",
              "    </style>\n",
              "    <button class=\"colab-df-generate\" onclick=\"generateWithVariable('df')\"\n",
              "            title=\"Generate code using this dataframe.\"\n",
              "            style=\"display:none;\">\n",
              "\n",
              "  <svg xmlns=\"http://www.w3.org/2000/svg\" height=\"24px\"viewBox=\"0 0 24 24\"\n",
              "       width=\"24px\">\n",
              "    <path d=\"M7,19H8.4L18.45,9,17,7.55,7,17.6ZM5,21V16.75L18.45,3.32a2,2,0,0,1,2.83,0l1.4,1.43a1.91,1.91,0,0,1,.58,1.4,1.91,1.91,0,0,1-.58,1.4L9.25,21ZM18.45,9,17,7.55Zm-12,3A5.31,5.31,0,0,0,4.9,8.1,5.31,5.31,0,0,0,1,6.5,5.31,5.31,0,0,0,4.9,4.9,5.31,5.31,0,0,0,6.5,1,5.31,5.31,0,0,0,8.1,4.9,5.31,5.31,0,0,0,12,6.5,5.46,5.46,0,0,0,6.5,12Z\"/>\n",
              "  </svg>\n",
              "    </button>\n",
              "    <script>\n",
              "      (() => {\n",
              "      const buttonEl =\n",
              "        document.querySelector('#id_46ff07c9-7e82-4fa5-b9b3-550c218ae21f button.colab-df-generate');\n",
              "      buttonEl.style.display =\n",
              "        google.colab.kernel.accessAllowed ? 'block' : 'none';\n",
              "\n",
              "      buttonEl.onclick = () => {\n",
              "        google.colab.notebook.generateWithVariable('df');\n",
              "      }\n",
              "      })();\n",
              "    </script>\n",
              "  </div>\n",
              "\n",
              "    </div>\n",
              "  </div>\n"
            ],
            "application/vnd.google.colaboratory.intrinsic+json": {
              "type": "dataframe",
              "variable_name": "df",
              "summary": "{\n  \"name\": \"df\",\n  \"rows\": 13045,\n  \"fields\": [\n    {\n      \"column\": 1,\n      \"properties\": {\n        \"dtype\": \"number\",\n        \"std\": 2.72542360663915,\n        \"min\": 0.01,\n        \"max\": 14.0,\n        \"num_unique_values\": 1376,\n        \"samples\": [\n          9.67,\n          6.92,\n          3.95\n        ],\n        \"semantic_type\": \"\",\n        \"description\": \"\"\n      }\n    },\n    {\n      \"column\": 2,\n      \"properties\": {\n        \"dtype\": \"number\",\n        \"std\": 131.42677886527233,\n        \"min\": 0.3,\n        \"max\": 499.78,\n        \"num_unique_values\": 9453,\n        \"samples\": [\n          175.77,\n          322.57,\n          174.52\n        ],\n        \"semantic_type\": \"\",\n        \"description\": \"\"\n      }\n    },\n    {\n      \"column\": 3,\n      \"properties\": {\n        \"dtype\": \"number\",\n        \"std\": 107.0176726307343,\n        \"min\": 0.01,\n        \"max\": 399.98,\n        \"num_unique_values\": 9066,\n        \"samples\": [\n          50.12,\n          205.66,\n          375.22\n        ],\n        \"semantic_type\": \"\",\n        \"description\": \"\"\n      }\n    },\n    {\n      \"column\": 4,\n      \"properties\": {\n        \"dtype\": \"number\",\n        \"std\": 134.3645558176993,\n        \"min\": 0.0,\n        \"max\": 499.9,\n        \"num_unique_values\": 8379,\n        \"samples\": [\n          143.26,\n          384.53,\n          191.47\n        ],\n        \"semantic_type\": \"\",\n        \"description\": \"\"\n      }\n    },\n    {\n      \"column\": 5,\n      \"properties\": {\n        \"dtype\": \"number\",\n        \"std\": 114.32803254159022,\n        \"min\": 0.0,\n        \"max\": 399.8,\n        \"num_unique_values\": 6787,\n        \"samples\": [\n          161.24,\n          143.09,\n          145.81\n        ],\n        \"semantic_type\": \"\",\n        \"description\": \"\"\n      }\n    },\n    {\n      \"column\": 6,\n      \"properties\": {\n        \"dtype\": \"number\",\n        \"std\": 115.81389807891736,\n        \"min\": 0.0,\n        \"max\": 399.99,\n        \"num_unique_values\": 7143,\n        \"samples\": [\n          312.9,\n          114.35,\n          64.27\n        ],\n        \"semantic_type\": \"\",\n        \"description\": \"\"\n      }\n    },\n    {\n      \"column\": 7,\n      \"properties\": {\n        \"dtype\": \"number\",\n        \"std\": 28.26633119172211,\n        \"min\": 0.0,\n        \"max\": 99.99,\n        \"num_unique_values\": 4845,\n        \"samples\": [\n          40.53,\n          19.5,\n          11.62\n        ],\n        \"semantic_type\": \"\",\n        \"description\": \"\"\n      }\n    },\n    {\n      \"column\": 8,\n      \"properties\": {\n        \"dtype\": \"number\",\n        \"std\": 138.0028221663701,\n        \"min\": 0.0,\n        \"max\": 499.97,\n        \"num_unique_values\": 9175,\n        \"samples\": [\n          154.88,\n          34.47,\n          66.64\n        ],\n        \"semantic_type\": \"\",\n        \"description\": \"\"\n      }\n    },\n    {\n      \"column\": 9,\n      \"properties\": {\n        \"dtype\": \"category\",\n        \"num_unique_values\": 2,\n        \"samples\": [\n          \"Yes\",\n          \"No\"\n        ],\n        \"semantic_type\": \"\",\n        \"description\": \"\"\n      }\n    },\n    {\n      \"column\": 10,\n      \"properties\": {\n        \"dtype\": \"category\",\n        \"num_unique_values\": 43,\n        \"samples\": [\n          \"Leukaemia,Bladder Cancer,Anaemia,spasms\",\n          \"Stomach pain,Nausea,Burns in mouth and throat,Bladder Cancer,Methemoglobinemia,Diarrhoea\"\n        ],\n        \"semantic_type\": \"\",\n        \"description\": \"\"\n      }\n    },\n    {\n      \"column\": 11,\n      \"properties\": {\n        \"dtype\": \"category\",\n        \"num_unique_values\": 2,\n        \"samples\": [\n          \"Yes\",\n          \"No\"\n        ],\n        \"semantic_type\": \"\",\n        \"description\": \"\"\n      }\n    },\n    {\n      \"column\": 12,\n      \"properties\": {\n        \"dtype\": \"category\",\n        \"num_unique_values\": 2,\n        \"samples\": [\n          \"No\",\n          \"Yes\"\n        ],\n        \"semantic_type\": \"\",\n        \"description\": \"\"\n      }\n    }\n  ]\n}"
            }
          },
          "metadata": {},
          "execution_count": 5
        }
      ]
    },
    {
      "cell_type": "code",
      "source": [
        "#changing column names like in dataset\n",
        "df.rename(columns = {1: 'Ph',2:'Calcium(in ppm)',3:'Magnesium(in ppm)',4:'Chlorine(in ppm)',5:'Benzene(in ppb)',6:'THM(in ppb)',7:'Copper(in ppm)',8:'Nitrate(in ppm)',9:'Drinking Purpose',10:'Ailments',11:'Cement Industry Purpose',12:'Irrigation Purpose'}, inplace = True)\n",
        "df"
      ],
      "metadata": {
        "id": "y3XmhKRNbc1W",
        "colab": {
          "base_uri": "https://localhost:8080/",
          "height": 617
        },
        "outputId": "b7c69f58-048d-4c3e-9be2-2411d2c28e46"
      },
      "execution_count": 6,
      "outputs": [
        {
          "output_type": "execute_result",
          "data": {
            "text/plain": [
              "          Ph  Calcium(in ppm)  Magnesium(in ppm)  Chlorine(in ppm)  \\\n",
              "0       6.32            40.46              37.12            125.77   \n",
              "1       1.12           489.14             394.47              2.83   \n",
              "2       7.07           144.92              92.40             66.91   \n",
              "3       7.63            54.05              18.43              2.64   \n",
              "4       2.00           378.87              80.61            347.01   \n",
              "...      ...              ...                ...               ...   \n",
              "13040   7.67            43.06              16.36              3.16   \n",
              "13041   2.46           145.75             201.09            492.57   \n",
              "13042  10.75           110.05              99.68            165.52   \n",
              "13043   7.69            20.13              18.79              3.77   \n",
              "13044   8.61            31.45              73.96             67.16   \n",
              "\n",
              "       Benzene(in ppb)  THM(in ppb)  Copper(in ppm)  Nitrate(in ppm)  \\\n",
              "0                 1.30         4.27            0.08            47.56   \n",
              "1               138.15       225.80           60.77             7.40   \n",
              "2               229.15       318.91           25.77           209.05   \n",
              "3                 1.88         2.65            1.23             9.19   \n",
              "4                70.69       274.26           16.52           360.54   \n",
              "...                ...          ...             ...              ...   \n",
              "13040             4.95         4.17            0.29             6.95   \n",
              "13041           165.75       281.09           68.11           364.10   \n",
              "13042           137.66       184.49           29.32            68.67   \n",
              "13043             2.05         7.89            0.17             0.04   \n",
              "13044           124.52        54.71            8.75           273.74   \n",
              "\n",
              "      Drinking Purpose                                           Ailments  \\\n",
              "0                   No  Diarrhoea,Nausea,Breathing Difficulty,Methemog...   \n",
              "1                  Yes                                               Safe   \n",
              "2                  Yes                                               Safe   \n",
              "3                  Yes                                               Safe   \n",
              "4                   No  Breathing Difficulty,Anaemia,Stomach pain,Naus...   \n",
              "...                ...                                                ...   \n",
              "13040              Yes                                               Safe   \n",
              "13041               No  Breathing Difficulty,Anaemia,Stomach pain,Naus...   \n",
              "13042               No  Anaemia,Stomach pain,Nausea,Burns in mouth and...   \n",
              "13043              Yes                                               Safe   \n",
              "13044               No  Anaemia,Nausea,Bladder Cancer,Methemoglobinemi...   \n",
              "\n",
              "      Cement Industry Purpose Irrigation Purpose  \n",
              "0                          No                Yes  \n",
              "1                         Yes                Yes  \n",
              "2                         Yes                Yes  \n",
              "3                         Yes                 No  \n",
              "4                          No                 No  \n",
              "...                       ...                ...  \n",
              "13040                     Yes                 No  \n",
              "13041                      No                 No  \n",
              "13042                     Yes                 No  \n",
              "13043                     Yes                 No  \n",
              "13044                     Yes                 No  \n",
              "\n",
              "[13045 rows x 12 columns]"
            ],
            "text/html": [
              "\n",
              "  <div id=\"df-3c856c9e-f9af-4d6d-a482-0bc32345bf7d\" class=\"colab-df-container\">\n",
              "    <div>\n",
              "<style scoped>\n",
              "    .dataframe tbody tr th:only-of-type {\n",
              "        vertical-align: middle;\n",
              "    }\n",
              "\n",
              "    .dataframe tbody tr th {\n",
              "        vertical-align: top;\n",
              "    }\n",
              "\n",
              "    .dataframe thead th {\n",
              "        text-align: right;\n",
              "    }\n",
              "</style>\n",
              "<table border=\"1\" class=\"dataframe\">\n",
              "  <thead>\n",
              "    <tr style=\"text-align: right;\">\n",
              "      <th></th>\n",
              "      <th>Ph</th>\n",
              "      <th>Calcium(in ppm)</th>\n",
              "      <th>Magnesium(in ppm)</th>\n",
              "      <th>Chlorine(in ppm)</th>\n",
              "      <th>Benzene(in ppb)</th>\n",
              "      <th>THM(in ppb)</th>\n",
              "      <th>Copper(in ppm)</th>\n",
              "      <th>Nitrate(in ppm)</th>\n",
              "      <th>Drinking Purpose</th>\n",
              "      <th>Ailments</th>\n",
              "      <th>Cement Industry Purpose</th>\n",
              "      <th>Irrigation Purpose</th>\n",
              "    </tr>\n",
              "  </thead>\n",
              "  <tbody>\n",
              "    <tr>\n",
              "      <th>0</th>\n",
              "      <td>6.32</td>\n",
              "      <td>40.46</td>\n",
              "      <td>37.12</td>\n",
              "      <td>125.77</td>\n",
              "      <td>1.30</td>\n",
              "      <td>4.27</td>\n",
              "      <td>0.08</td>\n",
              "      <td>47.56</td>\n",
              "      <td>No</td>\n",
              "      <td>Diarrhoea,Nausea,Breathing Difficulty,Methemog...</td>\n",
              "      <td>No</td>\n",
              "      <td>Yes</td>\n",
              "    </tr>\n",
              "    <tr>\n",
              "      <th>1</th>\n",
              "      <td>1.12</td>\n",
              "      <td>489.14</td>\n",
              "      <td>394.47</td>\n",
              "      <td>2.83</td>\n",
              "      <td>138.15</td>\n",
              "      <td>225.80</td>\n",
              "      <td>60.77</td>\n",
              "      <td>7.40</td>\n",
              "      <td>Yes</td>\n",
              "      <td>Safe</td>\n",
              "      <td>Yes</td>\n",
              "      <td>Yes</td>\n",
              "    </tr>\n",
              "    <tr>\n",
              "      <th>2</th>\n",
              "      <td>7.07</td>\n",
              "      <td>144.92</td>\n",
              "      <td>92.40</td>\n",
              "      <td>66.91</td>\n",
              "      <td>229.15</td>\n",
              "      <td>318.91</td>\n",
              "      <td>25.77</td>\n",
              "      <td>209.05</td>\n",
              "      <td>Yes</td>\n",
              "      <td>Safe</td>\n",
              "      <td>Yes</td>\n",
              "      <td>Yes</td>\n",
              "    </tr>\n",
              "    <tr>\n",
              "      <th>3</th>\n",
              "      <td>7.63</td>\n",
              "      <td>54.05</td>\n",
              "      <td>18.43</td>\n",
              "      <td>2.64</td>\n",
              "      <td>1.88</td>\n",
              "      <td>2.65</td>\n",
              "      <td>1.23</td>\n",
              "      <td>9.19</td>\n",
              "      <td>Yes</td>\n",
              "      <td>Safe</td>\n",
              "      <td>Yes</td>\n",
              "      <td>No</td>\n",
              "    </tr>\n",
              "    <tr>\n",
              "      <th>4</th>\n",
              "      <td>2.00</td>\n",
              "      <td>378.87</td>\n",
              "      <td>80.61</td>\n",
              "      <td>347.01</td>\n",
              "      <td>70.69</td>\n",
              "      <td>274.26</td>\n",
              "      <td>16.52</td>\n",
              "      <td>360.54</td>\n",
              "      <td>No</td>\n",
              "      <td>Breathing Difficulty,Anaemia,Stomach pain,Naus...</td>\n",
              "      <td>No</td>\n",
              "      <td>No</td>\n",
              "    </tr>\n",
              "    <tr>\n",
              "      <th>...</th>\n",
              "      <td>...</td>\n",
              "      <td>...</td>\n",
              "      <td>...</td>\n",
              "      <td>...</td>\n",
              "      <td>...</td>\n",
              "      <td>...</td>\n",
              "      <td>...</td>\n",
              "      <td>...</td>\n",
              "      <td>...</td>\n",
              "      <td>...</td>\n",
              "      <td>...</td>\n",
              "      <td>...</td>\n",
              "    </tr>\n",
              "    <tr>\n",
              "      <th>13040</th>\n",
              "      <td>7.67</td>\n",
              "      <td>43.06</td>\n",
              "      <td>16.36</td>\n",
              "      <td>3.16</td>\n",
              "      <td>4.95</td>\n",
              "      <td>4.17</td>\n",
              "      <td>0.29</td>\n",
              "      <td>6.95</td>\n",
              "      <td>Yes</td>\n",
              "      <td>Safe</td>\n",
              "      <td>Yes</td>\n",
              "      <td>No</td>\n",
              "    </tr>\n",
              "    <tr>\n",
              "      <th>13041</th>\n",
              "      <td>2.46</td>\n",
              "      <td>145.75</td>\n",
              "      <td>201.09</td>\n",
              "      <td>492.57</td>\n",
              "      <td>165.75</td>\n",
              "      <td>281.09</td>\n",
              "      <td>68.11</td>\n",
              "      <td>364.10</td>\n",
              "      <td>No</td>\n",
              "      <td>Breathing Difficulty,Anaemia,Stomach pain,Naus...</td>\n",
              "      <td>No</td>\n",
              "      <td>No</td>\n",
              "    </tr>\n",
              "    <tr>\n",
              "      <th>13042</th>\n",
              "      <td>10.75</td>\n",
              "      <td>110.05</td>\n",
              "      <td>99.68</td>\n",
              "      <td>165.52</td>\n",
              "      <td>137.66</td>\n",
              "      <td>184.49</td>\n",
              "      <td>29.32</td>\n",
              "      <td>68.67</td>\n",
              "      <td>No</td>\n",
              "      <td>Anaemia,Stomach pain,Nausea,Burns in mouth and...</td>\n",
              "      <td>Yes</td>\n",
              "      <td>No</td>\n",
              "    </tr>\n",
              "    <tr>\n",
              "      <th>13043</th>\n",
              "      <td>7.69</td>\n",
              "      <td>20.13</td>\n",
              "      <td>18.79</td>\n",
              "      <td>3.77</td>\n",
              "      <td>2.05</td>\n",
              "      <td>7.89</td>\n",
              "      <td>0.17</td>\n",
              "      <td>0.04</td>\n",
              "      <td>Yes</td>\n",
              "      <td>Safe</td>\n",
              "      <td>Yes</td>\n",
              "      <td>No</td>\n",
              "    </tr>\n",
              "    <tr>\n",
              "      <th>13044</th>\n",
              "      <td>8.61</td>\n",
              "      <td>31.45</td>\n",
              "      <td>73.96</td>\n",
              "      <td>67.16</td>\n",
              "      <td>124.52</td>\n",
              "      <td>54.71</td>\n",
              "      <td>8.75</td>\n",
              "      <td>273.74</td>\n",
              "      <td>No</td>\n",
              "      <td>Anaemia,Nausea,Bladder Cancer,Methemoglobinemi...</td>\n",
              "      <td>Yes</td>\n",
              "      <td>No</td>\n",
              "    </tr>\n",
              "  </tbody>\n",
              "</table>\n",
              "<p>13045 rows × 12 columns</p>\n",
              "</div>\n",
              "    <div class=\"colab-df-buttons\">\n",
              "\n",
              "  <div class=\"colab-df-container\">\n",
              "    <button class=\"colab-df-convert\" onclick=\"convertToInteractive('df-3c856c9e-f9af-4d6d-a482-0bc32345bf7d')\"\n",
              "            title=\"Convert this dataframe to an interactive table.\"\n",
              "            style=\"display:none;\">\n",
              "\n",
              "  <svg xmlns=\"http://www.w3.org/2000/svg\" height=\"24px\" viewBox=\"0 -960 960 960\">\n",
              "    <path d=\"M120-120v-720h720v720H120Zm60-500h600v-160H180v160Zm220 220h160v-160H400v160Zm0 220h160v-160H400v160ZM180-400h160v-160H180v160Zm440 0h160v-160H620v160ZM180-180h160v-160H180v160Zm440 0h160v-160H620v160Z\"/>\n",
              "  </svg>\n",
              "    </button>\n",
              "\n",
              "  <style>\n",
              "    .colab-df-container {\n",
              "      display:flex;\n",
              "      gap: 12px;\n",
              "    }\n",
              "\n",
              "    .colab-df-convert {\n",
              "      background-color: #E8F0FE;\n",
              "      border: none;\n",
              "      border-radius: 50%;\n",
              "      cursor: pointer;\n",
              "      display: none;\n",
              "      fill: #1967D2;\n",
              "      height: 32px;\n",
              "      padding: 0 0 0 0;\n",
              "      width: 32px;\n",
              "    }\n",
              "\n",
              "    .colab-df-convert:hover {\n",
              "      background-color: #E2EBFA;\n",
              "      box-shadow: 0px 1px 2px rgba(60, 64, 67, 0.3), 0px 1px 3px 1px rgba(60, 64, 67, 0.15);\n",
              "      fill: #174EA6;\n",
              "    }\n",
              "\n",
              "    .colab-df-buttons div {\n",
              "      margin-bottom: 4px;\n",
              "    }\n",
              "\n",
              "    [theme=dark] .colab-df-convert {\n",
              "      background-color: #3B4455;\n",
              "      fill: #D2E3FC;\n",
              "    }\n",
              "\n",
              "    [theme=dark] .colab-df-convert:hover {\n",
              "      background-color: #434B5C;\n",
              "      box-shadow: 0px 1px 3px 1px rgba(0, 0, 0, 0.15);\n",
              "      filter: drop-shadow(0px 1px 2px rgba(0, 0, 0, 0.3));\n",
              "      fill: #FFFFFF;\n",
              "    }\n",
              "  </style>\n",
              "\n",
              "    <script>\n",
              "      const buttonEl =\n",
              "        document.querySelector('#df-3c856c9e-f9af-4d6d-a482-0bc32345bf7d button.colab-df-convert');\n",
              "      buttonEl.style.display =\n",
              "        google.colab.kernel.accessAllowed ? 'block' : 'none';\n",
              "\n",
              "      async function convertToInteractive(key) {\n",
              "        const element = document.querySelector('#df-3c856c9e-f9af-4d6d-a482-0bc32345bf7d');\n",
              "        const dataTable =\n",
              "          await google.colab.kernel.invokeFunction('convertToInteractive',\n",
              "                                                    [key], {});\n",
              "        if (!dataTable) return;\n",
              "\n",
              "        const docLinkHtml = 'Like what you see? Visit the ' +\n",
              "          '<a target=\"_blank\" href=https://colab.research.google.com/notebooks/data_table.ipynb>data table notebook</a>'\n",
              "          + ' to learn more about interactive tables.';\n",
              "        element.innerHTML = '';\n",
              "        dataTable['output_type'] = 'display_data';\n",
              "        await google.colab.output.renderOutput(dataTable, element);\n",
              "        const docLink = document.createElement('div');\n",
              "        docLink.innerHTML = docLinkHtml;\n",
              "        element.appendChild(docLink);\n",
              "      }\n",
              "    </script>\n",
              "  </div>\n",
              "\n",
              "\n",
              "<div id=\"df-a23f12bf-9a27-4729-b4f5-434af8c45eb1\">\n",
              "  <button class=\"colab-df-quickchart\" onclick=\"quickchart('df-a23f12bf-9a27-4729-b4f5-434af8c45eb1')\"\n",
              "            title=\"Suggest charts\"\n",
              "            style=\"display:none;\">\n",
              "\n",
              "<svg xmlns=\"http://www.w3.org/2000/svg\" height=\"24px\"viewBox=\"0 0 24 24\"\n",
              "     width=\"24px\">\n",
              "    <g>\n",
              "        <path d=\"M19 3H5c-1.1 0-2 .9-2 2v14c0 1.1.9 2 2 2h14c1.1 0 2-.9 2-2V5c0-1.1-.9-2-2-2zM9 17H7v-7h2v7zm4 0h-2V7h2v10zm4 0h-2v-4h2v4z\"/>\n",
              "    </g>\n",
              "</svg>\n",
              "  </button>\n",
              "\n",
              "<style>\n",
              "  .colab-df-quickchart {\n",
              "      --bg-color: #E8F0FE;\n",
              "      --fill-color: #1967D2;\n",
              "      --hover-bg-color: #E2EBFA;\n",
              "      --hover-fill-color: #174EA6;\n",
              "      --disabled-fill-color: #AAA;\n",
              "      --disabled-bg-color: #DDD;\n",
              "  }\n",
              "\n",
              "  [theme=dark] .colab-df-quickchart {\n",
              "      --bg-color: #3B4455;\n",
              "      --fill-color: #D2E3FC;\n",
              "      --hover-bg-color: #434B5C;\n",
              "      --hover-fill-color: #FFFFFF;\n",
              "      --disabled-bg-color: #3B4455;\n",
              "      --disabled-fill-color: #666;\n",
              "  }\n",
              "\n",
              "  .colab-df-quickchart {\n",
              "    background-color: var(--bg-color);\n",
              "    border: none;\n",
              "    border-radius: 50%;\n",
              "    cursor: pointer;\n",
              "    display: none;\n",
              "    fill: var(--fill-color);\n",
              "    height: 32px;\n",
              "    padding: 0;\n",
              "    width: 32px;\n",
              "  }\n",
              "\n",
              "  .colab-df-quickchart:hover {\n",
              "    background-color: var(--hover-bg-color);\n",
              "    box-shadow: 0 1px 2px rgba(60, 64, 67, 0.3), 0 1px 3px 1px rgba(60, 64, 67, 0.15);\n",
              "    fill: var(--button-hover-fill-color);\n",
              "  }\n",
              "\n",
              "  .colab-df-quickchart-complete:disabled,\n",
              "  .colab-df-quickchart-complete:disabled:hover {\n",
              "    background-color: var(--disabled-bg-color);\n",
              "    fill: var(--disabled-fill-color);\n",
              "    box-shadow: none;\n",
              "  }\n",
              "\n",
              "  .colab-df-spinner {\n",
              "    border: 2px solid var(--fill-color);\n",
              "    border-color: transparent;\n",
              "    border-bottom-color: var(--fill-color);\n",
              "    animation:\n",
              "      spin 1s steps(1) infinite;\n",
              "  }\n",
              "\n",
              "  @keyframes spin {\n",
              "    0% {\n",
              "      border-color: transparent;\n",
              "      border-bottom-color: var(--fill-color);\n",
              "      border-left-color: var(--fill-color);\n",
              "    }\n",
              "    20% {\n",
              "      border-color: transparent;\n",
              "      border-left-color: var(--fill-color);\n",
              "      border-top-color: var(--fill-color);\n",
              "    }\n",
              "    30% {\n",
              "      border-color: transparent;\n",
              "      border-left-color: var(--fill-color);\n",
              "      border-top-color: var(--fill-color);\n",
              "      border-right-color: var(--fill-color);\n",
              "    }\n",
              "    40% {\n",
              "      border-color: transparent;\n",
              "      border-right-color: var(--fill-color);\n",
              "      border-top-color: var(--fill-color);\n",
              "    }\n",
              "    60% {\n",
              "      border-color: transparent;\n",
              "      border-right-color: var(--fill-color);\n",
              "    }\n",
              "    80% {\n",
              "      border-color: transparent;\n",
              "      border-right-color: var(--fill-color);\n",
              "      border-bottom-color: var(--fill-color);\n",
              "    }\n",
              "    90% {\n",
              "      border-color: transparent;\n",
              "      border-bottom-color: var(--fill-color);\n",
              "    }\n",
              "  }\n",
              "</style>\n",
              "\n",
              "  <script>\n",
              "    async function quickchart(key) {\n",
              "      const quickchartButtonEl =\n",
              "        document.querySelector('#' + key + ' button');\n",
              "      quickchartButtonEl.disabled = true;  // To prevent multiple clicks.\n",
              "      quickchartButtonEl.classList.add('colab-df-spinner');\n",
              "      try {\n",
              "        const charts = await google.colab.kernel.invokeFunction(\n",
              "            'suggestCharts', [key], {});\n",
              "      } catch (error) {\n",
              "        console.error('Error during call to suggestCharts:', error);\n",
              "      }\n",
              "      quickchartButtonEl.classList.remove('colab-df-spinner');\n",
              "      quickchartButtonEl.classList.add('colab-df-quickchart-complete');\n",
              "    }\n",
              "    (() => {\n",
              "      let quickchartButtonEl =\n",
              "        document.querySelector('#df-a23f12bf-9a27-4729-b4f5-434af8c45eb1 button');\n",
              "      quickchartButtonEl.style.display =\n",
              "        google.colab.kernel.accessAllowed ? 'block' : 'none';\n",
              "    })();\n",
              "  </script>\n",
              "</div>\n",
              "\n",
              "  <div id=\"id_9a9fbbbb-c6a9-413d-b0be-293e6eb0fa92\">\n",
              "    <style>\n",
              "      .colab-df-generate {\n",
              "        background-color: #E8F0FE;\n",
              "        border: none;\n",
              "        border-radius: 50%;\n",
              "        cursor: pointer;\n",
              "        display: none;\n",
              "        fill: #1967D2;\n",
              "        height: 32px;\n",
              "        padding: 0 0 0 0;\n",
              "        width: 32px;\n",
              "      }\n",
              "\n",
              "      .colab-df-generate:hover {\n",
              "        background-color: #E2EBFA;\n",
              "        box-shadow: 0px 1px 2px rgba(60, 64, 67, 0.3), 0px 1px 3px 1px rgba(60, 64, 67, 0.15);\n",
              "        fill: #174EA6;\n",
              "      }\n",
              "\n",
              "      [theme=dark] .colab-df-generate {\n",
              "        background-color: #3B4455;\n",
              "        fill: #D2E3FC;\n",
              "      }\n",
              "\n",
              "      [theme=dark] .colab-df-generate:hover {\n",
              "        background-color: #434B5C;\n",
              "        box-shadow: 0px 1px 3px 1px rgba(0, 0, 0, 0.15);\n",
              "        filter: drop-shadow(0px 1px 2px rgba(0, 0, 0, 0.3));\n",
              "        fill: #FFFFFF;\n",
              "      }\n",
              "    </style>\n",
              "    <button class=\"colab-df-generate\" onclick=\"generateWithVariable('df')\"\n",
              "            title=\"Generate code using this dataframe.\"\n",
              "            style=\"display:none;\">\n",
              "\n",
              "  <svg xmlns=\"http://www.w3.org/2000/svg\" height=\"24px\"viewBox=\"0 0 24 24\"\n",
              "       width=\"24px\">\n",
              "    <path d=\"M7,19H8.4L18.45,9,17,7.55,7,17.6ZM5,21V16.75L18.45,3.32a2,2,0,0,1,2.83,0l1.4,1.43a1.91,1.91,0,0,1,.58,1.4,1.91,1.91,0,0,1-.58,1.4L9.25,21ZM18.45,9,17,7.55Zm-12,3A5.31,5.31,0,0,0,4.9,8.1,5.31,5.31,0,0,0,1,6.5,5.31,5.31,0,0,0,4.9,4.9,5.31,5.31,0,0,0,6.5,1,5.31,5.31,0,0,0,8.1,4.9,5.31,5.31,0,0,0,12,6.5,5.46,5.46,0,0,0,6.5,12Z\"/>\n",
              "  </svg>\n",
              "    </button>\n",
              "    <script>\n",
              "      (() => {\n",
              "      const buttonEl =\n",
              "        document.querySelector('#id_9a9fbbbb-c6a9-413d-b0be-293e6eb0fa92 button.colab-df-generate');\n",
              "      buttonEl.style.display =\n",
              "        google.colab.kernel.accessAllowed ? 'block' : 'none';\n",
              "\n",
              "      buttonEl.onclick = () => {\n",
              "        google.colab.notebook.generateWithVariable('df');\n",
              "      }\n",
              "      })();\n",
              "    </script>\n",
              "  </div>\n",
              "\n",
              "    </div>\n",
              "  </div>\n"
            ],
            "application/vnd.google.colaboratory.intrinsic+json": {
              "type": "dataframe",
              "variable_name": "df",
              "summary": "{\n  \"name\": \"df\",\n  \"rows\": 13045,\n  \"fields\": [\n    {\n      \"column\": \"Ph\",\n      \"properties\": {\n        \"dtype\": \"number\",\n        \"std\": 2.72542360663915,\n        \"min\": 0.01,\n        \"max\": 14.0,\n        \"num_unique_values\": 1376,\n        \"samples\": [\n          9.67,\n          6.92,\n          3.95\n        ],\n        \"semantic_type\": \"\",\n        \"description\": \"\"\n      }\n    },\n    {\n      \"column\": \"Calcium(in ppm)\",\n      \"properties\": {\n        \"dtype\": \"number\",\n        \"std\": 131.42677886527233,\n        \"min\": 0.3,\n        \"max\": 499.78,\n        \"num_unique_values\": 9453,\n        \"samples\": [\n          175.77,\n          322.57,\n          174.52\n        ],\n        \"semantic_type\": \"\",\n        \"description\": \"\"\n      }\n    },\n    {\n      \"column\": \"Magnesium(in ppm)\",\n      \"properties\": {\n        \"dtype\": \"number\",\n        \"std\": 107.0176726307343,\n        \"min\": 0.01,\n        \"max\": 399.98,\n        \"num_unique_values\": 9066,\n        \"samples\": [\n          50.12,\n          205.66,\n          375.22\n        ],\n        \"semantic_type\": \"\",\n        \"description\": \"\"\n      }\n    },\n    {\n      \"column\": \"Chlorine(in ppm)\",\n      \"properties\": {\n        \"dtype\": \"number\",\n        \"std\": 134.3645558176993,\n        \"min\": 0.0,\n        \"max\": 499.9,\n        \"num_unique_values\": 8379,\n        \"samples\": [\n          143.26,\n          384.53,\n          191.47\n        ],\n        \"semantic_type\": \"\",\n        \"description\": \"\"\n      }\n    },\n    {\n      \"column\": \"Benzene(in ppb)\",\n      \"properties\": {\n        \"dtype\": \"number\",\n        \"std\": 114.32803254159022,\n        \"min\": 0.0,\n        \"max\": 399.8,\n        \"num_unique_values\": 6787,\n        \"samples\": [\n          161.24,\n          143.09,\n          145.81\n        ],\n        \"semantic_type\": \"\",\n        \"description\": \"\"\n      }\n    },\n    {\n      \"column\": \"THM(in ppb)\",\n      \"properties\": {\n        \"dtype\": \"number\",\n        \"std\": 115.81389807891736,\n        \"min\": 0.0,\n        \"max\": 399.99,\n        \"num_unique_values\": 7143,\n        \"samples\": [\n          312.9,\n          114.35,\n          64.27\n        ],\n        \"semantic_type\": \"\",\n        \"description\": \"\"\n      }\n    },\n    {\n      \"column\": \"Copper(in ppm)\",\n      \"properties\": {\n        \"dtype\": \"number\",\n        \"std\": 28.26633119172211,\n        \"min\": 0.0,\n        \"max\": 99.99,\n        \"num_unique_values\": 4845,\n        \"samples\": [\n          40.53,\n          19.5,\n          11.62\n        ],\n        \"semantic_type\": \"\",\n        \"description\": \"\"\n      }\n    },\n    {\n      \"column\": \"Nitrate(in ppm)\",\n      \"properties\": {\n        \"dtype\": \"number\",\n        \"std\": 138.0028221663701,\n        \"min\": 0.0,\n        \"max\": 499.97,\n        \"num_unique_values\": 9175,\n        \"samples\": [\n          154.88,\n          34.47,\n          66.64\n        ],\n        \"semantic_type\": \"\",\n        \"description\": \"\"\n      }\n    },\n    {\n      \"column\": \"Drinking Purpose\",\n      \"properties\": {\n        \"dtype\": \"category\",\n        \"num_unique_values\": 2,\n        \"samples\": [\n          \"Yes\",\n          \"No\"\n        ],\n        \"semantic_type\": \"\",\n        \"description\": \"\"\n      }\n    },\n    {\n      \"column\": \"Ailments\",\n      \"properties\": {\n        \"dtype\": \"category\",\n        \"num_unique_values\": 43,\n        \"samples\": [\n          \"Leukaemia,Bladder Cancer,Anaemia,spasms\",\n          \"Stomach pain,Nausea,Burns in mouth and throat,Bladder Cancer,Methemoglobinemia,Diarrhoea\"\n        ],\n        \"semantic_type\": \"\",\n        \"description\": \"\"\n      }\n    },\n    {\n      \"column\": \"Cement Industry Purpose\",\n      \"properties\": {\n        \"dtype\": \"category\",\n        \"num_unique_values\": 2,\n        \"samples\": [\n          \"Yes\",\n          \"No\"\n        ],\n        \"semantic_type\": \"\",\n        \"description\": \"\"\n      }\n    },\n    {\n      \"column\": \"Irrigation Purpose\",\n      \"properties\": {\n        \"dtype\": \"category\",\n        \"num_unique_values\": 2,\n        \"samples\": [\n          \"No\",\n          \"Yes\"\n        ],\n        \"semantic_type\": \"\",\n        \"description\": \"\"\n      }\n    }\n  ]\n}"
            }
          },
          "metadata": {},
          "execution_count": 6
        }
      ]
    },
    {
      "cell_type": "code",
      "source": [
        "df.head(10) # displays first 10 rows"
      ],
      "metadata": {
        "id": "GXJ411LQbf5x",
        "colab": {
          "base_uri": "https://localhost:8080/",
          "height": 556
        },
        "outputId": "203dfbd5-80a8-44b2-eff4-82dd7ca766f4"
      },
      "execution_count": 7,
      "outputs": [
        {
          "output_type": "execute_result",
          "data": {
            "text/plain": [
              "      Ph  Calcium(in ppm)  Magnesium(in ppm)  Chlorine(in ppm)  \\\n",
              "0   6.32            40.46              37.12            125.77   \n",
              "1   1.12           489.14             394.47              2.83   \n",
              "2   7.07           144.92              92.40             66.91   \n",
              "3   7.63            54.05              18.43              2.64   \n",
              "4   2.00           378.87              80.61            347.01   \n",
              "5   2.26           480.41             224.66            138.56   \n",
              "6   8.34            43.37              16.02              3.19   \n",
              "7  12.91           178.35             338.96            344.27   \n",
              "8   6.78            11.53             288.38            287.67   \n",
              "9   6.34            35.41              35.84             55.93   \n",
              "\n",
              "   Benzene(in ppb)  THM(in ppb)  Copper(in ppm)  Nitrate(in ppm)  \\\n",
              "0             1.30         4.27            0.08            47.56   \n",
              "1           138.15       225.80           60.77             7.40   \n",
              "2           229.15       318.91           25.77           209.05   \n",
              "3             1.88         2.65            1.23             9.19   \n",
              "4            70.69       274.26           16.52           360.54   \n",
              "5             2.03       215.41           79.71           375.32   \n",
              "6             1.65         3.32            1.65             4.64   \n",
              "7            84.55       255.88           60.86           485.47   \n",
              "8           256.86        63.03           85.17           134.51   \n",
              "9             2.70         0.79            0.05           136.75   \n",
              "\n",
              "  Drinking Purpose                                           Ailments  \\\n",
              "0               No  Diarrhoea,Nausea,Breathing Difficulty,Methemog...   \n",
              "1              Yes                                               Safe   \n",
              "2              Yes                                               Safe   \n",
              "3              Yes                                               Safe   \n",
              "4               No  Breathing Difficulty,Anaemia,Stomach pain,Naus...   \n",
              "5               No  Breathing Difficulty,Stomach pain,Nausea,Burns...   \n",
              "6              Yes                                               Safe   \n",
              "7               No  Anaemia,Stomach pain,Nausea,Burns in mouth and...   \n",
              "8               No  Anaemia,Nausea,Bladder Cancer,Methemoglobinemi...   \n",
              "9               No  Diarrhoea,Nausea,Breathing Difficulty,Methemog...   \n",
              "\n",
              "  Cement Industry Purpose Irrigation Purpose  \n",
              "0                      No                Yes  \n",
              "1                     Yes                Yes  \n",
              "2                     Yes                Yes  \n",
              "3                     Yes                 No  \n",
              "4                      No                 No  \n",
              "5                      No                 No  \n",
              "6                     Yes                 No  \n",
              "7                      No                 No  \n",
              "8                      No                 No  \n",
              "9                      No                Yes  "
            ],
            "text/html": [
              "\n",
              "  <div id=\"df-2d0ca1f8-6075-473b-b431-0f35a0cd6f8f\" class=\"colab-df-container\">\n",
              "    <div>\n",
              "<style scoped>\n",
              "    .dataframe tbody tr th:only-of-type {\n",
              "        vertical-align: middle;\n",
              "    }\n",
              "\n",
              "    .dataframe tbody tr th {\n",
              "        vertical-align: top;\n",
              "    }\n",
              "\n",
              "    .dataframe thead th {\n",
              "        text-align: right;\n",
              "    }\n",
              "</style>\n",
              "<table border=\"1\" class=\"dataframe\">\n",
              "  <thead>\n",
              "    <tr style=\"text-align: right;\">\n",
              "      <th></th>\n",
              "      <th>Ph</th>\n",
              "      <th>Calcium(in ppm)</th>\n",
              "      <th>Magnesium(in ppm)</th>\n",
              "      <th>Chlorine(in ppm)</th>\n",
              "      <th>Benzene(in ppb)</th>\n",
              "      <th>THM(in ppb)</th>\n",
              "      <th>Copper(in ppm)</th>\n",
              "      <th>Nitrate(in ppm)</th>\n",
              "      <th>Drinking Purpose</th>\n",
              "      <th>Ailments</th>\n",
              "      <th>Cement Industry Purpose</th>\n",
              "      <th>Irrigation Purpose</th>\n",
              "    </tr>\n",
              "  </thead>\n",
              "  <tbody>\n",
              "    <tr>\n",
              "      <th>0</th>\n",
              "      <td>6.32</td>\n",
              "      <td>40.46</td>\n",
              "      <td>37.12</td>\n",
              "      <td>125.77</td>\n",
              "      <td>1.30</td>\n",
              "      <td>4.27</td>\n",
              "      <td>0.08</td>\n",
              "      <td>47.56</td>\n",
              "      <td>No</td>\n",
              "      <td>Diarrhoea,Nausea,Breathing Difficulty,Methemog...</td>\n",
              "      <td>No</td>\n",
              "      <td>Yes</td>\n",
              "    </tr>\n",
              "    <tr>\n",
              "      <th>1</th>\n",
              "      <td>1.12</td>\n",
              "      <td>489.14</td>\n",
              "      <td>394.47</td>\n",
              "      <td>2.83</td>\n",
              "      <td>138.15</td>\n",
              "      <td>225.80</td>\n",
              "      <td>60.77</td>\n",
              "      <td>7.40</td>\n",
              "      <td>Yes</td>\n",
              "      <td>Safe</td>\n",
              "      <td>Yes</td>\n",
              "      <td>Yes</td>\n",
              "    </tr>\n",
              "    <tr>\n",
              "      <th>2</th>\n",
              "      <td>7.07</td>\n",
              "      <td>144.92</td>\n",
              "      <td>92.40</td>\n",
              "      <td>66.91</td>\n",
              "      <td>229.15</td>\n",
              "      <td>318.91</td>\n",
              "      <td>25.77</td>\n",
              "      <td>209.05</td>\n",
              "      <td>Yes</td>\n",
              "      <td>Safe</td>\n",
              "      <td>Yes</td>\n",
              "      <td>Yes</td>\n",
              "    </tr>\n",
              "    <tr>\n",
              "      <th>3</th>\n",
              "      <td>7.63</td>\n",
              "      <td>54.05</td>\n",
              "      <td>18.43</td>\n",
              "      <td>2.64</td>\n",
              "      <td>1.88</td>\n",
              "      <td>2.65</td>\n",
              "      <td>1.23</td>\n",
              "      <td>9.19</td>\n",
              "      <td>Yes</td>\n",
              "      <td>Safe</td>\n",
              "      <td>Yes</td>\n",
              "      <td>No</td>\n",
              "    </tr>\n",
              "    <tr>\n",
              "      <th>4</th>\n",
              "      <td>2.00</td>\n",
              "      <td>378.87</td>\n",
              "      <td>80.61</td>\n",
              "      <td>347.01</td>\n",
              "      <td>70.69</td>\n",
              "      <td>274.26</td>\n",
              "      <td>16.52</td>\n",
              "      <td>360.54</td>\n",
              "      <td>No</td>\n",
              "      <td>Breathing Difficulty,Anaemia,Stomach pain,Naus...</td>\n",
              "      <td>No</td>\n",
              "      <td>No</td>\n",
              "    </tr>\n",
              "    <tr>\n",
              "      <th>5</th>\n",
              "      <td>2.26</td>\n",
              "      <td>480.41</td>\n",
              "      <td>224.66</td>\n",
              "      <td>138.56</td>\n",
              "      <td>2.03</td>\n",
              "      <td>215.41</td>\n",
              "      <td>79.71</td>\n",
              "      <td>375.32</td>\n",
              "      <td>No</td>\n",
              "      <td>Breathing Difficulty,Stomach pain,Nausea,Burns...</td>\n",
              "      <td>No</td>\n",
              "      <td>No</td>\n",
              "    </tr>\n",
              "    <tr>\n",
              "      <th>6</th>\n",
              "      <td>8.34</td>\n",
              "      <td>43.37</td>\n",
              "      <td>16.02</td>\n",
              "      <td>3.19</td>\n",
              "      <td>1.65</td>\n",
              "      <td>3.32</td>\n",
              "      <td>1.65</td>\n",
              "      <td>4.64</td>\n",
              "      <td>Yes</td>\n",
              "      <td>Safe</td>\n",
              "      <td>Yes</td>\n",
              "      <td>No</td>\n",
              "    </tr>\n",
              "    <tr>\n",
              "      <th>7</th>\n",
              "      <td>12.91</td>\n",
              "      <td>178.35</td>\n",
              "      <td>338.96</td>\n",
              "      <td>344.27</td>\n",
              "      <td>84.55</td>\n",
              "      <td>255.88</td>\n",
              "      <td>60.86</td>\n",
              "      <td>485.47</td>\n",
              "      <td>No</td>\n",
              "      <td>Anaemia,Stomach pain,Nausea,Burns in mouth and...</td>\n",
              "      <td>No</td>\n",
              "      <td>No</td>\n",
              "    </tr>\n",
              "    <tr>\n",
              "      <th>8</th>\n",
              "      <td>6.78</td>\n",
              "      <td>11.53</td>\n",
              "      <td>288.38</td>\n",
              "      <td>287.67</td>\n",
              "      <td>256.86</td>\n",
              "      <td>63.03</td>\n",
              "      <td>85.17</td>\n",
              "      <td>134.51</td>\n",
              "      <td>No</td>\n",
              "      <td>Anaemia,Nausea,Bladder Cancer,Methemoglobinemi...</td>\n",
              "      <td>No</td>\n",
              "      <td>No</td>\n",
              "    </tr>\n",
              "    <tr>\n",
              "      <th>9</th>\n",
              "      <td>6.34</td>\n",
              "      <td>35.41</td>\n",
              "      <td>35.84</td>\n",
              "      <td>55.93</td>\n",
              "      <td>2.70</td>\n",
              "      <td>0.79</td>\n",
              "      <td>0.05</td>\n",
              "      <td>136.75</td>\n",
              "      <td>No</td>\n",
              "      <td>Diarrhoea,Nausea,Breathing Difficulty,Methemog...</td>\n",
              "      <td>No</td>\n",
              "      <td>Yes</td>\n",
              "    </tr>\n",
              "  </tbody>\n",
              "</table>\n",
              "</div>\n",
              "    <div class=\"colab-df-buttons\">\n",
              "\n",
              "  <div class=\"colab-df-container\">\n",
              "    <button class=\"colab-df-convert\" onclick=\"convertToInteractive('df-2d0ca1f8-6075-473b-b431-0f35a0cd6f8f')\"\n",
              "            title=\"Convert this dataframe to an interactive table.\"\n",
              "            style=\"display:none;\">\n",
              "\n",
              "  <svg xmlns=\"http://www.w3.org/2000/svg\" height=\"24px\" viewBox=\"0 -960 960 960\">\n",
              "    <path d=\"M120-120v-720h720v720H120Zm60-500h600v-160H180v160Zm220 220h160v-160H400v160Zm0 220h160v-160H400v160ZM180-400h160v-160H180v160Zm440 0h160v-160H620v160ZM180-180h160v-160H180v160Zm440 0h160v-160H620v160Z\"/>\n",
              "  </svg>\n",
              "    </button>\n",
              "\n",
              "  <style>\n",
              "    .colab-df-container {\n",
              "      display:flex;\n",
              "      gap: 12px;\n",
              "    }\n",
              "\n",
              "    .colab-df-convert {\n",
              "      background-color: #E8F0FE;\n",
              "      border: none;\n",
              "      border-radius: 50%;\n",
              "      cursor: pointer;\n",
              "      display: none;\n",
              "      fill: #1967D2;\n",
              "      height: 32px;\n",
              "      padding: 0 0 0 0;\n",
              "      width: 32px;\n",
              "    }\n",
              "\n",
              "    .colab-df-convert:hover {\n",
              "      background-color: #E2EBFA;\n",
              "      box-shadow: 0px 1px 2px rgba(60, 64, 67, 0.3), 0px 1px 3px 1px rgba(60, 64, 67, 0.15);\n",
              "      fill: #174EA6;\n",
              "    }\n",
              "\n",
              "    .colab-df-buttons div {\n",
              "      margin-bottom: 4px;\n",
              "    }\n",
              "\n",
              "    [theme=dark] .colab-df-convert {\n",
              "      background-color: #3B4455;\n",
              "      fill: #D2E3FC;\n",
              "    }\n",
              "\n",
              "    [theme=dark] .colab-df-convert:hover {\n",
              "      background-color: #434B5C;\n",
              "      box-shadow: 0px 1px 3px 1px rgba(0, 0, 0, 0.15);\n",
              "      filter: drop-shadow(0px 1px 2px rgba(0, 0, 0, 0.3));\n",
              "      fill: #FFFFFF;\n",
              "    }\n",
              "  </style>\n",
              "\n",
              "    <script>\n",
              "      const buttonEl =\n",
              "        document.querySelector('#df-2d0ca1f8-6075-473b-b431-0f35a0cd6f8f button.colab-df-convert');\n",
              "      buttonEl.style.display =\n",
              "        google.colab.kernel.accessAllowed ? 'block' : 'none';\n",
              "\n",
              "      async function convertToInteractive(key) {\n",
              "        const element = document.querySelector('#df-2d0ca1f8-6075-473b-b431-0f35a0cd6f8f');\n",
              "        const dataTable =\n",
              "          await google.colab.kernel.invokeFunction('convertToInteractive',\n",
              "                                                    [key], {});\n",
              "        if (!dataTable) return;\n",
              "\n",
              "        const docLinkHtml = 'Like what you see? Visit the ' +\n",
              "          '<a target=\"_blank\" href=https://colab.research.google.com/notebooks/data_table.ipynb>data table notebook</a>'\n",
              "          + ' to learn more about interactive tables.';\n",
              "        element.innerHTML = '';\n",
              "        dataTable['output_type'] = 'display_data';\n",
              "        await google.colab.output.renderOutput(dataTable, element);\n",
              "        const docLink = document.createElement('div');\n",
              "        docLink.innerHTML = docLinkHtml;\n",
              "        element.appendChild(docLink);\n",
              "      }\n",
              "    </script>\n",
              "  </div>\n",
              "\n",
              "\n",
              "<div id=\"df-bc23d0e6-2872-48e5-8da2-b7825be4b689\">\n",
              "  <button class=\"colab-df-quickchart\" onclick=\"quickchart('df-bc23d0e6-2872-48e5-8da2-b7825be4b689')\"\n",
              "            title=\"Suggest charts\"\n",
              "            style=\"display:none;\">\n",
              "\n",
              "<svg xmlns=\"http://www.w3.org/2000/svg\" height=\"24px\"viewBox=\"0 0 24 24\"\n",
              "     width=\"24px\">\n",
              "    <g>\n",
              "        <path d=\"M19 3H5c-1.1 0-2 .9-2 2v14c0 1.1.9 2 2 2h14c1.1 0 2-.9 2-2V5c0-1.1-.9-2-2-2zM9 17H7v-7h2v7zm4 0h-2V7h2v10zm4 0h-2v-4h2v4z\"/>\n",
              "    </g>\n",
              "</svg>\n",
              "  </button>\n",
              "\n",
              "<style>\n",
              "  .colab-df-quickchart {\n",
              "      --bg-color: #E8F0FE;\n",
              "      --fill-color: #1967D2;\n",
              "      --hover-bg-color: #E2EBFA;\n",
              "      --hover-fill-color: #174EA6;\n",
              "      --disabled-fill-color: #AAA;\n",
              "      --disabled-bg-color: #DDD;\n",
              "  }\n",
              "\n",
              "  [theme=dark] .colab-df-quickchart {\n",
              "      --bg-color: #3B4455;\n",
              "      --fill-color: #D2E3FC;\n",
              "      --hover-bg-color: #434B5C;\n",
              "      --hover-fill-color: #FFFFFF;\n",
              "      --disabled-bg-color: #3B4455;\n",
              "      --disabled-fill-color: #666;\n",
              "  }\n",
              "\n",
              "  .colab-df-quickchart {\n",
              "    background-color: var(--bg-color);\n",
              "    border: none;\n",
              "    border-radius: 50%;\n",
              "    cursor: pointer;\n",
              "    display: none;\n",
              "    fill: var(--fill-color);\n",
              "    height: 32px;\n",
              "    padding: 0;\n",
              "    width: 32px;\n",
              "  }\n",
              "\n",
              "  .colab-df-quickchart:hover {\n",
              "    background-color: var(--hover-bg-color);\n",
              "    box-shadow: 0 1px 2px rgba(60, 64, 67, 0.3), 0 1px 3px 1px rgba(60, 64, 67, 0.15);\n",
              "    fill: var(--button-hover-fill-color);\n",
              "  }\n",
              "\n",
              "  .colab-df-quickchart-complete:disabled,\n",
              "  .colab-df-quickchart-complete:disabled:hover {\n",
              "    background-color: var(--disabled-bg-color);\n",
              "    fill: var(--disabled-fill-color);\n",
              "    box-shadow: none;\n",
              "  }\n",
              "\n",
              "  .colab-df-spinner {\n",
              "    border: 2px solid var(--fill-color);\n",
              "    border-color: transparent;\n",
              "    border-bottom-color: var(--fill-color);\n",
              "    animation:\n",
              "      spin 1s steps(1) infinite;\n",
              "  }\n",
              "\n",
              "  @keyframes spin {\n",
              "    0% {\n",
              "      border-color: transparent;\n",
              "      border-bottom-color: var(--fill-color);\n",
              "      border-left-color: var(--fill-color);\n",
              "    }\n",
              "    20% {\n",
              "      border-color: transparent;\n",
              "      border-left-color: var(--fill-color);\n",
              "      border-top-color: var(--fill-color);\n",
              "    }\n",
              "    30% {\n",
              "      border-color: transparent;\n",
              "      border-left-color: var(--fill-color);\n",
              "      border-top-color: var(--fill-color);\n",
              "      border-right-color: var(--fill-color);\n",
              "    }\n",
              "    40% {\n",
              "      border-color: transparent;\n",
              "      border-right-color: var(--fill-color);\n",
              "      border-top-color: var(--fill-color);\n",
              "    }\n",
              "    60% {\n",
              "      border-color: transparent;\n",
              "      border-right-color: var(--fill-color);\n",
              "    }\n",
              "    80% {\n",
              "      border-color: transparent;\n",
              "      border-right-color: var(--fill-color);\n",
              "      border-bottom-color: var(--fill-color);\n",
              "    }\n",
              "    90% {\n",
              "      border-color: transparent;\n",
              "      border-bottom-color: var(--fill-color);\n",
              "    }\n",
              "  }\n",
              "</style>\n",
              "\n",
              "  <script>\n",
              "    async function quickchart(key) {\n",
              "      const quickchartButtonEl =\n",
              "        document.querySelector('#' + key + ' button');\n",
              "      quickchartButtonEl.disabled = true;  // To prevent multiple clicks.\n",
              "      quickchartButtonEl.classList.add('colab-df-spinner');\n",
              "      try {\n",
              "        const charts = await google.colab.kernel.invokeFunction(\n",
              "            'suggestCharts', [key], {});\n",
              "      } catch (error) {\n",
              "        console.error('Error during call to suggestCharts:', error);\n",
              "      }\n",
              "      quickchartButtonEl.classList.remove('colab-df-spinner');\n",
              "      quickchartButtonEl.classList.add('colab-df-quickchart-complete');\n",
              "    }\n",
              "    (() => {\n",
              "      let quickchartButtonEl =\n",
              "        document.querySelector('#df-bc23d0e6-2872-48e5-8da2-b7825be4b689 button');\n",
              "      quickchartButtonEl.style.display =\n",
              "        google.colab.kernel.accessAllowed ? 'block' : 'none';\n",
              "    })();\n",
              "  </script>\n",
              "</div>\n",
              "\n",
              "    </div>\n",
              "  </div>\n"
            ],
            "application/vnd.google.colaboratory.intrinsic+json": {
              "type": "dataframe",
              "variable_name": "df",
              "summary": "{\n  \"name\": \"df\",\n  \"rows\": 13045,\n  \"fields\": [\n    {\n      \"column\": \"Ph\",\n      \"properties\": {\n        \"dtype\": \"number\",\n        \"std\": 2.72542360663915,\n        \"min\": 0.01,\n        \"max\": 14.0,\n        \"num_unique_values\": 1376,\n        \"samples\": [\n          9.67,\n          6.92,\n          3.95\n        ],\n        \"semantic_type\": \"\",\n        \"description\": \"\"\n      }\n    },\n    {\n      \"column\": \"Calcium(in ppm)\",\n      \"properties\": {\n        \"dtype\": \"number\",\n        \"std\": 131.42677886527233,\n        \"min\": 0.3,\n        \"max\": 499.78,\n        \"num_unique_values\": 9453,\n        \"samples\": [\n          175.77,\n          322.57,\n          174.52\n        ],\n        \"semantic_type\": \"\",\n        \"description\": \"\"\n      }\n    },\n    {\n      \"column\": \"Magnesium(in ppm)\",\n      \"properties\": {\n        \"dtype\": \"number\",\n        \"std\": 107.0176726307343,\n        \"min\": 0.01,\n        \"max\": 399.98,\n        \"num_unique_values\": 9066,\n        \"samples\": [\n          50.12,\n          205.66,\n          375.22\n        ],\n        \"semantic_type\": \"\",\n        \"description\": \"\"\n      }\n    },\n    {\n      \"column\": \"Chlorine(in ppm)\",\n      \"properties\": {\n        \"dtype\": \"number\",\n        \"std\": 134.3645558176993,\n        \"min\": 0.0,\n        \"max\": 499.9,\n        \"num_unique_values\": 8379,\n        \"samples\": [\n          143.26,\n          384.53,\n          191.47\n        ],\n        \"semantic_type\": \"\",\n        \"description\": \"\"\n      }\n    },\n    {\n      \"column\": \"Benzene(in ppb)\",\n      \"properties\": {\n        \"dtype\": \"number\",\n        \"std\": 114.32803254159022,\n        \"min\": 0.0,\n        \"max\": 399.8,\n        \"num_unique_values\": 6787,\n        \"samples\": [\n          161.24,\n          143.09,\n          145.81\n        ],\n        \"semantic_type\": \"\",\n        \"description\": \"\"\n      }\n    },\n    {\n      \"column\": \"THM(in ppb)\",\n      \"properties\": {\n        \"dtype\": \"number\",\n        \"std\": 115.81389807891736,\n        \"min\": 0.0,\n        \"max\": 399.99,\n        \"num_unique_values\": 7143,\n        \"samples\": [\n          312.9,\n          114.35,\n          64.27\n        ],\n        \"semantic_type\": \"\",\n        \"description\": \"\"\n      }\n    },\n    {\n      \"column\": \"Copper(in ppm)\",\n      \"properties\": {\n        \"dtype\": \"number\",\n        \"std\": 28.26633119172211,\n        \"min\": 0.0,\n        \"max\": 99.99,\n        \"num_unique_values\": 4845,\n        \"samples\": [\n          40.53,\n          19.5,\n          11.62\n        ],\n        \"semantic_type\": \"\",\n        \"description\": \"\"\n      }\n    },\n    {\n      \"column\": \"Nitrate(in ppm)\",\n      \"properties\": {\n        \"dtype\": \"number\",\n        \"std\": 138.0028221663701,\n        \"min\": 0.0,\n        \"max\": 499.97,\n        \"num_unique_values\": 9175,\n        \"samples\": [\n          154.88,\n          34.47,\n          66.64\n        ],\n        \"semantic_type\": \"\",\n        \"description\": \"\"\n      }\n    },\n    {\n      \"column\": \"Drinking Purpose\",\n      \"properties\": {\n        \"dtype\": \"category\",\n        \"num_unique_values\": 2,\n        \"samples\": [\n          \"Yes\",\n          \"No\"\n        ],\n        \"semantic_type\": \"\",\n        \"description\": \"\"\n      }\n    },\n    {\n      \"column\": \"Ailments\",\n      \"properties\": {\n        \"dtype\": \"category\",\n        \"num_unique_values\": 43,\n        \"samples\": [\n          \"Leukaemia,Bladder Cancer,Anaemia,spasms\",\n          \"Stomach pain,Nausea,Burns in mouth and throat,Bladder Cancer,Methemoglobinemia,Diarrhoea\"\n        ],\n        \"semantic_type\": \"\",\n        \"description\": \"\"\n      }\n    },\n    {\n      \"column\": \"Cement Industry Purpose\",\n      \"properties\": {\n        \"dtype\": \"category\",\n        \"num_unique_values\": 2,\n        \"samples\": [\n          \"Yes\",\n          \"No\"\n        ],\n        \"semantic_type\": \"\",\n        \"description\": \"\"\n      }\n    },\n    {\n      \"column\": \"Irrigation Purpose\",\n      \"properties\": {\n        \"dtype\": \"category\",\n        \"num_unique_values\": 2,\n        \"samples\": [\n          \"No\",\n          \"Yes\"\n        ],\n        \"semantic_type\": \"\",\n        \"description\": \"\"\n      }\n    }\n  ]\n}"
            }
          },
          "metadata": {},
          "execution_count": 7
        }
      ]
    },
    {
      "cell_type": "code",
      "source": [
        "df.tail(10) # displays last 10 rows"
      ],
      "metadata": {
        "id": "sRnsFBZUbgyO",
        "colab": {
          "base_uri": "https://localhost:8080/",
          "height": 556
        },
        "outputId": "45ba735a-3d0a-4d1a-83fe-b02367c5bc7d"
      },
      "execution_count": 8,
      "outputs": [
        {
          "output_type": "execute_result",
          "data": {
            "text/plain": [
              "          Ph  Calcium(in ppm)  Magnesium(in ppm)  Chlorine(in ppm)  \\\n",
              "13035   5.05            58.52              37.21            105.18   \n",
              "13036   5.20            36.79              37.03             91.88   \n",
              "13037   5.76            33.79              55.23             51.99   \n",
              "13038   7.61            25.37              12.83              3.19   \n",
              "13039   6.62            47.02              35.23             14.87   \n",
              "13040   7.67            43.06              16.36              3.16   \n",
              "13041   2.46           145.75             201.09            492.57   \n",
              "13042  10.75           110.05              99.68            165.52   \n",
              "13043   7.69            20.13              18.79              3.77   \n",
              "13044   8.61            31.45              73.96             67.16   \n",
              "\n",
              "       Benzene(in ppb)  THM(in ppb)  Copper(in ppm)  Nitrate(in ppm)  \\\n",
              "13035             4.29         6.26            0.15            47.07   \n",
              "13036             3.45         9.08            0.02           141.78   \n",
              "13037             0.87         6.97            0.05           125.75   \n",
              "13038             4.33         5.12            1.03             1.66   \n",
              "13039            66.85       269.77           25.71           396.52   \n",
              "13040             4.95         4.17            0.29             6.95   \n",
              "13041           165.75       281.09           68.11           364.10   \n",
              "13042           137.66       184.49           29.32            68.67   \n",
              "13043             2.05         7.89            0.17             0.04   \n",
              "13044           124.52        54.71            8.75           273.74   \n",
              "\n",
              "      Drinking Purpose                                           Ailments  \\\n",
              "13035               No  Diarrhoea,Nausea,Breathing Difficulty,Methemog...   \n",
              "13036               No  Diarrhoea,Nausea,Breathing Difficulty,Methemog...   \n",
              "13037               No  Diarrhoea,Nausea,Breathing Difficulty,Methemog...   \n",
              "13038              Yes                                               Safe   \n",
              "13039              Yes                                               Safe   \n",
              "13040              Yes                                               Safe   \n",
              "13041               No  Breathing Difficulty,Anaemia,Stomach pain,Naus...   \n",
              "13042               No  Anaemia,Stomach pain,Nausea,Burns in mouth and...   \n",
              "13043              Yes                                               Safe   \n",
              "13044               No  Anaemia,Nausea,Bladder Cancer,Methemoglobinemi...   \n",
              "\n",
              "      Cement Industry Purpose Irrigation Purpose  \n",
              "13035                      No                Yes  \n",
              "13036                      No                Yes  \n",
              "13037                      No                Yes  \n",
              "13038                     Yes                 No  \n",
              "13039                     Yes                Yes  \n",
              "13040                     Yes                 No  \n",
              "13041                      No                 No  \n",
              "13042                     Yes                 No  \n",
              "13043                     Yes                 No  \n",
              "13044                     Yes                 No  "
            ],
            "text/html": [
              "\n",
              "  <div id=\"df-a4b2bae4-29c3-436b-907a-08d2ff313aef\" class=\"colab-df-container\">\n",
              "    <div>\n",
              "<style scoped>\n",
              "    .dataframe tbody tr th:only-of-type {\n",
              "        vertical-align: middle;\n",
              "    }\n",
              "\n",
              "    .dataframe tbody tr th {\n",
              "        vertical-align: top;\n",
              "    }\n",
              "\n",
              "    .dataframe thead th {\n",
              "        text-align: right;\n",
              "    }\n",
              "</style>\n",
              "<table border=\"1\" class=\"dataframe\">\n",
              "  <thead>\n",
              "    <tr style=\"text-align: right;\">\n",
              "      <th></th>\n",
              "      <th>Ph</th>\n",
              "      <th>Calcium(in ppm)</th>\n",
              "      <th>Magnesium(in ppm)</th>\n",
              "      <th>Chlorine(in ppm)</th>\n",
              "      <th>Benzene(in ppb)</th>\n",
              "      <th>THM(in ppb)</th>\n",
              "      <th>Copper(in ppm)</th>\n",
              "      <th>Nitrate(in ppm)</th>\n",
              "      <th>Drinking Purpose</th>\n",
              "      <th>Ailments</th>\n",
              "      <th>Cement Industry Purpose</th>\n",
              "      <th>Irrigation Purpose</th>\n",
              "    </tr>\n",
              "  </thead>\n",
              "  <tbody>\n",
              "    <tr>\n",
              "      <th>13035</th>\n",
              "      <td>5.05</td>\n",
              "      <td>58.52</td>\n",
              "      <td>37.21</td>\n",
              "      <td>105.18</td>\n",
              "      <td>4.29</td>\n",
              "      <td>6.26</td>\n",
              "      <td>0.15</td>\n",
              "      <td>47.07</td>\n",
              "      <td>No</td>\n",
              "      <td>Diarrhoea,Nausea,Breathing Difficulty,Methemog...</td>\n",
              "      <td>No</td>\n",
              "      <td>Yes</td>\n",
              "    </tr>\n",
              "    <tr>\n",
              "      <th>13036</th>\n",
              "      <td>5.20</td>\n",
              "      <td>36.79</td>\n",
              "      <td>37.03</td>\n",
              "      <td>91.88</td>\n",
              "      <td>3.45</td>\n",
              "      <td>9.08</td>\n",
              "      <td>0.02</td>\n",
              "      <td>141.78</td>\n",
              "      <td>No</td>\n",
              "      <td>Diarrhoea,Nausea,Breathing Difficulty,Methemog...</td>\n",
              "      <td>No</td>\n",
              "      <td>Yes</td>\n",
              "    </tr>\n",
              "    <tr>\n",
              "      <th>13037</th>\n",
              "      <td>5.76</td>\n",
              "      <td>33.79</td>\n",
              "      <td>55.23</td>\n",
              "      <td>51.99</td>\n",
              "      <td>0.87</td>\n",
              "      <td>6.97</td>\n",
              "      <td>0.05</td>\n",
              "      <td>125.75</td>\n",
              "      <td>No</td>\n",
              "      <td>Diarrhoea,Nausea,Breathing Difficulty,Methemog...</td>\n",
              "      <td>No</td>\n",
              "      <td>Yes</td>\n",
              "    </tr>\n",
              "    <tr>\n",
              "      <th>13038</th>\n",
              "      <td>7.61</td>\n",
              "      <td>25.37</td>\n",
              "      <td>12.83</td>\n",
              "      <td>3.19</td>\n",
              "      <td>4.33</td>\n",
              "      <td>5.12</td>\n",
              "      <td>1.03</td>\n",
              "      <td>1.66</td>\n",
              "      <td>Yes</td>\n",
              "      <td>Safe</td>\n",
              "      <td>Yes</td>\n",
              "      <td>No</td>\n",
              "    </tr>\n",
              "    <tr>\n",
              "      <th>13039</th>\n",
              "      <td>6.62</td>\n",
              "      <td>47.02</td>\n",
              "      <td>35.23</td>\n",
              "      <td>14.87</td>\n",
              "      <td>66.85</td>\n",
              "      <td>269.77</td>\n",
              "      <td>25.71</td>\n",
              "      <td>396.52</td>\n",
              "      <td>Yes</td>\n",
              "      <td>Safe</td>\n",
              "      <td>Yes</td>\n",
              "      <td>Yes</td>\n",
              "    </tr>\n",
              "    <tr>\n",
              "      <th>13040</th>\n",
              "      <td>7.67</td>\n",
              "      <td>43.06</td>\n",
              "      <td>16.36</td>\n",
              "      <td>3.16</td>\n",
              "      <td>4.95</td>\n",
              "      <td>4.17</td>\n",
              "      <td>0.29</td>\n",
              "      <td>6.95</td>\n",
              "      <td>Yes</td>\n",
              "      <td>Safe</td>\n",
              "      <td>Yes</td>\n",
              "      <td>No</td>\n",
              "    </tr>\n",
              "    <tr>\n",
              "      <th>13041</th>\n",
              "      <td>2.46</td>\n",
              "      <td>145.75</td>\n",
              "      <td>201.09</td>\n",
              "      <td>492.57</td>\n",
              "      <td>165.75</td>\n",
              "      <td>281.09</td>\n",
              "      <td>68.11</td>\n",
              "      <td>364.10</td>\n",
              "      <td>No</td>\n",
              "      <td>Breathing Difficulty,Anaemia,Stomach pain,Naus...</td>\n",
              "      <td>No</td>\n",
              "      <td>No</td>\n",
              "    </tr>\n",
              "    <tr>\n",
              "      <th>13042</th>\n",
              "      <td>10.75</td>\n",
              "      <td>110.05</td>\n",
              "      <td>99.68</td>\n",
              "      <td>165.52</td>\n",
              "      <td>137.66</td>\n",
              "      <td>184.49</td>\n",
              "      <td>29.32</td>\n",
              "      <td>68.67</td>\n",
              "      <td>No</td>\n",
              "      <td>Anaemia,Stomach pain,Nausea,Burns in mouth and...</td>\n",
              "      <td>Yes</td>\n",
              "      <td>No</td>\n",
              "    </tr>\n",
              "    <tr>\n",
              "      <th>13043</th>\n",
              "      <td>7.69</td>\n",
              "      <td>20.13</td>\n",
              "      <td>18.79</td>\n",
              "      <td>3.77</td>\n",
              "      <td>2.05</td>\n",
              "      <td>7.89</td>\n",
              "      <td>0.17</td>\n",
              "      <td>0.04</td>\n",
              "      <td>Yes</td>\n",
              "      <td>Safe</td>\n",
              "      <td>Yes</td>\n",
              "      <td>No</td>\n",
              "    </tr>\n",
              "    <tr>\n",
              "      <th>13044</th>\n",
              "      <td>8.61</td>\n",
              "      <td>31.45</td>\n",
              "      <td>73.96</td>\n",
              "      <td>67.16</td>\n",
              "      <td>124.52</td>\n",
              "      <td>54.71</td>\n",
              "      <td>8.75</td>\n",
              "      <td>273.74</td>\n",
              "      <td>No</td>\n",
              "      <td>Anaemia,Nausea,Bladder Cancer,Methemoglobinemi...</td>\n",
              "      <td>Yes</td>\n",
              "      <td>No</td>\n",
              "    </tr>\n",
              "  </tbody>\n",
              "</table>\n",
              "</div>\n",
              "    <div class=\"colab-df-buttons\">\n",
              "\n",
              "  <div class=\"colab-df-container\">\n",
              "    <button class=\"colab-df-convert\" onclick=\"convertToInteractive('df-a4b2bae4-29c3-436b-907a-08d2ff313aef')\"\n",
              "            title=\"Convert this dataframe to an interactive table.\"\n",
              "            style=\"display:none;\">\n",
              "\n",
              "  <svg xmlns=\"http://www.w3.org/2000/svg\" height=\"24px\" viewBox=\"0 -960 960 960\">\n",
              "    <path d=\"M120-120v-720h720v720H120Zm60-500h600v-160H180v160Zm220 220h160v-160H400v160Zm0 220h160v-160H400v160ZM180-400h160v-160H180v160Zm440 0h160v-160H620v160ZM180-180h160v-160H180v160Zm440 0h160v-160H620v160Z\"/>\n",
              "  </svg>\n",
              "    </button>\n",
              "\n",
              "  <style>\n",
              "    .colab-df-container {\n",
              "      display:flex;\n",
              "      gap: 12px;\n",
              "    }\n",
              "\n",
              "    .colab-df-convert {\n",
              "      background-color: #E8F0FE;\n",
              "      border: none;\n",
              "      border-radius: 50%;\n",
              "      cursor: pointer;\n",
              "      display: none;\n",
              "      fill: #1967D2;\n",
              "      height: 32px;\n",
              "      padding: 0 0 0 0;\n",
              "      width: 32px;\n",
              "    }\n",
              "\n",
              "    .colab-df-convert:hover {\n",
              "      background-color: #E2EBFA;\n",
              "      box-shadow: 0px 1px 2px rgba(60, 64, 67, 0.3), 0px 1px 3px 1px rgba(60, 64, 67, 0.15);\n",
              "      fill: #174EA6;\n",
              "    }\n",
              "\n",
              "    .colab-df-buttons div {\n",
              "      margin-bottom: 4px;\n",
              "    }\n",
              "\n",
              "    [theme=dark] .colab-df-convert {\n",
              "      background-color: #3B4455;\n",
              "      fill: #D2E3FC;\n",
              "    }\n",
              "\n",
              "    [theme=dark] .colab-df-convert:hover {\n",
              "      background-color: #434B5C;\n",
              "      box-shadow: 0px 1px 3px 1px rgba(0, 0, 0, 0.15);\n",
              "      filter: drop-shadow(0px 1px 2px rgba(0, 0, 0, 0.3));\n",
              "      fill: #FFFFFF;\n",
              "    }\n",
              "  </style>\n",
              "\n",
              "    <script>\n",
              "      const buttonEl =\n",
              "        document.querySelector('#df-a4b2bae4-29c3-436b-907a-08d2ff313aef button.colab-df-convert');\n",
              "      buttonEl.style.display =\n",
              "        google.colab.kernel.accessAllowed ? 'block' : 'none';\n",
              "\n",
              "      async function convertToInteractive(key) {\n",
              "        const element = document.querySelector('#df-a4b2bae4-29c3-436b-907a-08d2ff313aef');\n",
              "        const dataTable =\n",
              "          await google.colab.kernel.invokeFunction('convertToInteractive',\n",
              "                                                    [key], {});\n",
              "        if (!dataTable) return;\n",
              "\n",
              "        const docLinkHtml = 'Like what you see? Visit the ' +\n",
              "          '<a target=\"_blank\" href=https://colab.research.google.com/notebooks/data_table.ipynb>data table notebook</a>'\n",
              "          + ' to learn more about interactive tables.';\n",
              "        element.innerHTML = '';\n",
              "        dataTable['output_type'] = 'display_data';\n",
              "        await google.colab.output.renderOutput(dataTable, element);\n",
              "        const docLink = document.createElement('div');\n",
              "        docLink.innerHTML = docLinkHtml;\n",
              "        element.appendChild(docLink);\n",
              "      }\n",
              "    </script>\n",
              "  </div>\n",
              "\n",
              "\n",
              "<div id=\"df-1eefebb4-3759-48f2-8740-e956cea9db52\">\n",
              "  <button class=\"colab-df-quickchart\" onclick=\"quickchart('df-1eefebb4-3759-48f2-8740-e956cea9db52')\"\n",
              "            title=\"Suggest charts\"\n",
              "            style=\"display:none;\">\n",
              "\n",
              "<svg xmlns=\"http://www.w3.org/2000/svg\" height=\"24px\"viewBox=\"0 0 24 24\"\n",
              "     width=\"24px\">\n",
              "    <g>\n",
              "        <path d=\"M19 3H5c-1.1 0-2 .9-2 2v14c0 1.1.9 2 2 2h14c1.1 0 2-.9 2-2V5c0-1.1-.9-2-2-2zM9 17H7v-7h2v7zm4 0h-2V7h2v10zm4 0h-2v-4h2v4z\"/>\n",
              "    </g>\n",
              "</svg>\n",
              "  </button>\n",
              "\n",
              "<style>\n",
              "  .colab-df-quickchart {\n",
              "      --bg-color: #E8F0FE;\n",
              "      --fill-color: #1967D2;\n",
              "      --hover-bg-color: #E2EBFA;\n",
              "      --hover-fill-color: #174EA6;\n",
              "      --disabled-fill-color: #AAA;\n",
              "      --disabled-bg-color: #DDD;\n",
              "  }\n",
              "\n",
              "  [theme=dark] .colab-df-quickchart {\n",
              "      --bg-color: #3B4455;\n",
              "      --fill-color: #D2E3FC;\n",
              "      --hover-bg-color: #434B5C;\n",
              "      --hover-fill-color: #FFFFFF;\n",
              "      --disabled-bg-color: #3B4455;\n",
              "      --disabled-fill-color: #666;\n",
              "  }\n",
              "\n",
              "  .colab-df-quickchart {\n",
              "    background-color: var(--bg-color);\n",
              "    border: none;\n",
              "    border-radius: 50%;\n",
              "    cursor: pointer;\n",
              "    display: none;\n",
              "    fill: var(--fill-color);\n",
              "    height: 32px;\n",
              "    padding: 0;\n",
              "    width: 32px;\n",
              "  }\n",
              "\n",
              "  .colab-df-quickchart:hover {\n",
              "    background-color: var(--hover-bg-color);\n",
              "    box-shadow: 0 1px 2px rgba(60, 64, 67, 0.3), 0 1px 3px 1px rgba(60, 64, 67, 0.15);\n",
              "    fill: var(--button-hover-fill-color);\n",
              "  }\n",
              "\n",
              "  .colab-df-quickchart-complete:disabled,\n",
              "  .colab-df-quickchart-complete:disabled:hover {\n",
              "    background-color: var(--disabled-bg-color);\n",
              "    fill: var(--disabled-fill-color);\n",
              "    box-shadow: none;\n",
              "  }\n",
              "\n",
              "  .colab-df-spinner {\n",
              "    border: 2px solid var(--fill-color);\n",
              "    border-color: transparent;\n",
              "    border-bottom-color: var(--fill-color);\n",
              "    animation:\n",
              "      spin 1s steps(1) infinite;\n",
              "  }\n",
              "\n",
              "  @keyframes spin {\n",
              "    0% {\n",
              "      border-color: transparent;\n",
              "      border-bottom-color: var(--fill-color);\n",
              "      border-left-color: var(--fill-color);\n",
              "    }\n",
              "    20% {\n",
              "      border-color: transparent;\n",
              "      border-left-color: var(--fill-color);\n",
              "      border-top-color: var(--fill-color);\n",
              "    }\n",
              "    30% {\n",
              "      border-color: transparent;\n",
              "      border-left-color: var(--fill-color);\n",
              "      border-top-color: var(--fill-color);\n",
              "      border-right-color: var(--fill-color);\n",
              "    }\n",
              "    40% {\n",
              "      border-color: transparent;\n",
              "      border-right-color: var(--fill-color);\n",
              "      border-top-color: var(--fill-color);\n",
              "    }\n",
              "    60% {\n",
              "      border-color: transparent;\n",
              "      border-right-color: var(--fill-color);\n",
              "    }\n",
              "    80% {\n",
              "      border-color: transparent;\n",
              "      border-right-color: var(--fill-color);\n",
              "      border-bottom-color: var(--fill-color);\n",
              "    }\n",
              "    90% {\n",
              "      border-color: transparent;\n",
              "      border-bottom-color: var(--fill-color);\n",
              "    }\n",
              "  }\n",
              "</style>\n",
              "\n",
              "  <script>\n",
              "    async function quickchart(key) {\n",
              "      const quickchartButtonEl =\n",
              "        document.querySelector('#' + key + ' button');\n",
              "      quickchartButtonEl.disabled = true;  // To prevent multiple clicks.\n",
              "      quickchartButtonEl.classList.add('colab-df-spinner');\n",
              "      try {\n",
              "        const charts = await google.colab.kernel.invokeFunction(\n",
              "            'suggestCharts', [key], {});\n",
              "      } catch (error) {\n",
              "        console.error('Error during call to suggestCharts:', error);\n",
              "      }\n",
              "      quickchartButtonEl.classList.remove('colab-df-spinner');\n",
              "      quickchartButtonEl.classList.add('colab-df-quickchart-complete');\n",
              "    }\n",
              "    (() => {\n",
              "      let quickchartButtonEl =\n",
              "        document.querySelector('#df-1eefebb4-3759-48f2-8740-e956cea9db52 button');\n",
              "      quickchartButtonEl.style.display =\n",
              "        google.colab.kernel.accessAllowed ? 'block' : 'none';\n",
              "    })();\n",
              "  </script>\n",
              "</div>\n",
              "\n",
              "    </div>\n",
              "  </div>\n"
            ],
            "application/vnd.google.colaboratory.intrinsic+json": {
              "type": "dataframe",
              "summary": "{\n  \"name\": \"df\",\n  \"rows\": 10,\n  \"fields\": [\n    {\n      \"column\": \"Ph\",\n      \"properties\": {\n        \"dtype\": \"number\",\n        \"std\": 2.276014059710528,\n        \"min\": 2.46,\n        \"max\": 10.75,\n        \"num_unique_values\": 10,\n        \"samples\": [\n          7.69,\n          5.2,\n          7.67\n        ],\n        \"semantic_type\": \"\",\n        \"description\": \"\"\n      }\n    },\n    {\n      \"column\": \"Calcium(in ppm)\",\n      \"properties\": {\n        \"dtype\": \"number\",\n        \"std\": 40.70797275172955,\n        \"min\": 20.13,\n        \"max\": 145.75,\n        \"num_unique_values\": 10,\n        \"samples\": [\n          20.13,\n          36.79,\n          43.06\n        ],\n        \"semantic_type\": \"\",\n        \"description\": \"\"\n      }\n    },\n    {\n      \"column\": \"Magnesium(in ppm)\",\n      \"properties\": {\n        \"dtype\": \"number\",\n        \"std\": 56.93168878382036,\n        \"min\": 12.83,\n        \"max\": 201.09,\n        \"num_unique_values\": 10,\n        \"samples\": [\n          18.79,\n          37.03,\n          16.36\n        ],\n        \"semantic_type\": \"\",\n        \"description\": \"\"\n      }\n    },\n    {\n      \"column\": \"Chlorine(in ppm)\",\n      \"properties\": {\n        \"dtype\": \"number\",\n        \"std\": 148.00064147383506,\n        \"min\": 3.16,\n        \"max\": 492.57,\n        \"num_unique_values\": 10,\n        \"samples\": [\n          3.77,\n          91.88,\n          3.16\n        ],\n        \"semantic_type\": \"\",\n        \"description\": \"\"\n      }\n    },\n    {\n      \"column\": \"Benzene(in ppb)\",\n      \"properties\": {\n        \"dtype\": \"number\",\n        \"std\": 66.65194884205896,\n        \"min\": 0.87,\n        \"max\": 165.75,\n        \"num_unique_values\": 10,\n        \"samples\": [\n          2.05,\n          3.45,\n          4.95\n        ],\n        \"semantic_type\": \"\",\n        \"description\": \"\"\n      }\n    },\n    {\n      \"column\": \"THM(in ppb)\",\n      \"properties\": {\n        \"dtype\": \"number\",\n        \"std\": 115.60369815787804,\n        \"min\": 4.17,\n        \"max\": 281.09,\n        \"num_unique_values\": 10,\n        \"samples\": [\n          7.89,\n          9.08,\n          4.17\n        ],\n        \"semantic_type\": \"\",\n        \"description\": \"\"\n      }\n    },\n    {\n      \"column\": \"Copper(in ppm)\",\n      \"properties\": {\n        \"dtype\": \"number\",\n        \"std\": 22.242362983979717,\n        \"min\": 0.02,\n        \"max\": 68.11,\n        \"num_unique_values\": 10,\n        \"samples\": [\n          0.17,\n          0.02,\n          0.29\n        ],\n        \"semantic_type\": \"\",\n        \"description\": \"\"\n      }\n    },\n    {\n      \"column\": \"Nitrate(in ppm)\",\n      \"properties\": {\n        \"dtype\": \"number\",\n        \"std\": 150.6282726006863,\n        \"min\": 0.04,\n        \"max\": 396.52,\n        \"num_unique_values\": 10,\n        \"samples\": [\n          0.04,\n          141.78,\n          6.95\n        ],\n        \"semantic_type\": \"\",\n        \"description\": \"\"\n      }\n    },\n    {\n      \"column\": \"Drinking Purpose\",\n      \"properties\": {\n        \"dtype\": \"category\",\n        \"num_unique_values\": 2,\n        \"samples\": [\n          \"Yes\",\n          \"No\"\n        ],\n        \"semantic_type\": \"\",\n        \"description\": \"\"\n      }\n    },\n    {\n      \"column\": \"Ailments\",\n      \"properties\": {\n        \"dtype\": \"string\",\n        \"num_unique_values\": 5,\n        \"samples\": [\n          \"Safe\",\n          \"Anaemia,Nausea,Bladder Cancer,Methemoglobinemia,Diarrhoea,Leukaemia\"\n        ],\n        \"semantic_type\": \"\",\n        \"description\": \"\"\n      }\n    },\n    {\n      \"column\": \"Cement Industry Purpose\",\n      \"properties\": {\n        \"dtype\": \"category\",\n        \"num_unique_values\": 2,\n        \"samples\": [\n          \"Yes\",\n          \"No\"\n        ],\n        \"semantic_type\": \"\",\n        \"description\": \"\"\n      }\n    },\n    {\n      \"column\": \"Irrigation Purpose\",\n      \"properties\": {\n        \"dtype\": \"category\",\n        \"num_unique_values\": 2,\n        \"samples\": [\n          \"No\",\n          \"Yes\"\n        ],\n        \"semantic_type\": \"\",\n        \"description\": \"\"\n      }\n    }\n  ]\n}"
            }
          },
          "metadata": {},
          "execution_count": 8
        }
      ]
    },
    {
      "cell_type": "code",
      "source": [
        "df.dtypes # displays type of each column"
      ],
      "metadata": {
        "id": "xerWswmlbnzw",
        "colab": {
          "base_uri": "https://localhost:8080/"
        },
        "outputId": "8e812ec9-d6fc-4578-d62c-7f38e8a4c6a2"
      },
      "execution_count": 9,
      "outputs": [
        {
          "output_type": "execute_result",
          "data": {
            "text/plain": [
              "Ph                         float64\n",
              "Calcium(in ppm)            float64\n",
              "Magnesium(in ppm)          float64\n",
              "Chlorine(in ppm)           float64\n",
              "Benzene(in ppb)            float64\n",
              "THM(in ppb)                float64\n",
              "Copper(in ppm)             float64\n",
              "Nitrate(in ppm)            float64\n",
              "Drinking Purpose            object\n",
              "Ailments                    object\n",
              "Cement Industry Purpose     object\n",
              "Irrigation Purpose          object\n",
              "dtype: object"
            ]
          },
          "metadata": {},
          "execution_count": 9
        }
      ]
    },
    {
      "cell_type": "markdown",
      "source": [
        "### Train Test Split"
      ],
      "metadata": {
        "id": "bCsuSnbPbqci"
      }
    },
    {
      "cell_type": "code",
      "source": [
        "X = df.drop(columns=['Drinking Purpose','Ailments','Cement Industry Purpose','Irrigation Purpose']) #input data\n",
        "y5=df[['Drinking Purpose','Ailments','Cement Industry Purpose','Irrigation Purpose']] # output data"
      ],
      "metadata": {
        "id": "3kADSYBlbsYl"
      },
      "execution_count": 10,
      "outputs": []
    },
    {
      "cell_type": "code",
      "source": [
        "from sklearn.model_selection import train_test_split"
      ],
      "metadata": {
        "id": "UN_KZBhUb1IZ"
      },
      "execution_count": 11,
      "outputs": []
    },
    {
      "cell_type": "code",
      "source": [
        "X_train, X_test, y5_train, y5_test = train_test_split(X, y5, test_size=0.3) #splitting the input and output into train dataset and test dataset\n",
        "y1_train=y5_train['Drinking Purpose']\n",
        "y1_test=y5_test['Drinking Purpose']\n",
        "y2_train=y5_train['Ailments']\n",
        "y2_test=y5_test['Ailments']\n",
        "y3_train=y5_train['Cement Industry Purpose']\n",
        "y3_test=y5_test['Cement Industry Purpose']\n",
        "y4_train=y5_train['Irrigation Purpose']\n",
        "y4_test=y5_test['Irrigation Purpose']\n",
        "y5_train1=y5_train[['Drinking Purpose','Ailments']]\n",
        "y5_test1=y5_test[['Drinking Purpose','Ailments']]\n",
        "y5_train1['ail']=y5_train1['Drinking Purpose']+y5_train1['Ailments'] # warning occurs when the data get changes in dataframe\n",
        "y_train=y5_train1.drop(columns=['Drinking Purpose','Ailments'])\n",
        "y5_train1.drop(columns=['ail'],inplace=True)\n",
        "y5_test1['ail']=y5_test1['Drinking Purpose']+y5_test1['Ailments'] # warning occurs when the data get changes in dataframe\n",
        "y_test=y5_test1.drop(columns=['Drinking Purpose','Ailments'])\n",
        "y5_test1.drop(columns=['ail'],inplace=True)\n",
        "y5_train['ail']=y5_train['Drinking Purpose']+y5_train['Ailments']+y5_train['Cement Industry Purpose']+y5_train['Irrigation Purpose'] # warning occurs when the data get changes in dataframe\n",
        "y6_train=y5_train.drop(columns=['Drinking Purpose','Ailments','Cement Industry Purpose','Irrigation Purpose'])\n",
        "y5_train.drop(columns=['ail'],inplace=True)\n",
        "y5_test['ail']=y5_test['Drinking Purpose']+y5_test['Ailments']+y5_test['Cement Industry Purpose']+y5_test['Irrigation Purpose'] # warning occurs when the data get changes in dataframe\n",
        "y6_test=y5_test.drop(columns=['Drinking Purpose','Ailments','Cement Industry Purpose','Irrigation Purpose'])\n",
        "y5_test.drop(columns=['ail'],inplace=True)"
      ],
      "metadata": {
        "id": "37AQpZDTb5st"
      },
      "execution_count": 12,
      "outputs": []
    },
    {
      "cell_type": "markdown",
      "source": [
        "### Random Forest Algorithm"
      ],
      "metadata": {
        "id": "rxUmLyhFb-Ep"
      }
    },
    {
      "cell_type": "code",
      "source": [
        "from sklearn.ensemble import RandomForestClassifier\n",
        "classifier_RF = RandomForestClassifier(n_estimators = 100)"
      ],
      "metadata": {
        "id": "D5PPbhTRcEDL"
      },
      "execution_count": 13,
      "outputs": []
    },
    {
      "cell_type": "markdown",
      "source": [
        "#### Fitting the model and predicting the accuracies"
      ],
      "metadata": {
        "id": "d7pU-9d3cgm3"
      }
    },
    {
      "cell_type": "code",
      "source": [
        "import matplotlib.pyplot as plt\n",
        "from mlxtend.plotting import plot_confusion_matrix\n",
        "from sklearn.metrics import accuracy_score, confusion_matrix"
      ],
      "metadata": {
        "id": "dsnYKGQNcsTm"
      },
      "execution_count": 14,
      "outputs": []
    },
    {
      "cell_type": "code",
      "source": [
        "#Four features-Drinking Purpose,Ailments,Cement Industry Purpose,Irrigation Purpose\n",
        "rf1=classifier_RF.fit(X_train, y5_train) # for fitting the dataset\n",
        "rf1_pre=rf1.predict(X_test) # predicts the outputs for test input"
      ],
      "metadata": {
        "id": "jzv09AVyck4q"
      },
      "execution_count": 15,
      "outputs": []
    },
    {
      "cell_type": "code",
      "source": [
        "#Accuracy for four features\n",
        "pre1=pd.DataFrame(rf1_pre, columns=['Drinking Purpose','Ailments','Cement Industry Purpose','Irrigation Purpose'])\n",
        "pre1['ail']=pre1['Drinking Purpose']+pre1['Ailments']+pre1['Cement Industry Purpose']+pre1['Irrigation Purpose']\n",
        "pre2=pre1.drop(columns=['Drinking Purpose','Ailments','Cement Industry Purpose','Irrigation Purpose'])\n",
        "pre1.drop(columns=['ail'])\n",
        "f=0\n",
        "ans=0\n",
        "for i in y6_test['ail']:\n",
        "  for j in range(len(pre2['ail'])):\n",
        "    if f==j and pre2['ail'][j]==i:\n",
        "      ans+=1\n",
        "    elif j>f:\n",
        "      break\n",
        "  f+=1\n",
        "acc1=(ans/f)*100\n",
        "print(ans/f)"
      ],
      "metadata": {
        "id": "98CwuGCjdGrg",
        "colab": {
          "base_uri": "https://localhost:8080/"
        },
        "outputId": "f31248b1-a93c-4f92-fc1d-afa9d6c95b2f"
      },
      "execution_count": 16,
      "outputs": [
        {
          "output_type": "stream",
          "name": "stdout",
          "text": [
            "0.9110884006131834\n"
          ]
        }
      ]
    },
    {
      "cell_type": "code",
      "source": [
        "# Four features Concatenating into one and training the model -Drinking Purpose+Ailments+Cement Industry Purpose+Irrigation Purpose\n",
        "rf2=classifier_RF.fit(X_train,y6_train)\n",
        "rf2_pre=rf2.predict(X_test)\n",
        "acc2=accuracy_score(y6_test,rf2_pre) # Accuracy\n",
        "print(acc2)\n",
        "acc2=acc2*100"
      ],
      "metadata": {
        "id": "dMs6ntWxej2Q",
        "colab": {
          "base_uri": "https://localhost:8080/"
        },
        "outputId": "cf6114d7-eb29-4aa3-bdfe-ba500d955dd1"
      },
      "execution_count": 17,
      "outputs": [
        {
          "output_type": "stream",
          "name": "stdout",
          "text": [
            "0.915687276443536\n"
          ]
        }
      ]
    },
    {
      "cell_type": "code",
      "source": [
        "# Two features-Drinking Purpose,Ailments\n",
        "rf3=classifier_RF.fit(X_train, y5_train1) # for fitting the dataset\n",
        "rf3_pre=rf3.predict(X_test) # predicts the outputs for test input"
      ],
      "metadata": {
        "id": "mVHKM5BRe62E"
      },
      "execution_count": 18,
      "outputs": []
    },
    {
      "cell_type": "code",
      "source": [
        "#Accuracy for Two features\n",
        "pre1=pd.DataFrame(rf3_pre, columns=['Drinking Purpose','Ailments'])\n",
        "pre1['ail']=pre1['Drinking Purpose']+pre1['Ailments']\n",
        "pre2=pre1.drop(columns=['Drinking Purpose','Ailments'])\n",
        "pre1.drop(columns=['ail'],inplace=True)\n",
        "f=0\n",
        "ans=0\n",
        "for i in y_test['ail']:\n",
        "  for j in range(len(pre2['ail'])):\n",
        "    if f==j and pre2['ail'][j]==i:\n",
        "      ans+=1\n",
        "    elif j>f:\n",
        "      break\n",
        "  f+=1\n",
        "acc3=(ans/f)*100\n",
        "print(ans/f)"
      ],
      "metadata": {
        "id": "651_BcsxfzKj",
        "colab": {
          "base_uri": "https://localhost:8080/"
        },
        "outputId": "fc7175f5-f0ad-4ee6-e28a-c6a1e1a015e1"
      },
      "execution_count": 19,
      "outputs": [
        {
          "output_type": "stream",
          "name": "stdout",
          "text": [
            "0.9182422074603985\n"
          ]
        }
      ]
    },
    {
      "cell_type": "code",
      "source": [
        "# Two features Concatenating into one and training the model -Drinking Purpose+Ailments\n",
        "rf4=classifier_RF.fit(X_train,y_train)\n",
        "rf4_pre=rf4.predict(X_test)\n",
        "acc4=accuracy_score(y_test,rf4_pre) #Accuracy\n",
        "print(acc4)\n",
        "acc4=acc4*100"
      ],
      "metadata": {
        "id": "4gmLsoSMgzk9",
        "colab": {
          "base_uri": "https://localhost:8080/"
        },
        "outputId": "8b33c4cf-a797-4ffe-e5f6-0ee61e62279f"
      },
      "execution_count": 20,
      "outputs": [
        {
          "output_type": "stream",
          "name": "stdout",
          "text": [
            "0.9195196729688299\n"
          ]
        }
      ]
    },
    {
      "cell_type": "code",
      "source": [
        "#Drinking Purpose\n",
        "#Training the model\n",
        "rf5=classifier_RF.fit(X_train, y1_train)\n",
        "rf5_pre=rf5.predict(X_test)\n",
        "acc5=accuracy_score(y1_test,rf5_pre) #Accuracy\n",
        "print(acc5)\n",
        "acc5=acc5*100"
      ],
      "metadata": {
        "id": "4ogPmdRXhtaS",
        "colab": {
          "base_uri": "https://localhost:8080/"
        },
        "outputId": "d613b93f-8b2a-494f-9d3f-333c80cdfb5f"
      },
      "execution_count": 21,
      "outputs": [
        {
          "output_type": "stream",
          "name": "stdout",
          "text": [
            "0.9259070005109862\n"
          ]
        }
      ]
    },
    {
      "cell_type": "code",
      "source": [
        "#Confusion Matrix for Drinking Purpose\n",
        "matrix = confusion_matrix(y1_test,rf5_pre)\n",
        "class_names=['No','Yes']\n",
        "fig,ax=plot_confusion_matrix(conf_mat=matrix,figsize=(5,5))\n",
        "tick_marks = np.arange(len(class_names))\n",
        "plt.xticks(tick_marks, class_names, rotation=25)\n",
        "plt.yticks(tick_marks, class_names, rotation=0)\n",
        "plt.xlabel('Predicted label')\n",
        "plt.ylabel('True label')\n",
        "plt.title('Confusion Matrix for Random Forest Model')\n",
        "plt.show()"
      ],
      "metadata": {
        "id": "vsOXHipviUOk",
        "colab": {
          "base_uri": "https://localhost:8080/",
          "height": 495
        },
        "outputId": "ba06fd3a-dcf4-4550-9c42-1e5806b83387"
      },
      "execution_count": 22,
      "outputs": [
        {
          "output_type": "display_data",
          "data": {
            "text/plain": [
              "<Figure size 500x500 with 1 Axes>"
            ],
            "image/png": "[encoded data removed]"
          },
          "metadata": {}
        }
      ]
    },
    {
      "cell_type": "code",
      "source": [
        "# Performance Metrics for Drinking Purpose\n",
        "def find_TP(y, y_hat):\n",
        "   return sum((y == 'Yes') & (y_hat == 'Yes')) # True Positives\n",
        "def find_FN(y, y_hat):\n",
        "   return sum((y == 'Yes') & (y_hat == 'No')) # False Negatives Type-II error\n",
        "def find_FP(y, y_hat):\n",
        "   return sum((y == 'No') & (y_hat == 'Yes')) # False Positives Type-I error\n",
        "def find_TN(y, y_hat):\n",
        "   return sum((y == 'No') & (y_hat == 'No')) # True Negatives\n",
        "TP=(find_TP(y1_test,rf5_pre))\n",
        "TN=(find_TN(y1_test,rf5_pre))\n",
        "FN=(find_FN(y1_test,rf5_pre))\n",
        "FP=(find_FP(y1_test,rf5_pre))\n",
        "print('True Positive:',TP)\n",
        "print('True Negative:',TN)\n",
        "print('False Positive:',FP)\n",
        "print('False Negative:',FN)\n",
        "accuracy=(TP+TN)/(TP+FP+TN+FN)\n",
        "print('Accuracy:',accuracy)\n",
        "if TP==0:\n",
        "  precision=0\n",
        "  recall=0\n",
        "  f1_score=0\n",
        "else:\n",
        "  precision = TP/(TP+FP)\n",
        "  recall = TP/(TP+FN)\n",
        "  f1_score = 2*((precision*recall)/(precision+recall))\n",
        "print('Precision:',precision)\n",
        "print('Recall:',recall)\n",
        "print('F1 score:',f1_score)\n",
        "if TN==0:\n",
        "  specificity=0\n",
        "else:\n",
        "  specificity=TN/(TN+FP)\n",
        "print('Specificity:',specificity)"
      ],
      "metadata": {
        "id": "VuDloUsmilWO",
        "colab": {
          "base_uri": "https://localhost:8080/"
        },
        "outputId": "f6d7d9cf-1105-46cb-940d-04d131a10cb2"
      },
      "execution_count": 23,
      "outputs": [
        {
          "output_type": "stream",
          "name": "stdout",
          "text": [
            "True Positive: 1114\n",
            "True Negative: 2510\n",
            "False Positive: 10\n",
            "False Negative: 280\n",
            "Accuracy: 0.9259070005109862\n",
            "Precision: 0.9911032028469751\n",
            "Recall: 0.7991391678622669\n",
            "F1 score: 0.8848292295472597\n",
            "Specificity: 0.996031746031746\n"
          ]
        }
      ]
    },
    {
      "cell_type": "code",
      "source": [
        "#Ailments\n",
        "#Fitting the model\n",
        "rf6=classifier_RF.fit(X_train, y2_train)\n",
        "rf6_pre=rf6.predict(X_test)\n",
        "acc6=accuracy_score(y2_test, rf6_pre) # Accuracy\n",
        "print(acc6)\n",
        "acc6=acc6*100"
      ],
      "metadata": {
        "id": "i0hrXFwmjdIL",
        "colab": {
          "base_uri": "https://localhost:8080/"
        },
        "outputId": "ec57762b-58f9-405a-9a6f-c229c2d4b9e6"
      },
      "execution_count": 24,
      "outputs": [
        {
          "output_type": "stream",
          "name": "stdout",
          "text": [
            "0.9200306591722024\n"
          ]
        }
      ]
    },
    {
      "cell_type": "code",
      "source": [
        "#Cement Industry Purpose\n",
        "#Fitting the model\n",
        "rf7=classifier_RF.fit(X_train, y3_train)\n",
        "rf7_pre=rf7.predict(X_test)\n",
        "acc7=accuracy_score(y3_test,rf7_pre) # Accuracy\n",
        "print(acc7)\n",
        "acc7=acc7*100"
      ],
      "metadata": {
        "id": "54j2RLdBkOwq",
        "colab": {
          "base_uri": "https://localhost:8080/"
        },
        "outputId": "d8b95342-21c4-4699-b5ab-f71745cdbbf0"
      },
      "execution_count": 25,
      "outputs": [
        {
          "output_type": "stream",
          "name": "stdout",
          "text": [
            "0.9241185487991824\n"
          ]
        }
      ]
    },
    {
      "cell_type": "code",
      "source": [
        "#Confusion Matrix for Cement Industry Purpose\n",
        "matrix = confusion_matrix(y3_test,rf7_pre)\n",
        "class_names=['No','Yes']\n",
        "fig,ax=plot_confusion_matrix(conf_mat=matrix,figsize=(5,5))\n",
        "tick_marks = np.arange(len(class_names))\n",
        "plt.xticks(tick_marks, class_names, rotation=25)\n",
        "plt.yticks(tick_marks, class_names, rotation=0)\n",
        "plt.xlabel('Predicted label')\n",
        "plt.ylabel('True label')\n",
        "plt.title('Confusion Matrix for Random Forest Model')\n",
        "plt.show()"
      ],
      "metadata": {
        "id": "fx6iTH7QkpKl",
        "colab": {
          "base_uri": "https://localhost:8080/",
          "height": 495
        },
        "outputId": "161ddee0-78e7-4903-cbe6-b65ac4b20249"
      },
      "execution_count": 26,
      "outputs": [
        {
          "output_type": "display_data",
          "data": {
            "text/plain": [
              "<Figure size 500x500 with 1 Axes>"
            ],
            "image/png": "[encoded data removed]"
          },
          "metadata": {}
        }
      ]
    },
    {
      "cell_type": "code",
      "source": [
        "# Performance Metrics for Cement Industry Purpose\n",
        "def find_TP(y, y_hat):\n",
        "   return sum((y == 'Yes') & (y_hat == 'Yes')) # True Positives\n",
        "def find_FN(y, y_hat):\n",
        "   return sum((y == 'Yes') & (y_hat == 'No')) # False Negatives Type-II error\n",
        "def find_FP(y, y_hat):\n",
        "   return sum((y == 'No') & (y_hat == 'Yes')) # False Positives Type-I error\n",
        "def find_TN(y, y_hat):\n",
        "   return sum((y == 'No') & (y_hat == 'No')) # True Negatives\n",
        "TP=(find_TP(y3_test,rf7_pre))\n",
        "TN=(find_TN(y3_test,rf7_pre))\n",
        "FN=(find_FN(y3_test,rf7_pre))\n",
        "FP=(find_FP(y3_test,rf7_pre))\n",
        "print('True Positive:',TP)\n",
        "print('True Negative:',TN)\n",
        "print('False Positive:',FP)\n",
        "print('False Negative:',FN)\n",
        "accuracy=(TP+TN)/(TP+FP+TN+FN)\n",
        "print('Accuracy:',accuracy)\n",
        "if TP==0:\n",
        "  precision=0\n",
        "  recall=0\n",
        "  f1_score=0\n",
        "else:\n",
        "  precision = TP/(TP+FP)\n",
        "  recall = TP/(TP+FN)\n",
        "  f1_score = 2*((precision*recall)/(precision+recall))\n",
        "print('Precision:',precision)\n",
        "print('Recall:',recall)\n",
        "print('F1 score:',f1_score)\n",
        "if TN==0:\n",
        "  specificity=0\n",
        "else:\n",
        "  specificity=TN/(TN+FP)\n",
        "print('Specificity:',specificity)"
      ],
      "metadata": {
        "id": "UYe53V78k3dz",
        "colab": {
          "base_uri": "https://localhost:8080/"
        },
        "outputId": "777c2f14-a409-4ba9-ad1f-6c9e9da4aa28"
      },
      "execution_count": 27,
      "outputs": [
        {
          "output_type": "stream",
          "name": "stdout",
          "text": [
            "True Positive: 1508\n",
            "True Negative: 2109\n",
            "False Positive: 14\n",
            "False Negative: 283\n",
            "Accuracy: 0.9241185487991824\n",
            "Precision: 0.9908015768725361\n",
            "Recall: 0.8419877163595757\n",
            "F1 score: 0.9103531542408693\n",
            "Specificity: 0.9934055581723975\n"
          ]
        }
      ]
    },
    {
      "cell_type": "code",
      "source": [
        "#Irrigation Purpose\n",
        "#Fitting the model\n",
        "rf8=classifier_RF.fit(X_train, y4_train)\n",
        "rf8_pre=rf8.predict(X_test)\n",
        "acc8=accuracy_score(y4_test,rf8_pre) # Accuracy\n",
        "print(acc8)\n",
        "acc8*=100"
      ],
      "metadata": {
        "id": "YKtaG97BlDA6",
        "colab": {
          "base_uri": "https://localhost:8080/"
        },
        "outputId": "e7fe0ffd-1a1b-4d56-9323-cec33319705e"
      },
      "execution_count": 28,
      "outputs": [
        {
          "output_type": "stream",
          "name": "stdout",
          "text": [
            "0.9253960143076136\n"
          ]
        }
      ]
    },
    {
      "cell_type": "code",
      "source": [
        "#Confusion Matrix for Irrigation Purpose\n",
        "matrix = confusion_matrix(y4_test,rf8_pre)\n",
        "class_names=['No','Yes']\n",
        "fig,ax=plot_confusion_matrix(conf_mat=matrix,figsize=(5,5))\n",
        "tick_marks = np.arange(len(class_names))\n",
        "plt.xticks(tick_marks, class_names, rotation=25)\n",
        "plt.yticks(tick_marks, class_names, rotation=0)\n",
        "plt.xlabel('Predicted label')\n",
        "plt.ylabel('True label')\n",
        "plt.title('Confusion Matrix for Random Forest Model')\n",
        "plt.show()"
      ],
      "metadata": {
        "id": "V8OZyoHklW9d",
        "colab": {
          "base_uri": "https://localhost:8080/",
          "height": 495
        },
        "outputId": "656947d4-d617-48d9-e4b1-b3e628693a5c"
      },
      "execution_count": 29,
      "outputs": [
        {
          "output_type": "display_data",
          "data": {
            "text/plain": [
              "<Figure size 500x500 with 1 Axes>"
            ],
            "image/png": "[encoded data removed]"
          },
          "metadata": {}
        }
      ]
    },
    {
      "cell_type": "code",
      "source": [
        "# Performance Metrics for Irrigation Purpose\n",
        "def find_TP(y, y_hat):\n",
        "   return sum((y == 'Yes') & (y_hat == 'Yes')) # True Positives\n",
        "def find_FN(y, y_hat):\n",
        "   return sum((y == 'Yes') & (y_hat == 'No')) # False Negatives Type-II error\n",
        "def find_FP(y, y_hat):\n",
        "   return sum((y == 'No') & (y_hat == 'Yes')) # False Positives Type-I error\n",
        "def find_TN(y, y_hat):\n",
        "   return sum((y == 'No') & (y_hat == 'No')) # True Negatives\n",
        "TP=(find_TP(y4_test,rf8_pre))\n",
        "TN=(find_TN(y4_test,rf8_pre))\n",
        "FN=(find_FN(y4_test,rf8_pre))\n",
        "FP=(find_FP(y4_test,rf8_pre))\n",
        "print('True Positive:',TP)\n",
        "print('True Negative:',TN)\n",
        "print('False Positive:',FP)\n",
        "print('False Negative:',FN)\n",
        "accuracy=(TP+TN)/(TP+FP+TN+FN)\n",
        "print('Accuracy:',accuracy)\n",
        "if TP==0:\n",
        "  precision=0\n",
        "  recall=0\n",
        "  f1_score=0\n",
        "else:\n",
        "  precision = TP/(TP+FP)\n",
        "  recall = TP/(TP+FN)\n",
        "  f1_score = 2*((precision*recall)/(precision+recall))\n",
        "print('Precision:',precision)\n",
        "print('Recall:',recall)\n",
        "print('F1 score:',f1_score)\n",
        "if TN==0:\n",
        "  specificity=0\n",
        "else:\n",
        "  specificity=TN/(TN+FP)\n",
        "print('Specificity:',specificity)"
      ],
      "metadata": {
        "id": "QbMj5Qftlg0i",
        "colab": {
          "base_uri": "https://localhost:8080/"
        },
        "outputId": "74831d8c-0cdb-4c3e-ea74-3c8840d164bc"
      },
      "execution_count": 30,
      "outputs": [
        {
          "output_type": "stream",
          "name": "stdout",
          "text": [
            "True Positive: 744\n",
            "True Negative: 2878\n",
            "False Positive: 9\n",
            "False Negative: 283\n",
            "Accuracy: 0.9253960143076136\n",
            "Precision: 0.9880478087649402\n",
            "Recall: 0.7244401168451802\n",
            "F1 score: 0.8359550561797754\n",
            "Specificity: 0.9968825770696225\n"
          ]
        }
      ]
    },
    {
      "cell_type": "markdown",
      "source": [
        "#### Prediction"
      ],
      "metadata": {
        "id": "nfPttsHYlz4i"
      }
    },
    {
      "cell_type": "code",
      "source": [
        "ph=round(float(input()),2)\n",
        "Ca=round(float(input()),2)\n",
        "Mg=round(float(input()),2)\n",
        "Cl=round(float(input()),2)\n",
        "Ben=round(float(input()),2)\n",
        "THM=round(float(input()),2)\n",
        "Cu=round(float(input()),2)\n",
        "Ni=round(float(input()),2)\n",
        "Xtest1=[[ph,Ca,Mg,Cl,Ben,THM,Cu,Ni]]\n",
        "X_test1=pd.DataFrame(Xtest1)\n",
        "X_test1.rename(columns = {0: 'Ph',1:'Calcium(in ppm)',2:'Magnesium(in ppm)',3:'Chlorine(in ppm)',4:'Benzene(in ppb)',5:'THM(in ppb)',6:'Copper(in ppm)',7:'Nitrate(in ppm)',9:'Drinking Purpose',10:'Ailments',11:'Cement Industry Purpose',12:'Irrigation Purpose'}, inplace = True)\n",
        "X_test1"
      ],
      "metadata": {
        "id": "V8Pi4Y3ul2em",
        "colab": {
          "base_uri": "https://localhost:8080/",
          "height": 228
        },
        "outputId": "53961a74-c164-40cd-f547-11d66a9ad23f"
      },
      "execution_count": 32,
      "outputs": [
        {
          "name": "stdout",
          "output_type": "stream",
          "text": [
            "25\n",
            "45\n",
            "85\n",
            "78\n",
            "14\n",
            "75\n",
            "96\n",
            "35\n"
          ]
        },
        {
          "output_type": "execute_result",
          "data": {
            "text/plain": [
              "     Ph  Calcium(in ppm)  Magnesium(in ppm)  Chlorine(in ppm)  \\\n",
              "0  25.0             45.0               85.0              78.0   \n",
              "\n",
              "   Benzene(in ppb)  THM(in ppb)  Copper(in ppm)  Nitrate(in ppm)  \n",
              "0             14.0         75.0            96.0             35.0  "
            ],
            "text/html": [
              "\n",
              "  <div id=\"df-70d16623-211e-40ca-ad3e-c1336a0b474b\" class=\"colab-df-container\">\n",
              "    <div>\n",
              "<style scoped>\n",
              "    .dataframe tbody tr th:only-of-type {\n",
              "        vertical-align: middle;\n",
              "    }\n",
              "\n",
              "    .dataframe tbody tr th {\n",
              "        vertical-align: top;\n",
              "    }\n",
              "\n",
              "    .dataframe thead th {\n",
              "        text-align: right;\n",
              "    }\n",
              "</style>\n",
              "<table border=\"1\" class=\"dataframe\">\n",
              "  <thead>\n",
              "    <tr style=\"text-align: right;\">\n",
              "      <th></th>\n",
              "      <th>Ph</th>\n",
              "      <th>Calcium(in ppm)</th>\n",
              "      <th>Magnesium(in ppm)</th>\n",
              "      <th>Chlorine(in ppm)</th>\n",
              "      <th>Benzene(in ppb)</th>\n",
              "      <th>THM(in ppb)</th>\n",
              "      <th>Copper(in ppm)</th>\n",
              "      <th>Nitrate(in ppm)</th>\n",
              "    </tr>\n",
              "  </thead>\n",
              "  <tbody>\n",
              "    <tr>\n",
              "      <th>0</th>\n",
              "      <td>25.0</td>\n",
              "      <td>45.0</td>\n",
              "      <td>85.0</td>\n",
              "      <td>78.0</td>\n",
              "      <td>14.0</td>\n",
              "      <td>75.0</td>\n",
              "      <td>96.0</td>\n",
              "      <td>35.0</td>\n",
              "    </tr>\n",
              "  </tbody>\n",
              "</table>\n",
              "</div>\n",
              "    <div class=\"colab-df-buttons\">\n",
              "\n",
              "  <div class=\"colab-df-container\">\n",
              "    <button class=\"colab-df-convert\" onclick=\"convertToInteractive('df-70d16623-211e-40ca-ad3e-c1336a0b474b')\"\n",
              "            title=\"Convert this dataframe to an interactive table.\"\n",
              "            style=\"display:none;\">\n",
              "\n",
              "  <svg xmlns=\"http://www.w3.org/2000/svg\" height=\"24px\" viewBox=\"0 -960 960 960\">\n",
              "    <path d=\"M120-120v-720h720v720H120Zm60-500h600v-160H180v160Zm220 220h160v-160H400v160Zm0 220h160v-160H400v160ZM180-400h160v-160H180v160Zm440 0h160v-160H620v160ZM180-180h160v-160H180v160Zm440 0h160v-160H620v160Z\"/>\n",
              "  </svg>\n",
              "    </button>\n",
              "\n",
              "  <style>\n",
              "    .colab-df-container {\n",
              "      display:flex;\n",
              "      gap: 12px;\n",
              "    }\n",
              "\n",
              "    .colab-df-convert {\n",
              "      background-color: #E8F0FE;\n",
              "      border: none;\n",
              "      border-radius: 50%;\n",
              "      cursor: pointer;\n",
              "      display: none;\n",
              "      fill: #1967D2;\n",
              "      height: 32px;\n",
              "      padding: 0 0 0 0;\n",
              "      width: 32px;\n",
              "    }\n",
              "\n",
              "    .colab-df-convert:hover {\n",
              "      background-color: #E2EBFA;\n",
              "      box-shadow: 0px 1px 2px rgba(60, 64, 67, 0.3), 0px 1px 3px 1px rgba(60, 64, 67, 0.15);\n",
              "      fill: #174EA6;\n",
              "    }\n",
              "\n",
              "    .colab-df-buttons div {\n",
              "      margin-bottom: 4px;\n",
              "    }\n",
              "\n",
              "    [theme=dark] .colab-df-convert {\n",
              "      background-color: #3B4455;\n",
              "      fill: #D2E3FC;\n",
              "    }\n",
              "\n",
              "    [theme=dark] .colab-df-convert:hover {\n",
              "      background-color: #434B5C;\n",
              "      box-shadow: 0px 1px 3px 1px rgba(0, 0, 0, 0.15);\n",
              "      filter: drop-shadow(0px 1px 2px rgba(0, 0, 0, 0.3));\n",
              "      fill: #FFFFFF;\n",
              "    }\n",
              "  </style>\n",
              "\n",
              "    <script>\n",
              "      const buttonEl =\n",
              "        document.querySelector('#df-70d16623-211e-40ca-ad3e-c1336a0b474b button.colab-df-convert');\n",
              "      buttonEl.style.display =\n",
              "        google.colab.kernel.accessAllowed ? 'block' : 'none';\n",
              "\n",
              "      async function convertToInteractive(key) {\n",
              "        const element = document.querySelector('#df-70d16623-211e-40ca-ad3e-c1336a0b474b');\n",
              "        const dataTable =\n",
              "          await google.colab.kernel.invokeFunction('convertToInteractive',\n",
              "                                                    [key], {});\n",
              "        if (!dataTable) return;\n",
              "\n",
              "        const docLinkHtml = 'Like what you see? Visit the ' +\n",
              "          '<a target=\"_blank\" href=https://colab.research.google.com/notebooks/data_table.ipynb>data table notebook</a>'\n",
              "          + ' to learn more about interactive tables.';\n",
              "        element.innerHTML = '';\n",
              "        dataTable['output_type'] = 'display_data';\n",
              "        await google.colab.output.renderOutput(dataTable, element);\n",
              "        const docLink = document.createElement('div');\n",
              "        docLink.innerHTML = docLinkHtml;\n",
              "        element.appendChild(docLink);\n",
              "      }\n",
              "    </script>\n",
              "  </div>\n",
              "\n",
              "\n",
              "  <div id=\"id_907c28ef-a509-4c78-8210-f799936ae28e\">\n",
              "    <style>\n",
              "      .colab-df-generate {\n",
              "        background-color: #E8F0FE;\n",
              "        border: none;\n",
              "        border-radius: 50%;\n",
              "        cursor: pointer;\n",
              "        display: none;\n",
              "        fill: #1967D2;\n",
              "        height: 32px;\n",
              "        padding: 0 0 0 0;\n",
              "        width: 32px;\n",
              "      }\n",
              "\n",
              "      .colab-df-generate:hover {\n",
              "        background-color: #E2EBFA;\n",
              "        box-shadow: 0px 1px 2px rgba(60, 64, 67, 0.3), 0px 1px 3px 1px rgba(60, 64, 67, 0.15);\n",
              "        fill: #174EA6;\n",
              "      }\n",
              "\n",
              "      [theme=dark] .colab-df-generate {\n",
              "        background-color: #3B4455;\n",
              "        fill: #D2E3FC;\n",
              "      }\n",
              "\n",
              "      [theme=dark] .colab-df-generate:hover {\n",
              "        background-color: #434B5C;\n",
              "        box-shadow: 0px 1px 3px 1px rgba(0, 0, 0, 0.15);\n",
              "        filter: drop-shadow(0px 1px 2px rgba(0, 0, 0, 0.3));\n",
              "        fill: #FFFFFF;\n",
              "      }\n",
              "    </style>\n",
              "    <button class=\"colab-df-generate\" onclick=\"generateWithVariable('X_test1')\"\n",
              "            title=\"Generate code using this dataframe.\"\n",
              "            style=\"display:none;\">\n",
              "\n",
              "  <svg xmlns=\"http://www.w3.org/2000/svg\" height=\"24px\"viewBox=\"0 0 24 24\"\n",
              "       width=\"24px\">\n",
              "    <path d=\"M7,19H8.4L18.45,9,17,7.55,7,17.6ZM5,21V16.75L18.45,3.32a2,2,0,0,1,2.83,0l1.4,1.43a1.91,1.91,0,0,1,.58,1.4,1.91,1.91,0,0,1-.58,1.4L9.25,21ZM18.45,9,17,7.55Zm-12,3A5.31,5.31,0,0,0,4.9,8.1,5.31,5.31,0,0,0,1,6.5,5.31,5.31,0,0,0,4.9,4.9,5.31,5.31,0,0,0,6.5,1,5.31,5.31,0,0,0,8.1,4.9,5.31,5.31,0,0,0,12,6.5,5.46,5.46,0,0,0,6.5,12Z\"/>\n",
              "  </svg>\n",
              "    </button>\n",
              "    <script>\n",
              "      (() => {\n",
              "      const buttonEl =\n",
              "        document.querySelector('#id_907c28ef-a509-4c78-8210-f799936ae28e button.colab-df-generate');\n",
              "      buttonEl.style.display =\n",
              "        google.colab.kernel.accessAllowed ? 'block' : 'none';\n",
              "\n",
              "      buttonEl.onclick = () => {\n",
              "        google.colab.notebook.generateWithVariable('X_test1');\n",
              "      }\n",
              "      })();\n",
              "    </script>\n",
              "  </div>\n",
              "\n",
              "    </div>\n",
              "  </div>\n"
            ],
            "application/vnd.google.colaboratory.intrinsic+json": {
              "type": "dataframe",
              "variable_name": "X_test1",
              "summary": "{\n  \"name\": \"X_test1\",\n  \"rows\": 1,\n  \"fields\": [\n    {\n      \"column\": \"Ph\",\n      \"properties\": {\n        \"dtype\": \"number\",\n        \"std\": null,\n        \"min\": 25.0,\n        \"max\": 25.0,\n        \"num_unique_values\": 1,\n        \"samples\": [\n          25.0\n        ],\n        \"semantic_type\": \"\",\n        \"description\": \"\"\n      }\n    },\n    {\n      \"column\": \"Calcium(in ppm)\",\n      \"properties\": {\n        \"dtype\": \"number\",\n        \"std\": null,\n        \"min\": 45.0,\n        \"max\": 45.0,\n        \"num_unique_values\": 1,\n        \"samples\": [\n          45.0\n        ],\n        \"semantic_type\": \"\",\n        \"description\": \"\"\n      }\n    },\n    {\n      \"column\": \"Magnesium(in ppm)\",\n      \"properties\": {\n        \"dtype\": \"number\",\n        \"std\": null,\n        \"min\": 85.0,\n        \"max\": 85.0,\n        \"num_unique_values\": 1,\n        \"samples\": [\n          85.0\n        ],\n        \"semantic_type\": \"\",\n        \"description\": \"\"\n      }\n    },\n    {\n      \"column\": \"Chlorine(in ppm)\",\n      \"properties\": {\n        \"dtype\": \"number\",\n        \"std\": null,\n        \"min\": 78.0,\n        \"max\": 78.0,\n        \"num_unique_values\": 1,\n        \"samples\": [\n          78.0\n        ],\n        \"semantic_type\": \"\",\n        \"description\": \"\"\n      }\n    },\n    {\n      \"column\": \"Benzene(in ppb)\",\n      \"properties\": {\n        \"dtype\": \"number\",\n        \"std\": null,\n        \"min\": 14.0,\n        \"max\": 14.0,\n        \"num_unique_values\": 1,\n        \"samples\": [\n          14.0\n        ],\n        \"semantic_type\": \"\",\n        \"description\": \"\"\n      }\n    },\n    {\n      \"column\": \"THM(in ppb)\",\n      \"properties\": {\n        \"dtype\": \"number\",\n        \"std\": null,\n        \"min\": 75.0,\n        \"max\": 75.0,\n        \"num_unique_values\": 1,\n        \"samples\": [\n          75.0\n        ],\n        \"semantic_type\": \"\",\n        \"description\": \"\"\n      }\n    },\n    {\n      \"column\": \"Copper(in ppm)\",\n      \"properties\": {\n        \"dtype\": \"number\",\n        \"std\": null,\n        \"min\": 96.0,\n        \"max\": 96.0,\n        \"num_unique_values\": 1,\n        \"samples\": [\n          96.0\n        ],\n        \"semantic_type\": \"\",\n        \"description\": \"\"\n      }\n    },\n    {\n      \"column\": \"Nitrate(in ppm)\",\n      \"properties\": {\n        \"dtype\": \"number\",\n        \"std\": null,\n        \"min\": 35.0,\n        \"max\": 35.0,\n        \"num_unique_values\": 1,\n        \"samples\": [\n          35.0\n        ],\n        \"semantic_type\": \"\",\n        \"description\": \"\"\n      }\n    }\n  ]\n}"
            }
          },
          "metadata": {},
          "execution_count": 32
        }
      ]
    },
    {
      "cell_type": "code",
      "source": [
        "rf=classifier_RF.fit(X, y5)\n",
        "rf_pre=rf.predict(X_test1)\n",
        "for i in rf_pre:\n",
        "  print('Drinking Purpose: '+i[0])\n",
        "  print('Ailments: '+i[1])\n",
        "  print('Cement Industry Purpose: '+i[2])\n",
        "  print('Irrigation Purpose: '+i[3])"
      ],
      "metadata": {
        "id": "eRlej-xPl7kL",
        "colab": {
          "base_uri": "https://localhost:8080/"
        },
        "outputId": "2e95e45c-aa57-49b2-bb8c-705957b19246"
      },
      "execution_count": 33,
      "outputs": [
        {
          "output_type": "stream",
          "name": "stdout",
          "text": [
            "Drinking Purpose: No\n",
            "Ailments: Anaemia,Nausea,Bladder Cancer,Methemoglobinemia,Diarrhoea,Leukaemia\n",
            "Cement Industry Purpose: No\n",
            "Irrigation Purpose: No\n"
          ]
        }
      ]
    },
    {
      "cell_type": "markdown",
      "source": [
        "### KNN (K-Nearest Neighbour)"
      ],
      "metadata": {
        "id": "mO92BRIsoDhY"
      }
    },
    {
      "cell_type": "code",
      "source": [
        "from sklearn.neighbors import KNeighborsClassifier\n",
        "classifier_knn= KNeighborsClassifier(n_neighbors=10)"
      ],
      "metadata": {
        "id": "GWr8deuBoH6f"
      },
      "execution_count": 34,
      "outputs": []
    },
    {
      "cell_type": "markdown",
      "source": [
        "#### Fitting the model and Predcting the Accuracies"
      ],
      "metadata": {
        "id": "gRPCndh9pCCj"
      }
    },
    {
      "cell_type": "code",
      "source": [
        "import matplotlib.pyplot as plt\n",
        "from mlxtend.plotting import plot_confusion_matrix\n",
        "from sklearn.metrics import accuracy_score, confusion_matrix"
      ],
      "metadata": {
        "id": "XcFvjwoqpBDB"
      },
      "execution_count": 35,
      "outputs": []
    },
    {
      "cell_type": "code",
      "source": [
        "#Four features-Drinking Purpose,Ailments,Cement Industry Purpose,Irrigation Purpose\n",
        "knn1=classifier_knn.fit(X_train, y5_train) # for fitting the dataset\n",
        "knn1_pre=knn1.predict(X_test) # predicts the outputs for test input"
      ],
      "metadata": {
        "id": "pdQh1uBPpKnL"
      },
      "execution_count": 36,
      "outputs": []
    },
    {
      "cell_type": "code",
      "source": [
        "#Accuracy for four features\n",
        "pre1=pd.DataFrame(knn1_pre, columns=['Drinking Purpose','Ailments','Cement Industry Purpose','Irrigation Purpose'])\n",
        "pre1['ail']=pre1['Drinking Purpose']+pre1['Ailments']+pre1['Cement Industry Purpose']+pre1['Irrigation Purpose']\n",
        "pre2=pre1.drop(columns=['Drinking Purpose','Ailments','Cement Industry Purpose','Irrigation Purpose'])\n",
        "pre1.drop(columns=['ail'],inplace=True)\n",
        "f=0\n",
        "ans=0\n",
        "for i in y6_test['ail']:\n",
        "  for j in range(len(pre2['ail'])):\n",
        "    if f==j and pre2['ail'][j]==i:\n",
        "      ans+=1\n",
        "    elif j>f:\n",
        "      break\n",
        "  f+=1\n",
        "acc9=(ans/f)*100\n",
        "print(ans/f)"
      ],
      "metadata": {
        "id": "uJAWrPkPpbS8",
        "colab": {
          "base_uri": "https://localhost:8080/"
        },
        "outputId": "009b2d7e-eb87-4283-a88a-66a16d7c13af"
      },
      "execution_count": 37,
      "outputs": [
        {
          "output_type": "stream",
          "name": "stdout",
          "text": [
            "0.5797138477261113\n"
          ]
        }
      ]
    },
    {
      "cell_type": "code",
      "source": [
        "# Four features Concatenating into one and training the model -Drinking Purpose+Ailments+Cement Industry Purpose+Irrigation Purpose\n",
        "knn2=classifier_knn.fit(X_train,y6_train)\n",
        "knn2_pre=knn2.predict(X_test)\n",
        "acc10=accuracy_score(y6_test,knn2_pre) # Accuracy\n",
        "print(acc10)\n",
        "acc10*=100"
      ],
      "metadata": {
        "id": "xkZAbZ6_pnrc",
        "colab": {
          "base_uri": "https://localhost:8080/"
        },
        "outputId": "17212720-9c1a-483b-ef92-e0f44cd03b4e"
      },
      "execution_count": 38,
      "outputs": [
        {
          "output_type": "stream",
          "name": "stdout",
          "text": [
            "0.5850792028615227\n"
          ]
        }
      ]
    },
    {
      "cell_type": "code",
      "source": [
        "# Two features-Drinking Purpose,Ailments\n",
        "knn3=classifier_knn.fit(X_train, y5_train1) # for fitting the dataset\n",
        "knn3_pre=knn3.predict(X_test) # predicts the outputs for test input"
      ],
      "metadata": {
        "id": "GqzptOKzpxuA"
      },
      "execution_count": 39,
      "outputs": []
    },
    {
      "cell_type": "code",
      "source": [
        "#Accuracy for Two features\n",
        "pre1=pd.DataFrame(knn3_pre, columns=['Drinking Purpose','Ailments'])\n",
        "pre1['ail']=pre1['Drinking Purpose']+pre1['Ailments']\n",
        "pre2=pre1.drop(columns=['Drinking Purpose','Ailments'])\n",
        "pre1.drop(columns=['ail'],inplace=True)\n",
        "f=0\n",
        "ans=0\n",
        "for i in y_test['ail']:\n",
        "  for j in range(len(pre2['ail'])):\n",
        "    if f==j and pre2['ail'][j]==i:\n",
        "      ans+=1\n",
        "    elif j>f:\n",
        "      break\n",
        "  f+=1\n",
        "acc11=(ans/f)*100\n",
        "print(ans/f)"
      ],
      "metadata": {
        "id": "ZLH4kJ6Wp6v5",
        "colab": {
          "base_uri": "https://localhost:8080/"
        },
        "outputId": "a0baec88-b0db-471e-af12-d05e786cda8f"
      },
      "execution_count": 40,
      "outputs": [
        {
          "output_type": "stream",
          "name": "stdout",
          "text": [
            "0.6619826264690853\n"
          ]
        }
      ]
    },
    {
      "cell_type": "code",
      "source": [
        "# Two features Concatenating into one and training the model -Drinking Purpose+Ailments\n",
        "knn4=classifier_knn.fit(X_train,y_train)\n",
        "knn4_pre=knn4.predict(X_test)\n",
        "acc12=accuracy_score(y_test,knn4_pre) #Accuracy\n",
        "print(acc12)\n",
        "acc12*=100"
      ],
      "metadata": {
        "id": "FpGcCQBbqARs",
        "colab": {
          "base_uri": "https://localhost:8080/"
        },
        "outputId": "14949e39-d0f7-4ea2-c170-8413fb77e2b7"
      },
      "execution_count": 41,
      "outputs": [
        {
          "output_type": "stream",
          "name": "stdout",
          "text": [
            "0.6681144609095554\n"
          ]
        }
      ]
    },
    {
      "cell_type": "code",
      "source": [
        "#Drinking Purpose\n",
        "#Training the model\n",
        "knn5=classifier_knn.fit(X_train, y1_train)\n",
        "knn5_pre=knn5.predict(X_test)\n",
        "acc13=accuracy_score(y1_test,knn5_pre) #Accuracy\n",
        "print(acc13)\n",
        "acc13*=100"
      ],
      "metadata": {
        "id": "8CVxpeBCqNLU",
        "colab": {
          "base_uri": "https://localhost:8080/"
        },
        "outputId": "5278f7cb-1b04-48d9-fd0b-4011b34f8700"
      },
      "execution_count": 42,
      "outputs": [
        {
          "output_type": "stream",
          "name": "stdout",
          "text": [
            "0.9259070005109862\n"
          ]
        }
      ]
    },
    {
      "cell_type": "code",
      "source": [
        "#Confusion Matrix for Drinking Purpose\n",
        "matrix = confusion_matrix(y1_test,knn5_pre)\n",
        "class_names=['No','Yes']\n",
        "fig,ax=plot_confusion_matrix(conf_mat=matrix,figsize=(5,5))\n",
        "tick_marks = np.arange(len(class_names))\n",
        "plt.xticks(tick_marks, class_names, rotation=25)\n",
        "plt.yticks(tick_marks, class_names, rotation=0)\n",
        "plt.xlabel('Predicted label')\n",
        "plt.ylabel('True label')\n",
        "plt.title('Confusion Matrix for KNN Model')\n",
        "plt.show()"
      ],
      "metadata": {
        "id": "yT85US7fqWrV",
        "colab": {
          "base_uri": "https://localhost:8080/",
          "height": 495
        },
        "outputId": "3cedb508-d864-4c16-db21-49f4eda794b0"
      },
      "execution_count": 43,
      "outputs": [
        {
          "output_type": "display_data",
          "data": {
            "text/plain": [
              "<Figure size 500x500 with 1 Axes>"
            ],
            "image/png": "[encoded data removed]"
          },
          "metadata": {}
        }
      ]
    },
    {
      "cell_type": "code",
      "source": [
        "# Performance Metrics for Drinking Purpose\n",
        "def find_TP(y, y_hat):\n",
        "   return sum((y == 'Yes') & (y_hat == 'Yes')) # True Positives\n",
        "def find_FN(y, y_hat):\n",
        "   return sum((y == 'Yes') & (y_hat == 'No')) # False Negatives Type-II error\n",
        "def find_FP(y, y_hat):\n",
        "   return sum((y == 'No') & (y_hat == 'Yes')) # False Positives Type-I error\n",
        "def find_TN(y, y_hat):\n",
        "   return sum((y == 'No') & (y_hat == 'No')) # True Negatives\n",
        "TP=(find_TP(y1_test,knn5_pre))\n",
        "TN=(find_TN(y1_test,knn5_pre))\n",
        "FN=(find_FN(y1_test,knn5_pre))\n",
        "FP=(find_FP(y1_test,knn5_pre))\n",
        "print('True Positive:',TP)\n",
        "print('True Negative:',TN)\n",
        "print('False Positive:',FP)\n",
        "print('False Negative:',FN)\n",
        "accuracy=(TP+TN)/(TP+FP+TN+FN)\n",
        "print('Accuracy:',accuracy)\n",
        "if TP==0:\n",
        "  precision=0\n",
        "  recall=0\n",
        "  f1_score=0\n",
        "else:\n",
        "  precision = TP/(TP+FP)\n",
        "  recall = TP/(TP+FN)\n",
        "  f1_score = 2*((precision*recall)/(precision+recall))\n",
        "print('Precision:',precision)\n",
        "print('Recall:',recall)\n",
        "print('F1 score:',f1_score)\n",
        "if TN==0:\n",
        "  specificity=0\n",
        "else:\n",
        "  specificity=TN/(TN+FP)\n",
        "print('Specificity:',specificity)"
      ],
      "metadata": {
        "id": "EEzAoHM0qcjN",
        "colab": {
          "base_uri": "https://localhost:8080/"
        },
        "outputId": "fbc28562-c466-4da3-8a58-6c82e9804e06"
      },
      "execution_count": 44,
      "outputs": [
        {
          "output_type": "stream",
          "name": "stdout",
          "text": [
            "True Positive: 1112\n",
            "True Negative: 2512\n",
            "False Positive: 8\n",
            "False Negative: 282\n",
            "Accuracy: 0.9259070005109862\n",
            "Precision: 0.9928571428571429\n",
            "Recall: 0.7977044476327116\n",
            "F1 score: 0.8846459824980111\n",
            "Specificity: 0.9968253968253968\n"
          ]
        }
      ]
    },
    {
      "cell_type": "code",
      "source": [
        "#Ailments\n",
        "#Fitting the model\n",
        "knn6=classifier_knn.fit(X_train, y2_train)\n",
        "knn6_pre=knn6.predict(X_test)\n",
        "acc14=accuracy_score(y2_test, knn6_pre) # Accuracy\n",
        "print(acc14)\n",
        "acc14*=100"
      ],
      "metadata": {
        "id": "dM_lPdgVqoJF",
        "colab": {
          "base_uri": "https://localhost:8080/"
        },
        "outputId": "8c84dbac-2968-403c-af3f-991a776ba2d4"
      },
      "execution_count": 45,
      "outputs": [
        {
          "output_type": "stream",
          "name": "stdout",
          "text": [
            "0.6681144609095554\n"
          ]
        }
      ]
    },
    {
      "cell_type": "code",
      "source": [
        "#Cement Industry Purpose\n",
        "#Fitting the model\n",
        "knn7=classifier_knn.fit(X_train, y3_train)\n",
        "knn7_pre=knn7.predict(X_test)\n",
        "acc15=accuracy_score(y3_test,knn7_pre) # Accuracy\n",
        "print(acc15)\n",
        "acc15*=100"
      ],
      "metadata": {
        "id": "q5WvOP3kqzxw",
        "colab": {
          "base_uri": "https://localhost:8080/"
        },
        "outputId": "81124b6f-36ab-49ce-b1fe-5d037240dccd"
      },
      "execution_count": 46,
      "outputs": [
        {
          "output_type": "stream",
          "name": "stdout",
          "text": [
            "0.8339294839039346\n"
          ]
        }
      ]
    },
    {
      "cell_type": "code",
      "source": [
        "#Confusion Matrix for Cement Industry Purpose\n",
        "matrix = confusion_matrix(y3_test,knn7_pre)\n",
        "class_names=['No','Yes']\n",
        "fig,ax=plot_confusion_matrix(conf_mat=matrix,figsize=(5,5))\n",
        "tick_marks = np.arange(len(class_names))\n",
        "plt.xticks(tick_marks, class_names, rotation=25)\n",
        "plt.yticks(tick_marks, class_names, rotation=0)\n",
        "plt.xlabel('Predicted label')\n",
        "plt.ylabel('True label')\n",
        "plt.title('Confusion Matrix for KNN Model')\n",
        "plt.show()"
      ],
      "metadata": {
        "id": "7XWuxP88q7-w"
      },
      "execution_count": null,
      "outputs": []
    },
    {
      "cell_type": "code",
      "source": [
        "# Performance Metrics for Cement Industry Purpose\n",
        "def find_TP(y, y_hat):\n",
        "   return sum((y == 'Yes') & (y_hat == 'Yes')) # True Positives\n",
        "def find_FN(y, y_hat):\n",
        "   return sum((y == 'Yes') & (y_hat == 'No')) # False Negatives Type-II error\n",
        "def find_FP(y, y_hat):\n",
        "   return sum((y == 'No') & (y_hat == 'Yes')) # False Positives Type-I error\n",
        "def find_TN(y, y_hat):\n",
        "   return sum((y == 'No') & (y_hat == 'No')) # True Negatives\n",
        "TP=(find_TP(y3_test,knn7_pre))\n",
        "TN=(find_TN(y3_test,knn7_pre))\n",
        "FN=(find_FN(y3_test,knn7_pre))\n",
        "FP=(find_FP(y3_test,knn7_pre))\n",
        "print('True Positive:',TP)\n",
        "print('True Negative:',TN)\n",
        "print('False Positive:',FP)\n",
        "print('False Negative:',FN)\n",
        "accuracy=(TP+TN)/(TP+FP+TN+FN)\n",
        "print('Accuracy:',accuracy)\n",
        "if TP==0:\n",
        "  precision=0\n",
        "  recall=0\n",
        "  f1_score=0\n",
        "else:\n",
        "  precision = TP/(TP+FP)\n",
        "  recall = TP/(TP+FN)\n",
        "  f1_score = 2*((precision*recall)/(precision+recall))\n",
        "print('Precision:',precision)\n",
        "print('Recall:',recall)\n",
        "print('F1 score:',f1_score)\n",
        "if TN==0:\n",
        "  specificity=0\n",
        "else:\n",
        "  specificity=TN/(TN+FP)\n",
        "print('Specificity:',specificity)"
      ],
      "metadata": {
        "id": "WqWk6sT1rAUs",
        "colab": {
          "base_uri": "https://localhost:8080/"
        },
        "outputId": "a38da5f1-5738-4a45-e903-dc9d9ec30ffc"
      },
      "execution_count": 47,
      "outputs": [
        {
          "output_type": "stream",
          "name": "stdout",
          "text": [
            "True Positive: 1468\n",
            "True Negative: 1796\n",
            "False Positive: 327\n",
            "False Negative: 323\n",
            "Accuracy: 0.8339294839039346\n",
            "Precision: 0.8178272980501393\n",
            "Recall: 0.8196538246789503\n",
            "F1 score: 0.8187395426659231\n",
            "Specificity: 0.8459726801695714\n"
          ]
        }
      ]
    },
    {
      "cell_type": "code",
      "source": [
        "#Irrigation Purpose\n",
        "#Fitting the model\n",
        "knn8=classifier_knn.fit(X_train, y4_train)\n",
        "knn8_pre=knn8.predict(X_test)\n",
        "acc16=accuracy_score(y4_test,knn8_pre) # Accuracy\n",
        "print(acc16)\n",
        "acc16*=100"
      ],
      "metadata": {
        "id": "PF5ivJ0krJF0",
        "colab": {
          "base_uri": "https://localhost:8080/"
        },
        "outputId": "9b718a26-4a5d-4494-92fe-371f2fd8f57c"
      },
      "execution_count": 48,
      "outputs": [
        {
          "output_type": "stream",
          "name": "stdout",
          "text": [
            "0.9238630556974962\n"
          ]
        }
      ]
    },
    {
      "cell_type": "code",
      "source": [
        "#Confusion Matrix for Irrigation Purpose\n",
        "matrix = confusion_matrix(y4_test,knn8_pre)\n",
        "class_names=['No','Yes']\n",
        "fig,ax=plot_confusion_matrix(conf_mat=matrix,figsize=(5,5))\n",
        "tick_marks = np.arange(len(class_names))\n",
        "plt.xticks(tick_marks, class_names, rotation=25)\n",
        "plt.yticks(tick_marks, class_names, rotation=0)\n",
        "plt.xlabel('Predicted label')\n",
        "plt.ylabel('True label')\n",
        "plt.title('Confusion Matrix for KNN Model')\n",
        "plt.show()"
      ],
      "metadata": {
        "id": "FZUw11x2rRgx",
        "colab": {
          "base_uri": "https://localhost:8080/",
          "height": 495
        },
        "outputId": "b872b5de-edc1-4f8a-a507-c629556e5225"
      },
      "execution_count": 49,
      "outputs": [
        {
          "output_type": "display_data",
          "data": {
            "text/plain": [
              "<Figure size 500x500 with 1 Axes>"
            ],
            "image/png": "[encoded data removed]"
          },
          "metadata": {}
        }
      ]
    },
    {
      "cell_type": "code",
      "source": [
        "# Performance Metrics for Irrigation Purpose\n",
        "def find_TP(y, y_hat):\n",
        "   return sum((y == 'Yes') & (y_hat == 'Yes')) # True Positives\n",
        "def find_FN(y, y_hat):\n",
        "   return sum((y == 'Yes') & (y_hat == 'No')) # False Negatives Type-II error\n",
        "def find_FP(y, y_hat):\n",
        "   return sum((y == 'No') & (y_hat == 'Yes')) # False Positives Type-I error\n",
        "def find_TN(y, y_hat):\n",
        "   return sum((y == 'No') & (y_hat == 'No')) # True Negatives\n",
        "TP=(find_TP(y4_test,knn8_pre))\n",
        "TN=(find_TN(y4_test,knn8_pre))\n",
        "FN=(find_FN(y4_test,knn8_pre))\n",
        "FP=(find_FP(y4_test,knn8_pre))\n",
        "print('True Positive:',TP)\n",
        "print('True Negative:',TN)\n",
        "print('False Positive:',FP)\n",
        "print('False Negative:',FN)\n",
        "accuracy=(TP+TN)/(TP+FP+TN+FN)\n",
        "print('Accuracy:',accuracy)\n",
        "if TP==0:\n",
        "  precision=0\n",
        "  recall=0\n",
        "  f1_score=0\n",
        "else:\n",
        "  precision = TP/(TP+FP)\n",
        "  recall = TP/(TP+FN)\n",
        "  f1_score = 2*((precision*recall)/(precision+recall))\n",
        "print('Precision:',precision)\n",
        "print('Recall:',recall)\n",
        "print('F1 score:',f1_score)\n",
        "if TN==0:\n",
        "  specificity=0\n",
        "else:\n",
        "  specificity=TN/(TN+FP)\n",
        "print('Specificity:',specificity)"
      ],
      "metadata": {
        "id": "ovO7KmzOrU2n",
        "colab": {
          "base_uri": "https://localhost:8080/"
        },
        "outputId": "d4d3d3a6-1586-4609-aae0-1c7e7d227e45"
      },
      "execution_count": 50,
      "outputs": [
        {
          "output_type": "stream",
          "name": "stdout",
          "text": [
            "True Positive: 745\n",
            "True Negative: 2871\n",
            "False Positive: 16\n",
            "False Negative: 282\n",
            "Accuracy: 0.9238630556974962\n",
            "Precision: 0.9789750328515112\n",
            "Recall: 0.7254138266796495\n",
            "F1 score: 0.8333333333333334\n",
            "Specificity: 0.9944579147904399\n"
          ]
        }
      ]
    },
    {
      "cell_type": "markdown",
      "source": [
        "#### Prediction"
      ],
      "metadata": {
        "id": "OADp19hArdnC"
      }
    },
    {
      "cell_type": "code",
      "source": [
        "'''ph=round(float(input()),2)\n",
        "Ca=round(float(input()),2)\n",
        "Mg=round(float(input()),2)\n",
        "Cl=round(float(input()),2)\n",
        "Ben=round(float(input()),2)\n",
        "THM=round(float(input()),2)\n",
        "Cu=round(float(input()),2)\n",
        "Ni=round(float(input()),2)\n",
        "Xtest1=[[ph,Ca,Mg,Cl,Ben,THM,Cu,Ni]]\n",
        "X_test1=pd.DataFrame(Xtest1)\n",
        "X_test1.rename(columns = {0: 'Ph',1:'Calcium(in ppm)',2:'Magnesium(in ppm)',3:'Chlorine(in ppm)',4:'Benzene(in ppb)',5:'THM(in ppb)',6:'Copper(in ppm)',7:'Nitrate(in ppm)',9:'Drinking Purpose',10:'Ailments',11:'Cement Industry Purpose',12:'Irrigation Purpose'}, inplace = True)\n",
        "X_test1'''"
      ],
      "metadata": {
        "id": "bAnc5KDarfp_",
        "colab": {
          "base_uri": "https://localhost:8080/",
          "height": 105
        },
        "outputId": "fbb83d38-a306-4ddb-8e08-faee2547cfe1"
      },
      "execution_count": 51,
      "outputs": [
        {
          "output_type": "execute_result",
          "data": {
            "text/plain": [
              "\"ph=round(float(input()),2)\\nCa=round(float(input()),2)\\nMg=round(float(input()),2)\\nCl=round(float(input()),2)\\nBen=round(float(input()),2)\\nTHM=round(float(input()),2)\\nCu=round(float(input()),2)\\nNi=round(float(input()),2)\\nXtest1=[[ph,Ca,Mg,Cl,Ben,THM,Cu,Ni]]\\nX_test1=pd.DataFrame(Xtest1)\\nX_test1.rename(columns = {0: 'Ph',1:'Calcium(in ppm)',2:'Magnesium(in ppm)',3:'Chlorine(in ppm)',4:'Benzene(in ppb)',5:'THM(in ppb)',6:'Copper(in ppm)',7:'Nitrate(in ppm)',9:'Drinking Purpose',10:'Ailments',11:'Cement Industry Purpose',12:'Irrigation Purpose'}, inplace = True)\\nX_test1\""
            ],
            "application/vnd.google.colaboratory.intrinsic+json": {
              "type": "string"
            }
          },
          "metadata": {},
          "execution_count": 51
        }
      ]
    },
    {
      "cell_type": "code",
      "source": [
        "knn=classifier_knn.fit(X, y5)\n",
        "knn_pre=knn.predict(X_test1)\n",
        "for i in knn_pre:\n",
        "  print('Drinking Purpose: '+i[0])\n",
        "  print('Ailments: '+i[1])\n",
        "  print('Cement Industry Purpose: '+i[2])\n",
        "  print('Irrigation Purpose: '+i[3])"
      ],
      "metadata": {
        "id": "T6G143OxrnJE",
        "colab": {
          "base_uri": "https://localhost:8080/"
        },
        "outputId": "68e641a7-a4e8-45e7-9f17-c0ad37ca99af"
      },
      "execution_count": 52,
      "outputs": [
        {
          "output_type": "stream",
          "name": "stdout",
          "text": [
            "Drinking Purpose: No\n",
            "Ailments: Anaemia,Nausea,Bladder Cancer,Methemoglobinemia,Diarrhoea,Leukaemia\n",
            "Cement Industry Purpose: Yes\n",
            "Irrigation Purpose: No\n"
          ]
        }
      ]
    },
    {
      "cell_type": "markdown",
      "source": [
        "### Decision Tree"
      ],
      "metadata": {
        "id": "2f7YAdTSsZCF"
      }
    },
    {
      "cell_type": "code",
      "source": [
        "from sklearn.tree import DecisionTreeClassifier\n",
        "classifier_dtree=DecisionTreeClassifier()"
      ],
      "metadata": {
        "id": "6-36bYpcsZCM"
      },
      "execution_count": 53,
      "outputs": []
    },
    {
      "cell_type": "markdown",
      "source": [
        "#### Fitting the model and Predcting the Accuracies"
      ],
      "metadata": {
        "id": "vHnoan1rsZCS"
      }
    },
    {
      "cell_type": "code",
      "source": [
        "import matplotlib.pyplot as plt\n",
        "from mlxtend.plotting import plot_confusion_matrix\n",
        "from sklearn.metrics import accuracy_score, confusion_matrix"
      ],
      "metadata": {
        "id": "o-_D9ReVsZCV"
      },
      "execution_count": 55,
      "outputs": []
    },
    {
      "cell_type": "code",
      "source": [
        "#Four features-Drinking Purpose,Ailments,Cement Industry Purpose,Irrigation Purpose\n",
        "dtree1=classifier_dtree.fit(X_train, y5_train) # for fitting the dataset\n",
        "dtree1_pre=dtree1.predict(X_test) # predicts the outputs for test input"
      ],
      "metadata": {
        "id": "Frm-uS03sZCb"
      },
      "execution_count": 56,
      "outputs": []
    },
    {
      "cell_type": "code",
      "source": [
        "#Accuracy for four features\n",
        "pre1=pd.DataFrame(dtree1_pre, columns=['Drinking Purpose','Ailments','Cement Industry Purpose','Irrigation Purpose'])\n",
        "pre1['ail']=pre1['Drinking Purpose']+pre1['Ailments']+pre1['Cement Industry Purpose']+pre1['Irrigation Purpose']\n",
        "pre2=pre1.drop(columns=['Drinking Purpose','Ailments','Cement Industry Purpose','Irrigation Purpose'])\n",
        "pre1.drop(columns=['ail'],inplace=True)\n",
        "f=0\n",
        "ans=0\n",
        "for i in y6_test['ail']:\n",
        "  for j in range(len(pre2['ail'])):\n",
        "    if f==j and pre2['ail'][j]==i:\n",
        "      ans+=1\n",
        "    elif j>f:\n",
        "      break\n",
        "  f+=1\n",
        "acc17=(ans/f)*100\n",
        "print(ans/f)"
      ],
      "metadata": {
        "id": "42FWlFF_sZCd",
        "colab": {
          "base_uri": "https://localhost:8080/"
        },
        "outputId": "59772daa-67a4-4180-d235-1b17a3beae96"
      },
      "execution_count": 57,
      "outputs": [
        {
          "output_type": "stream",
          "name": "stdout",
          "text": [
            "0.8707204905467553\n"
          ]
        }
      ]
    },
    {
      "cell_type": "code",
      "source": [
        "# Four features Concatenating into one and training the model -Drinking Purpose+Ailments+Cement Industry Purpose+Irrigation Purpose\n",
        "dtree2=classifier_dtree.fit(X_train,y6_train)\n",
        "dtree2_pre=dtree2.predict(X_test)\n",
        "acc18=accuracy_score(y6_test,dtree2_pre) # Accuracy\n",
        "print(acc18)\n",
        "acc18*=100"
      ],
      "metadata": {
        "id": "b-95aBBKsZCg",
        "colab": {
          "base_uri": "https://localhost:8080/"
        },
        "outputId": "8869c476-0b7a-44ac-dba8-4932d9f8c659"
      },
      "execution_count": 58,
      "outputs": [
        {
          "output_type": "stream",
          "name": "stdout",
          "text": [
            "0.8781297904956566\n"
          ]
        }
      ]
    },
    {
      "cell_type": "code",
      "source": [
        "# Two features-Drinking Purpose,Ailments\n",
        "dtree3=classifier_dtree.fit(X_train, y5_train1) # for fitting the dataset\n",
        "dtree3_pre=dtree3.predict(X_test) # predicts the outputs for test input"
      ],
      "metadata": {
        "id": "2vZ1E4aFsZCi"
      },
      "execution_count": 59,
      "outputs": []
    },
    {
      "cell_type": "code",
      "source": [
        "#Accuracy for Two features\n",
        "pre1=pd.DataFrame(dtree3_pre, columns=['Drinking Purpose','Ailments'])\n",
        "pre1['ail']=pre1['Drinking Purpose']+pre1['Ailments']\n",
        "pre2=pre1.drop(columns=['Drinking Purpose','Ailments'])\n",
        "pre1.drop(columns=['ail'],inplace=True)\n",
        "f=0\n",
        "ans=0\n",
        "for i in y_test['ail']:\n",
        "  for j in range(len(pre2['ail'])):\n",
        "    if f==j and pre2['ail'][j]==i:\n",
        "      ans+=1\n",
        "    elif j>f:\n",
        "      break\n",
        "  f+=1\n",
        "acc19=(ans/f)*100\n",
        "print(ans/f)"
      ],
      "metadata": {
        "id": "sdAikx63sZCi",
        "colab": {
          "base_uri": "https://localhost:8080/"
        },
        "outputId": "dc11070a-b896-4b35-b0da-46c48e59c5ca"
      },
      "execution_count": 60,
      "outputs": [
        {
          "output_type": "stream",
          "name": "stdout",
          "text": [
            "0.8771078180889116\n"
          ]
        }
      ]
    },
    {
      "cell_type": "code",
      "source": [
        "# Two features Concatenating into one and training the model -Drinking Purpose+Ailments\n",
        "dtree4=classifier_dtree.fit(X_train,y_train)\n",
        "dtree4_pre=dtree4.predict(X_test)\n",
        "acc20=accuracy_score(y_test,dtree4_pre) #Accuracy\n",
        "print(acc20)\n",
        "acc20*=100"
      ],
      "metadata": {
        "id": "zXFrnAWjsZCk",
        "colab": {
          "base_uri": "https://localhost:8080/"
        },
        "outputId": "18739164-a2ce-4a48-97d9-6e6eb265d9a5"
      },
      "execution_count": 61,
      "outputs": [
        {
          "output_type": "stream",
          "name": "stdout",
          "text": [
            "0.8783852835973429\n"
          ]
        }
      ]
    },
    {
      "cell_type": "code",
      "source": [
        "#Drinking Purpose\n",
        "#Training the model\n",
        "dtree5=classifier_dtree.fit(X_train, y1_train)\n",
        "dtree5_pre=dtree5.predict(X_test)\n",
        "acc21=accuracy_score(y1_test,dtree5_pre) #Accuracy\n",
        "print(acc21)\n",
        "acc21*=100"
      ],
      "metadata": {
        "id": "b_Jr_TIzsZCm",
        "colab": {
          "base_uri": "https://localhost:8080/"
        },
        "outputId": "37c5f3d5-e7ea-46ee-946c-2cdacfebef80"
      },
      "execution_count": 62,
      "outputs": [
        {
          "output_type": "stream",
          "name": "stdout",
          "text": [
            "0.872508942258559\n"
          ]
        }
      ]
    },
    {
      "cell_type": "code",
      "source": [
        "#Confusion Matrix for Drinking Purpose\n",
        "matrix = confusion_matrix(y1_test,dtree5_pre)\n",
        "class_names=['No','Yes']\n",
        "fig,ax=plot_confusion_matrix(conf_mat=matrix,figsize=(5,5))\n",
        "tick_marks = np.arange(len(class_names))\n",
        "plt.xticks(tick_marks, class_names, rotation=25)\n",
        "plt.yticks(tick_marks, class_names, rotation=0)\n",
        "plt.xlabel('Predicted label')\n",
        "plt.ylabel('True label')\n",
        "plt.title('Confusion Matrix for Decision Tree Model')\n",
        "plt.show()"
      ],
      "metadata": {
        "id": "zpTXt3XZsZCn",
        "colab": {
          "base_uri": "https://localhost:8080/",
          "height": 495
        },
        "outputId": "5e17ca8f-b0f4-4c30-dcd9-73ac613d0e29"
      },
      "execution_count": 63,
      "outputs": [
        {
          "output_type": "display_data",
          "data": {
            "text/plain": [
              "<Figure size 500x500 with 1 Axes>"
            ],
            "image/png": "[encoded data removed]"
          },
          "metadata": {}
        }
      ]
    },
    {
      "cell_type": "code",
      "source": [
        "# Performance Metrics for Drinking Purpose\n",
        "def find_TP(y, y_hat):\n",
        "   return sum((y == 'Yes') & (y_hat == 'Yes')) # True Positives\n",
        "def find_FN(y, y_hat):\n",
        "   return sum((y == 'Yes') & (y_hat == 'No')) # False Negatives Type-II error\n",
        "def find_FP(y, y_hat):\n",
        "   return sum((y == 'No') & (y_hat == 'Yes')) # False Positives Type-I error\n",
        "def find_TN(y, y_hat):\n",
        "   return sum((y == 'No') & (y_hat == 'No')) # True Negatives\n",
        "TP=(find_TP(y1_test,dtree5_pre))\n",
        "TN=(find_TN(y1_test,dtree5_pre))\n",
        "FN=(find_FN(y1_test,dtree5_pre))\n",
        "FP=(find_FP(y1_test,dtree5_pre))\n",
        "print('True Positive:',TP)\n",
        "print('True Negative:',TN)\n",
        "print('False Positive:',FP)\n",
        "print('False Negative:',FN)\n",
        "accuracy=(TP+TN)/(TP+FP+TN+FN)\n",
        "print('Accuracy:',accuracy)\n",
        "if TP==0:\n",
        "  precision=0\n",
        "  recall=0\n",
        "  f1_score=0\n",
        "else:\n",
        "  precision = TP/(TP+FP)\n",
        "  recall = TP/(TP+FN)\n",
        "  f1_score = 2*((precision*recall)/(precision+recall))\n",
        "print('Precision:',precision)\n",
        "print('Recall:',recall)\n",
        "print('F1 score:',f1_score)\n",
        "if TN==0:\n",
        "  specificity=0\n",
        "else:\n",
        "  specificity=TN/(TN+FP)\n",
        "print('Specificity:',specificity)"
      ],
      "metadata": {
        "id": "r-P5NCEYsZCo",
        "colab": {
          "base_uri": "https://localhost:8080/"
        },
        "outputId": "d194f7a6-a5d5-42a4-c178-ab57cac11219"
      },
      "execution_count": 64,
      "outputs": [
        {
          "output_type": "stream",
          "name": "stdout",
          "text": [
            "True Positive: 1174\n",
            "True Negative: 2241\n",
            "False Positive: 279\n",
            "False Negative: 220\n",
            "Accuracy: 0.872508942258559\n",
            "Precision: 0.8079834824501032\n",
            "Recall: 0.8421807747489239\n",
            "F1 score: 0.8247277836318931\n",
            "Specificity: 0.8892857142857142\n"
          ]
        }
      ]
    },
    {
      "cell_type": "code",
      "source": [
        "#Ailments\n",
        "#Fitting the model\n",
        "dtree6=classifier_dtree.fit(X_train, y2_train)\n",
        "dtree6_pre=dtree6.predict(X_test)\n",
        "acc22=accuracy_score(y2_test, dtree6_pre) # Accuracy\n",
        "print(acc22)\n",
        "acc22*=100"
      ],
      "metadata": {
        "id": "-T0k_1xQsZCp",
        "colab": {
          "base_uri": "https://localhost:8080/"
        },
        "outputId": "4a37ec23-6bd3-4bb5-eee1-9d83280a1dcb"
      },
      "execution_count": 65,
      "outputs": [
        {
          "output_type": "stream",
          "name": "stdout",
          "text": [
            "0.8806847215125192\n"
          ]
        }
      ]
    },
    {
      "cell_type": "code",
      "source": [
        "#Cement Industry Purpose\n",
        "#Fitting the model\n",
        "dtree7=classifier_dtree.fit(X_train, y3_train)\n",
        "dtree7_pre=dtree7.predict(X_test)\n",
        "acc23=accuracy_score(y3_test,dtree7_pre) # Accuracy\n",
        "print(acc23)\n",
        "acc23*=100"
      ],
      "metadata": {
        "id": "3p0ORzq2sZCq",
        "colab": {
          "base_uri": "https://localhost:8080/"
        },
        "outputId": "0b10d973-27a5-4f35-81b2-e27b60e4ce40"
      },
      "execution_count": 66,
      "outputs": [
        {
          "output_type": "stream",
          "name": "stdout",
          "text": [
            "0.874552887072049\n"
          ]
        }
      ]
    },
    {
      "cell_type": "code",
      "source": [
        "#Confusion Matrix for Cement Industry Purpose\n",
        "matrix = confusion_matrix(y3_test,dtree7_pre)\n",
        "class_names=['No','Yes']\n",
        "fig,ax=plot_confusion_matrix(conf_mat=matrix,figsize=(5,5))\n",
        "tick_marks = np.arange(len(class_names))\n",
        "plt.xticks(tick_marks, class_names, rotation=25)\n",
        "plt.yticks(tick_marks, class_names, rotation=0)\n",
        "plt.xlabel('Predicted label')\n",
        "plt.ylabel('True label')\n",
        "plt.title('Confusion Matrix for Decision Tree Model')\n",
        "plt.show()"
      ],
      "metadata": {
        "id": "fv9YJaC0sZCr",
        "colab": {
          "base_uri": "https://localhost:8080/",
          "height": 495
        },
        "outputId": "dd07841a-40b1-4eee-f07c-e1eab6457d09"
      },
      "execution_count": 67,
      "outputs": [
        {
          "output_type": "display_data",
          "data": {
            "text/plain": [
              "<Figure size 500x500 with 1 Axes>"
            ],
            "image/png": "[encoded data removed]"
          },
          "metadata": {}
        }
      ]
    },
    {
      "cell_type": "code",
      "source": [
        "# Performance Metrics for Cement Industry Purpose\n",
        "def find_TP(y, y_hat):\n",
        "   return sum((y == 'Yes') & (y_hat == 'Yes')) # True Positives\n",
        "def find_FN(y, y_hat):\n",
        "   return sum((y == 'Yes') & (y_hat == 'No')) # False Negatives Type-II error\n",
        "def find_FP(y, y_hat):\n",
        "   return sum((y == 'No') & (y_hat == 'Yes')) # False Positives Type-I error\n",
        "def find_TN(y, y_hat):\n",
        "   return sum((y == 'No') & (y_hat == 'No')) # True Negatives\n",
        "TP=(find_TP(y3_test,dtree7_pre))\n",
        "TN=(find_TN(y3_test,dtree7_pre))\n",
        "FN=(find_FN(y3_test,dtree7_pre))\n",
        "FP=(find_FP(y3_test,dtree7_pre))\n",
        "print('True Positive:',TP)\n",
        "print('True Negative:',TN)\n",
        "print('False Positive:',FP)\n",
        "print('False Negative:',FN)\n",
        "accuracy=(TP+TN)/(TP+FP+TN+FN)\n",
        "print('Accuracy:',accuracy)\n",
        "if TP==0:\n",
        "  precision=0\n",
        "  recall=0\n",
        "  f1_score=0\n",
        "else:\n",
        "  precision = TP/(TP+FP)\n",
        "  recall = TP/(TP+FN)\n",
        "  f1_score = 2*((precision*recall)/(precision+recall))\n",
        "print('Precision:',precision)\n",
        "print('Recall:',recall)\n",
        "print('F1 score:',f1_score)\n",
        "if TN==0:\n",
        "  specificity=0\n",
        "else:\n",
        "  specificity=TN/(TN+FP)\n",
        "print('Specificity:',specificity)"
      ],
      "metadata": {
        "id": "RRjuRDjXsZCs",
        "colab": {
          "base_uri": "https://localhost:8080/"
        },
        "outputId": "2da14f99-fa80-4fa3-f36c-ed5e09071793"
      },
      "execution_count": 68,
      "outputs": [
        {
          "output_type": "stream",
          "name": "stdout",
          "text": [
            "True Positive: 1578\n",
            "True Negative: 1845\n",
            "False Positive: 278\n",
            "False Negative: 213\n",
            "Accuracy: 0.874552887072049\n",
            "Precision: 0.8502155172413793\n",
            "Recall: 0.88107202680067\n",
            "F1 score: 0.8653687962709077\n",
            "Specificity: 0.8690532265661799\n"
          ]
        }
      ]
    },
    {
      "cell_type": "code",
      "source": [
        "#Irrigation Purpose\n",
        "#Fitting the model\n",
        "dtree8=classifier_dtree.fit(X_train, y4_train)\n",
        "dtree8_pre=dtree8.predict(X_test)\n",
        "acc24=accuracy_score(y4_test,dtree8_pre) # Accuracy\n",
        "print(acc24)\n",
        "acc24*=100"
      ],
      "metadata": {
        "id": "DwzUYuqYsZCs",
        "colab": {
          "base_uri": "https://localhost:8080/"
        },
        "outputId": "1c0e4aca-a396-4c35-811e-62c5c5debc13"
      },
      "execution_count": 69,
      "outputs": [
        {
          "output_type": "stream",
          "name": "stdout",
          "text": [
            "0.8676545733265202\n"
          ]
        }
      ]
    },
    {
      "cell_type": "code",
      "source": [
        "#Confusion Matrix for Irrigation Purpose\n",
        "matrix = confusion_matrix(y4_test,dtree8_pre)\n",
        "class_names=['No','Yes']\n",
        "fig,ax=plot_confusion_matrix(conf_mat=matrix,figsize=(5,5))\n",
        "tick_marks = np.arange(len(class_names))\n",
        "plt.xticks(tick_marks, class_names, rotation=25)\n",
        "plt.yticks(tick_marks, class_names, rotation=0)\n",
        "plt.xlabel('Predicted label')\n",
        "plt.ylabel('True label')\n",
        "plt.title('Confusion Matrix for Decision Tree Model')\n",
        "plt.show()"
      ],
      "metadata": {
        "id": "HaLl9IrrsZCt",
        "colab": {
          "base_uri": "https://localhost:8080/",
          "height": 495
        },
        "outputId": "7187b183-afed-4310-f6ed-e4a29b103a3b"
      },
      "execution_count": 70,
      "outputs": [
        {
          "output_type": "display_data",
          "data": {
            "text/plain": [
              "<Figure size 500x500 with 1 Axes>"
            ],
            "image/png": "[encoded data removed]"
          },
          "metadata": {}
        }
      ]
    },
    {
      "cell_type": "code",
      "source": [
        "# Performance Metrics for Irrigation Purpose\n",
        "def find_TP(y, y_hat):\n",
        "   return sum((y == 'Yes') & (y_hat == 'Yes')) # True Positives\n",
        "def find_FN(y, y_hat):\n",
        "   return sum((y == 'Yes') & (y_hat == 'No')) # False Negatives Type-II error\n",
        "def find_FP(y, y_hat):\n",
        "   return sum((y == 'No') & (y_hat == 'Yes')) # False Positives Type-I error\n",
        "def find_TN(y, y_hat):\n",
        "   return sum((y == 'No') & (y_hat == 'No')) # True Negatives\n",
        "TP=(find_TP(y4_test,dtree8_pre))\n",
        "TN=(find_TN(y4_test,dtree8_pre))\n",
        "FN=(find_FN(y4_test,dtree8_pre))\n",
        "FP=(find_FP(y4_test,dtree8_pre))\n",
        "print('True Positive:',TP)\n",
        "print('True Negative:',TN)\n",
        "print('False Positive:',FP)\n",
        "print('False Negative:',FN)\n",
        "accuracy=(TP+TN)/(TP+FP+TN+FN)\n",
        "print('Accuracy:',accuracy)\n",
        "if TP==0:\n",
        "  precision=0\n",
        "  recall=0\n",
        "  f1_score=0\n",
        "else:\n",
        "  precision = TP/(TP+FP)\n",
        "  recall = TP/(TP+FN)\n",
        "  f1_score = 2*((precision*recall)/(precision+recall))\n",
        "print('Precision:',precision)\n",
        "print('Recall:',recall)\n",
        "print('F1 score:',f1_score)\n",
        "if TN==0:\n",
        "  specificity=0\n",
        "else:\n",
        "  specificity=TN/(TN+FP)\n",
        "print('Specificity:',specificity)"
      ],
      "metadata": {
        "id": "ZrGp2lX6sZCt",
        "colab": {
          "base_uri": "https://localhost:8080/"
        },
        "outputId": "a08fab04-a47b-44e2-9eb8-4411c063cdf0"
      },
      "execution_count": 71,
      "outputs": [
        {
          "output_type": "stream",
          "name": "stdout",
          "text": [
            "True Positive: 804\n",
            "True Negative: 2592\n",
            "False Positive: 295\n",
            "False Negative: 223\n",
            "Accuracy: 0.8676545733265202\n",
            "Precision: 0.7315741583257507\n",
            "Recall: 0.7828627069133398\n",
            "F1 score: 0.7563499529633113\n",
            "Specificity: 0.8978178039487357\n"
          ]
        }
      ]
    },
    {
      "cell_type": "markdown",
      "source": [
        "#### Prediction"
      ],
      "metadata": {
        "id": "I-9fMYSHsZCt"
      }
    },
    {
      "cell_type": "code",
      "source": [
        "'''ph=round(float(input()),2)\n",
        "Ca=round(float(input()),2)\n",
        "Mg=round(float(input()),2)\n",
        "Cl=round(float(input()),2)\n",
        "Ben=round(float(input()),2)\n",
        "THM=round(float(input()),2)\n",
        "Cu=round(float(input()),2)\n",
        "Ni=round(float(input()),2)\n",
        "Xtest1=[[ph,Ca,Mg,Cl,Ben,THM,Cu,Ni]]\n",
        "X_test1=pd.DataFrame(Xtest1)\n",
        "X_test1.rename(columns = {0: 'Ph',1:'Calcium(in ppm)',2:'Magnesium(in ppm)',3:'Chlorine(in ppm)',4:'Benzene(in ppb)',5:'THM(in ppb)',6:'Copper(in ppm)',7:'Nitrate(in ppm)',9:'Drinking Purpose',10:'Ailments',11:'Cement Industry Purpose',12:'Irrigation Purpose'}, inplace = True)\n",
        "X_test1'''"
      ],
      "metadata": {
        "id": "FxJ0xAKwsZCv",
        "colab": {
          "base_uri": "https://localhost:8080/",
          "height": 105
        },
        "outputId": "f2bf536e-e78a-44a2-e331-7caa7a696e39"
      },
      "execution_count": 72,
      "outputs": [
        {
          "output_type": "execute_result",
          "data": {
            "text/plain": [
              "\"ph=round(float(input()),2)\\nCa=round(float(input()),2)\\nMg=round(float(input()),2)\\nCl=round(float(input()),2)\\nBen=round(float(input()),2)\\nTHM=round(float(input()),2)\\nCu=round(float(input()),2)\\nNi=round(float(input()),2)\\nXtest1=[[ph,Ca,Mg,Cl,Ben,THM,Cu,Ni]]\\nX_test1=pd.DataFrame(Xtest1)\\nX_test1.rename(columns = {0: 'Ph',1:'Calcium(in ppm)',2:'Magnesium(in ppm)',3:'Chlorine(in ppm)',4:'Benzene(in ppb)',5:'THM(in ppb)',6:'Copper(in ppm)',7:'Nitrate(in ppm)',9:'Drinking Purpose',10:'Ailments',11:'Cement Industry Purpose',12:'Irrigation Purpose'}, inplace = True)\\nX_test1\""
            ],
            "application/vnd.google.colaboratory.intrinsic+json": {
              "type": "string"
            }
          },
          "metadata": {},
          "execution_count": 72
        }
      ]
    },
    {
      "cell_type": "code",
      "source": [
        "dtree=classifier_dtree.fit(X, y5)\n",
        "dtree_pre=dtree.predict(X_test1)\n",
        "for i in dtree_pre:\n",
        "  print('Drinking Purpose: '+i[0])\n",
        "  print('Ailments: '+i[1])\n",
        "  print('Cement Industry Purpose: '+i[2])\n",
        "  print('Irrigation Purpose: '+i[3])"
      ],
      "metadata": {
        "id": "jNMKaLPpsZCv",
        "colab": {
          "base_uri": "https://localhost:8080/"
        },
        "outputId": "3a07aabd-3915-4e07-8dff-bdfa61677343"
      },
      "execution_count": 73,
      "outputs": [
        {
          "output_type": "stream",
          "name": "stdout",
          "text": [
            "Drinking Purpose: Yes\n",
            "Ailments: Safe\n",
            "Cement Industry Purpose: Yes\n",
            "Irrigation Purpose: Yes\n"
          ]
        }
      ]
    },
    {
      "cell_type": "markdown",
      "source": [
        "### SVM (Support Vector Machine) rbf"
      ],
      "metadata": {
        "id": "G9EDgT3huZo3"
      }
    },
    {
      "cell_type": "code",
      "source": [
        "from sklearn.svm import SVC\n",
        "classifier_svmrbf = SVC(kernel='rbf')"
      ],
      "metadata": {
        "id": "_688cQ97uZo9"
      },
      "execution_count": 74,
      "outputs": []
    },
    {
      "cell_type": "code",
      "source": [
        " # for ignoring warnings\n",
        "import warnings\n",
        "warnings.filterwarnings(\"ignore\")"
      ],
      "metadata": {
        "id": "fZdowU5Tu0wW"
      },
      "execution_count": 75,
      "outputs": []
    },
    {
      "cell_type": "markdown",
      "source": [
        "#### Fitting the model and Predcting the Accuracies"
      ],
      "metadata": {
        "id": "R9do0IvfuZpE"
      }
    },
    {
      "cell_type": "code",
      "source": [
        "import matplotlib.pyplot as plt\n",
        "from mlxtend.plotting import plot_confusion_matrix\n",
        "from sklearn.metrics import accuracy_score, confusion_matrix"
      ],
      "metadata": {
        "id": "xpWHTOKAuZpI"
      },
      "execution_count": 76,
      "outputs": []
    },
    {
      "cell_type": "code",
      "source": [
        "# Four features Concatenating into one and training the model -Drinking Purpose+Ailments+Cement Industry Purpose+Irrigation Purpose\n",
        "svmrbf2=classifier_svmrbf.fit(X_train,y6_train)\n",
        "svmrbf2_pre=svmrbf2.predict(X_test)\n",
        "acc26=accuracy_score(y6_test,svmrbf2_pre) # Accuracy\n",
        "print(acc26)\n",
        "acc26*=100"
      ],
      "metadata": {
        "id": "T6plKJgsuZpX",
        "colab": {
          "base_uri": "https://localhost:8080/"
        },
        "outputId": "46220e53-7a41-488f-f5b8-e8991c0a8651"
      },
      "execution_count": 77,
      "outputs": [
        {
          "output_type": "stream",
          "name": "stdout",
          "text": [
            "0.6280020439448135\n"
          ]
        }
      ]
    },
    {
      "cell_type": "code",
      "source": [
        "# Two features Concatenating into one and training the model -Drinking Purpose+Ailments\n",
        "svmrbf4=classifier_svmrbf.fit(X_train,y_train)\n",
        "svmrbf4_pre=svmrbf4.predict(X_test)\n",
        "acc28=accuracy_score(y_test,svmrbf4_pre) #Accuracy\n",
        "print(acc28)\n",
        "acc28*=100"
      ],
      "metadata": {
        "id": "qRvWsS-MuZpd",
        "colab": {
          "base_uri": "https://localhost:8080/"
        },
        "outputId": "516f7eae-82e9-46eb-a4c2-1d70bcff4a34"
      },
      "execution_count": 78,
      "outputs": [
        {
          "output_type": "stream",
          "name": "stdout",
          "text": [
            "0.7066939192641799\n"
          ]
        }
      ]
    },
    {
      "cell_type": "code",
      "source": [
        "#Drinking Purpose\n",
        "#Training the model\n",
        "svmrbf5=classifier_svmrbf.fit(X_train, y1_train)\n",
        "svmrbf5_pre=svmrbf5.predict(X_test)\n",
        "acc29=accuracy_score(y1_test,svmrbf5_pre) #Accuracy\n",
        "print(acc29)\n",
        "acc29*=100"
      ],
      "metadata": {
        "id": "EMSgeFI0uZpe",
        "colab": {
          "base_uri": "https://localhost:8080/"
        },
        "outputId": "54ea0903-30c4-4a83-c572-e68a5d44873b"
      },
      "execution_count": 79,
      "outputs": [
        {
          "output_type": "stream",
          "name": "stdout",
          "text": [
            "0.92769545222279\n"
          ]
        }
      ]
    },
    {
      "cell_type": "code",
      "source": [
        "#Confusion Matrix for Drinking Purpose\n",
        "matrix = confusion_matrix(y1_test,svmrbf5_pre)\n",
        "class_names=['No','Yes']\n",
        "fig,ax=plot_confusion_matrix(conf_mat=matrix,figsize=(5,5))\n",
        "tick_marks = np.arange(len(class_names))\n",
        "plt.xticks(tick_marks, class_names, rotation=25)\n",
        "plt.yticks(tick_marks, class_names, rotation=0)\n",
        "plt.xlabel('Predicted label')\n",
        "plt.ylabel('True label')\n",
        "plt.title('Confusion Matrix for SVM-rbf Model')\n",
        "plt.show()"
      ],
      "metadata": {
        "id": "wqXvTGRouZpg",
        "colab": {
          "base_uri": "https://localhost:8080/",
          "height": 495
        },
        "outputId": "633b46f1-32de-41bc-8eb3-c434b40236c5"
      },
      "execution_count": 80,
      "outputs": [
        {
          "output_type": "display_data",
          "data": {
            "text/plain": [
              "<Figure size 500x500 with 1 Axes>"
            ],
            "image/png": "[encoded data removed]"
          },
          "metadata": {}
        }
      ]
    },
    {
      "cell_type": "code",
      "source": [
        "# Performance Metrics for Drinking Purpose\n",
        "def find_TP(y, y_hat):\n",
        "   return sum((y == 'Yes') & (y_hat == 'Yes')) # True Positives\n",
        "def find_FN(y, y_hat):\n",
        "   return sum((y == 'Yes') & (y_hat == 'No')) # False Negatives Type-II error\n",
        "def find_FP(y, y_hat):\n",
        "   return sum((y == 'No') & (y_hat == 'Yes')) # False Positives Type-I error\n",
        "def find_TN(y, y_hat):\n",
        "   return sum((y == 'No') & (y_hat == 'No')) # True Negatives\n",
        "TP=(find_TP(y1_test,svmrbf5_pre))\n",
        "TN=(find_TN(y1_test,svmrbf5_pre))\n",
        "FN=(find_FN(y1_test,svmrbf5_pre))\n",
        "FP=(find_FP(y1_test,svmrbf5_pre))\n",
        "print('True Positive:',TP)\n",
        "print('True Negative:',TN)\n",
        "print('False Positive:',FP)\n",
        "print('False Negative:',FN)\n",
        "accuracy=(TP+TN)/(TP+FP+TN+FN)\n",
        "print('Accuracy:',accuracy)\n",
        "if TP==0:\n",
        "  precision=0\n",
        "  recall=0\n",
        "  f1_score=0\n",
        "else:\n",
        "  precision = TP/(TP+FP)\n",
        "  recall = TP/(TP+FN)\n",
        "  f1_score = 2*((precision*recall)/(precision+recall))\n",
        "print('Precision:',precision)\n",
        "print('Recall:',recall)\n",
        "print('F1 score:',f1_score)\n",
        "if TN==0:\n",
        "  specificity=0\n",
        "else:\n",
        "  specificity=TN/(TN+FP)\n",
        "print('Specificity:',specificity)"
      ],
      "metadata": {
        "id": "4adEzNoquZpi",
        "colab": {
          "base_uri": "https://localhost:8080/"
        },
        "outputId": "ce6eca24-f29e-4cd5-95c0-40d3b7784c32"
      },
      "execution_count": 81,
      "outputs": [
        {
          "output_type": "stream",
          "name": "stdout",
          "text": [
            "True Positive: 1111\n",
            "True Negative: 2520\n",
            "False Positive: 0\n",
            "False Negative: 283\n",
            "Accuracy: 0.92769545222279\n",
            "Precision: 1.0\n",
            "Recall: 0.796987087517934\n",
            "F1 score: 0.8870259481037924\n",
            "Specificity: 1.0\n"
          ]
        }
      ]
    },
    {
      "cell_type": "code",
      "source": [
        "#Ailments\n",
        "#Fitting the model\n",
        "svmrbf6=classifier_svmrbf.fit(X_train, y2_train)\n",
        "svmrbf6_pre=svmrbf6.predict(X_test)\n",
        "acc30=accuracy_score(y2_test, svmrbf6_pre) # Accuracy\n",
        "print(acc30)\n",
        "acc30*=100"
      ],
      "metadata": {
        "id": "31Ti7_X-uZpj",
        "colab": {
          "base_uri": "https://localhost:8080/"
        },
        "outputId": "866c2ea2-e468-4b8a-e763-7c816db1ef81"
      },
      "execution_count": 82,
      "outputs": [
        {
          "output_type": "stream",
          "name": "stdout",
          "text": [
            "0.7066939192641799\n"
          ]
        }
      ]
    },
    {
      "cell_type": "code",
      "source": [
        "#Cement Industry Purpose\n",
        "#Fitting the model\n",
        "svmrbf7=classifier_svmrbf.fit(X_train, y3_train)\n",
        "svmrbf7_pre=svmrbf7.predict(X_test)\n",
        "acc31=accuracy_score(y3_test,svmrbf7_pre) # Accuracy\n",
        "print(acc31)\n",
        "acc31*=100"
      ],
      "metadata": {
        "id": "XrBH2-VWuZpk",
        "colab": {
          "base_uri": "https://localhost:8080/"
        },
        "outputId": "e2e9f6f1-00cb-4ba8-dd11-393a668f9391"
      },
      "execution_count": 83,
      "outputs": [
        {
          "output_type": "stream",
          "name": "stdout",
          "text": [
            "0.8449156872764435\n"
          ]
        }
      ]
    },
    {
      "cell_type": "code",
      "source": [
        "#Confusion Matrix for Cement Industry Purpose\n",
        "matrix = confusion_matrix(y3_test,svmrbf7_pre)\n",
        "class_names=['No','Yes']\n",
        "fig,ax=plot_confusion_matrix(conf_mat=matrix,figsize=(5,5))\n",
        "tick_marks = np.arange(len(class_names))\n",
        "plt.xticks(tick_marks, class_names, rotation=25)\n",
        "plt.yticks(tick_marks, class_names, rotation=0)\n",
        "plt.xlabel('Predicted label')\n",
        "plt.ylabel('True label')\n",
        "plt.title('Confusion Matrix for SVM-rbf Model')\n",
        "plt.show()"
      ],
      "metadata": {
        "id": "i05viBzmuZpl",
        "colab": {
          "base_uri": "https://localhost:8080/",
          "height": 495
        },
        "outputId": "a410c112-c8be-47a5-8d32-a957d8142960"
      },
      "execution_count": 84,
      "outputs": [
        {
          "output_type": "display_data",
          "data": {
            "text/plain": [
              "<Figure size 500x500 with 1 Axes>"
            ],
            "image/png": "[encoded data removed]"
          },
          "metadata": {}
        }
      ]
    },
    {
      "cell_type": "code",
      "source": [
        "# Performance Metrics for Cement Industry Purpose\n",
        "def find_TP(y, y_hat):\n",
        "   return sum((y == 'Yes') & (y_hat == 'Yes')) # True Positives\n",
        "def find_FN(y, y_hat):\n",
        "   return sum((y == 'Yes') & (y_hat == 'No')) # False Negatives Type-II error\n",
        "def find_FP(y, y_hat):\n",
        "   return sum((y == 'No') & (y_hat == 'Yes')) # False Positives Type-I error\n",
        "def find_TN(y, y_hat):\n",
        "   return sum((y == 'No') & (y_hat == 'No')) # True Negatives\n",
        "TP=(find_TP(y3_test,svmrbf7_pre))\n",
        "TN=(find_TN(y3_test,svmrbf7_pre))\n",
        "FN=(find_FN(y3_test,svmrbf7_pre))\n",
        "FP=(find_FP(y3_test,svmrbf7_pre))\n",
        "print('True Positive:',TP)\n",
        "print('True Negative:',TN)\n",
        "print('False Positive:',FP)\n",
        "print('False Negative:',FN)\n",
        "accuracy=(TP+TN)/(TP+FP+TN+FN)\n",
        "print('Accuracy:',accuracy)\n",
        "if TP==0:\n",
        "  precision=0\n",
        "  recall=0\n",
        "  f1_score=0\n",
        "else:\n",
        "  precision = TP/(TP+FP)\n",
        "  recall = TP/(TP+FN)\n",
        "  f1_score = 2*((precision*recall)/(precision+recall))\n",
        "print('Precision:',precision)\n",
        "print('Recall:',recall)\n",
        "print('F1 score:',f1_score)\n",
        "if TN==0:\n",
        "  specificity=0\n",
        "else:\n",
        "  specificity=TN/(TN+FP)\n",
        "print('Specificity:',specificity)"
      ],
      "metadata": {
        "id": "K3O19eVZuZpl",
        "colab": {
          "base_uri": "https://localhost:8080/"
        },
        "outputId": "0996f4b8-4846-4e68-e28a-b4fafead22e5"
      },
      "execution_count": 85,
      "outputs": [
        {
          "output_type": "stream",
          "name": "stdout",
          "text": [
            "True Positive: 1517\n",
            "True Negative: 1790\n",
            "False Positive: 333\n",
            "False Negative: 274\n",
            "Accuracy: 0.8449156872764435\n",
            "Precision: 0.82\n",
            "Recall: 0.8470128419877163\n",
            "F1 score: 0.8332875583630871\n",
            "Specificity: 0.8431464908148846\n"
          ]
        }
      ]
    },
    {
      "cell_type": "code",
      "source": [
        "#Irrigation Purpose\n",
        "#Fitting the model\n",
        "svmrbf8=classifier_svmrbf.fit(X_train, y4_train)\n",
        "svmrbf8_pre=svmrbf8.predict(X_test)\n",
        "acc32=accuracy_score(y4_test,svmrbf8_pre) # Accuracy\n",
        "print(acc32)\n",
        "acc32*=100"
      ],
      "metadata": {
        "id": "AS9nmvjjuZpm",
        "colab": {
          "base_uri": "https://localhost:8080/"
        },
        "outputId": "df81f574-d5a6-4be0-ed3e-d33142cc482a"
      },
      "execution_count": 86,
      "outputs": [
        {
          "output_type": "stream",
          "name": "stdout",
          "text": [
            "0.926673479816045\n"
          ]
        }
      ]
    },
    {
      "cell_type": "code",
      "source": [
        "#Confusion Matrix for Irrigation Purpose\n",
        "matrix = confusion_matrix(y4_test,svmrbf8_pre)\n",
        "class_names=['No','Yes']\n",
        "fig,ax=plot_confusion_matrix(conf_mat=matrix,figsize=(5,5))\n",
        "tick_marks = np.arange(len(class_names))\n",
        "plt.xticks(tick_marks, class_names, rotation=25)\n",
        "plt.yticks(tick_marks, class_names, rotation=0)\n",
        "plt.xlabel('Predicted label')\n",
        "plt.ylabel('True label')\n",
        "plt.title('Confusion Matrix for SVM-rbf Model')\n",
        "plt.show()"
      ],
      "metadata": {
        "id": "5vvTJVsBuZpm",
        "colab": {
          "base_uri": "https://localhost:8080/",
          "height": 495
        },
        "outputId": "cbdc52c6-84f6-45ea-ae9e-261fe9ff2dba"
      },
      "execution_count": 87,
      "outputs": [
        {
          "output_type": "display_data",
          "data": {
            "text/plain": [
              "<Figure size 500x500 with 1 Axes>"
            ],
            "image/png": "[encoded data removed]"
          },
          "metadata": {}
        }
      ]
    },
    {
      "cell_type": "code",
      "source": [
        "# Performance Metrics for Irrigation Purpose\n",
        "def find_TP(y, y_hat):\n",
        "   return sum((y == 'Yes') & (y_hat == 'Yes')) # True Positives\n",
        "def find_FN(y, y_hat):\n",
        "   return sum((y == 'Yes') & (y_hat == 'No')) # False Negatives Type-II error\n",
        "def find_FP(y, y_hat):\n",
        "   return sum((y == 'No') & (y_hat == 'Yes')) # False Positives Type-I error\n",
        "def find_TN(y, y_hat):\n",
        "   return sum((y == 'No') & (y_hat == 'No')) # True Negatives\n",
        "TP=(find_TP(y4_test,svmrbf8_pre))\n",
        "TN=(find_TN(y4_test,svmrbf8_pre))\n",
        "FN=(find_FN(y4_test,svmrbf8_pre))\n",
        "FP=(find_FP(y4_test,svmrbf8_pre))\n",
        "print('True Positive:',TP)\n",
        "print('True Negative:',TN)\n",
        "print('False Positive:',FP)\n",
        "print('False Negative:',FN)\n",
        "accuracy=(TP+TN)/(TP+FP+TN+FN)\n",
        "print('Accuracy:',accuracy)\n",
        "if TP==0:\n",
        "  precision=0\n",
        "  recall=0\n",
        "  f1_score=0\n",
        "else:\n",
        "  precision = TP/(TP+FP)\n",
        "  recall = TP/(TP+FN)\n",
        "  f1_score = 2*((precision*recall)/(precision+recall))\n",
        "print('Precision:',precision)\n",
        "print('Recall:',recall)\n",
        "print('F1 score:',f1_score)\n",
        "if TN==0:\n",
        "  specificity=0\n",
        "else:\n",
        "  specificity=TN/(TN+FP)\n",
        "print('Specificity:',specificity)"
      ],
      "metadata": {
        "id": "bH7o8Dc8uZpn",
        "colab": {
          "base_uri": "https://localhost:8080/"
        },
        "outputId": "214208b6-8dd3-4aa3-f1dd-00c470b8525a"
      },
      "execution_count": 88,
      "outputs": [
        {
          "output_type": "stream",
          "name": "stdout",
          "text": [
            "True Positive: 744\n",
            "True Negative: 2883\n",
            "False Positive: 4\n",
            "False Negative: 283\n",
            "Accuracy: 0.926673479816045\n",
            "Precision: 0.9946524064171123\n",
            "Recall: 0.7244401168451802\n",
            "F1 score: 0.8383098591549296\n",
            "Specificity: 0.99861447869761\n"
          ]
        }
      ]
    },
    {
      "cell_type": "markdown",
      "source": [
        "#### Prediction"
      ],
      "metadata": {
        "id": "corhTAFBuZpo"
      }
    },
    {
      "cell_type": "code",
      "source": [
        "'''ph=round(float(input()),2)\n",
        "Ca=round(float(input()),2)\n",
        "Mg=round(float(input()),2)\n",
        "Cl=round(float(input()),2)\n",
        "Ben=round(float(input()),2)\n",
        "THM=round(float(input()),2)\n",
        "Cu=round(float(input()),2)\n",
        "Ni=round(float(input()),2)\n",
        "Xtest1=[[ph,Ca,Mg,Cl,Ben,THM,Cu,Ni]]\n",
        "X_test1=pd.DataFrame(Xtest1)\n",
        "X_test1.rename(columns = {0: 'Ph',1:'Calcium(in ppm)',2:'Magnesium(in ppm)',3:'Chlorine(in ppm)',4:'Benzene(in ppb)',5:'THM(in ppb)',6:'Copper(in ppm)',7:'Nitrate(in ppm)',9:'Drinking Purpose',10:'Ailments',11:'Cement Industry Purpose',12:'Irrigation Purpose'}, inplace = True)\n",
        "X_test1'''"
      ],
      "metadata": {
        "id": "Di2cRojSuZpo",
        "colab": {
          "base_uri": "https://localhost:8080/",
          "height": 105
        },
        "outputId": "75585eda-e5a1-4e58-f14c-709a446d1ace"
      },
      "execution_count": 89,
      "outputs": [
        {
          "output_type": "execute_result",
          "data": {
            "text/plain": [
              "\"ph=round(float(input()),2)\\nCa=round(float(input()),2)\\nMg=round(float(input()),2)\\nCl=round(float(input()),2)\\nBen=round(float(input()),2)\\nTHM=round(float(input()),2)\\nCu=round(float(input()),2)\\nNi=round(float(input()),2)\\nXtest1=[[ph,Ca,Mg,Cl,Ben,THM,Cu,Ni]]\\nX_test1=pd.DataFrame(Xtest1)\\nX_test1.rename(columns = {0: 'Ph',1:'Calcium(in ppm)',2:'Magnesium(in ppm)',3:'Chlorine(in ppm)',4:'Benzene(in ppb)',5:'THM(in ppb)',6:'Copper(in ppm)',7:'Nitrate(in ppm)',9:'Drinking Purpose',10:'Ailments',11:'Cement Industry Purpose',12:'Irrigation Purpose'}, inplace = True)\\nX_test1\""
            ],
            "application/vnd.google.colaboratory.intrinsic+json": {
              "type": "string"
            }
          },
          "metadata": {},
          "execution_count": 89
        }
      ]
    },
    {
      "cell_type": "code",
      "source": [
        "svmrbf5=classifier_svmrbf.fit(X_train, y1_train)\n",
        "svmrbf_pre1=svmrbf5.predict(X_test1)\n",
        "svmrbf6=classifier_svmrbf.fit(X_train, y2_train)\n",
        "svmrbf_pre2=svmrbf6.predict(X_test1)\n",
        "svmrbf7=classifier_svmrbf.fit(X_train, y3_train)\n",
        "svmrbf_pre3=svmrbf7.predict(X_test1)\n",
        "svmrbf8=classifier_svmrbf.fit(X_train, y4_train)\n",
        "svmrbf_pre4=svmrbf8.predict(X_test1)\n",
        "print('Drinking Purpose: '+svmrbf_pre1[0])\n",
        "print('Ailments: '+svmrbf_pre2[0])\n",
        "print('Cement Industry Purpose: '+svmrbf_pre3[0])\n",
        "print('Irrigation Purpose: '+svmrbf_pre4[0])"
      ],
      "metadata": {
        "id": "CrK37-wWuZpp",
        "colab": {
          "base_uri": "https://localhost:8080/"
        },
        "outputId": "dfe435b0-e48f-4503-b601-0c8c2cdc5773"
      },
      "execution_count": 90,
      "outputs": [
        {
          "output_type": "stream",
          "name": "stdout",
          "text": [
            "Drinking Purpose: No\n",
            "Ailments: Anaemia,Nausea,Bladder Cancer,Methemoglobinemia,Diarrhoea,Leukaemia\n",
            "Cement Industry Purpose: Yes\n",
            "Irrigation Purpose: No\n"
          ]
        }
      ]
    },
    {
      "cell_type": "markdown",
      "source": [
        "### SVM (Support Vector Machine) poly"
      ],
      "metadata": {
        "id": "49TjWQUIxFar"
      }
    },
    {
      "cell_type": "code",
      "source": [
        "from sklearn.svm import SVC\n",
        "classifier_svmpoly = SVC(kernel='poly')"
      ],
      "metadata": {
        "id": "0gf-lx_SxFat"
      },
      "execution_count": 91,
      "outputs": []
    },
    {
      "cell_type": "code",
      "source": [
        " # for ignoring warnings\n",
        "import warnings\n",
        "warnings.filterwarnings(\"ignore\")"
      ],
      "metadata": {
        "id": "WgOjONAfxFav"
      },
      "execution_count": 92,
      "outputs": []
    },
    {
      "cell_type": "markdown",
      "source": [
        "#### Fitting the model and Predcting the Accuracies"
      ],
      "metadata": {
        "id": "rgdmOIMxxFay"
      }
    },
    {
      "cell_type": "code",
      "source": [
        "import matplotlib.pyplot as plt\n",
        "from mlxtend.plotting import plot_confusion_matrix\n",
        "from sklearn.metrics import accuracy_score, confusion_matrix"
      ],
      "metadata": {
        "id": "6SwBXJK-xFaz"
      },
      "execution_count": 93,
      "outputs": []
    },
    {
      "cell_type": "code",
      "source": [
        "# Four features Concatenating into one and training the model -Drinking Purpose+Ailments+Cement Industry Purpose+Irrigation Purpose\n",
        "svmpoly2=classifier_svmpoly.fit(X_train,y6_train)\n",
        "svmpoly2_pre=svmpoly2.predict(X_test)\n",
        "acc34=accuracy_score(y6_test,svmpoly2_pre) # Accuracy\n",
        "print(acc34)\n",
        "acc34*=100"
      ],
      "metadata": {
        "id": "BjrrBZ2TxFa0",
        "colab": {
          "base_uri": "https://localhost:8080/"
        },
        "outputId": "c71a03be-4ac8-4aab-f7e8-29e74c217e48"
      },
      "execution_count": 94,
      "outputs": [
        {
          "output_type": "stream",
          "name": "stdout",
          "text": [
            "0.685743484925907\n"
          ]
        }
      ]
    },
    {
      "cell_type": "code",
      "source": [
        "# Two features Concatenating into one and training the model -Drinking Purpose+Ailments\n",
        "svmpoly4=classifier_svmpoly.fit(X_train,y_train)\n",
        "svmpoly4_pre=svmpoly4.predict(X_test)\n",
        "acc36=accuracy_score(y_test,svmpoly4_pre) #Accuracy\n",
        "print(acc36)\n",
        "acc36*=100"
      ],
      "metadata": {
        "id": "UCxtquFKxFa3",
        "colab": {
          "base_uri": "https://localhost:8080/"
        },
        "outputId": "2cc6b3c6-c3e5-4598-c96b-55ec10fd7121"
      },
      "execution_count": 95,
      "outputs": [
        {
          "output_type": "stream",
          "name": "stdout",
          "text": [
            "0.5881451200817578\n"
          ]
        }
      ]
    },
    {
      "cell_type": "code",
      "source": [
        "#Drinking Purpose\n",
        "#Training the model\n",
        "svmpoly5=classifier_svmpoly.fit(X_train, y1_train)\n",
        "svmpoly5_pre=svmpoly5.predict(X_test)\n",
        "acc37=accuracy_score(y1_test,svmpoly5_pre) #Accuracy\n",
        "print(acc37)\n",
        "acc37*=100"
      ],
      "metadata": {
        "id": "QpROhqPExFa5",
        "colab": {
          "base_uri": "https://localhost:8080/"
        },
        "outputId": "a97a8a07-d81b-4747-d698-1ea2604bdedc"
      },
      "execution_count": 96,
      "outputs": [
        {
          "output_type": "stream",
          "name": "stdout",
          "text": [
            "0.6438426162493612\n"
          ]
        }
      ]
    },
    {
      "cell_type": "code",
      "source": [
        "#Confusion Matrix for Drinking Purpose\n",
        "matrix = confusion_matrix(y1_test,svmpoly5_pre)\n",
        "class_names=['No','Yes']\n",
        "fig,ax=plot_confusion_matrix(conf_mat=matrix,figsize=(5,5))\n",
        "tick_marks = np.arange(len(class_names))\n",
        "plt.xticks(tick_marks, class_names, rotation=25)\n",
        "plt.yticks(tick_marks, class_names, rotation=0)\n",
        "plt.xlabel('Predicted label')\n",
        "plt.ylabel('True label')\n",
        "plt.title('Confusion Matrix for SVM-poly Model')\n",
        "plt.show()"
      ],
      "metadata": {
        "id": "EtG56epExFa6",
        "colab": {
          "base_uri": "https://localhost:8080/",
          "height": 495
        },
        "outputId": "d5f8ef08-226d-4d63-ccaa-f3e2f32f4fec"
      },
      "execution_count": 97,
      "outputs": [
        {
          "output_type": "display_data",
          "data": {
            "text/plain": [
              "<Figure size 500x500 with 1 Axes>"
            ],
            "image/png": "[encoded data removed]"
          },
          "metadata": {}
        }
      ]
    },
    {
      "cell_type": "code",
      "source": [
        "# Performance Metrics for Drinking Purpose\n",
        "def find_TP(y, y_hat):\n",
        "   return sum((y == 'Yes') & (y_hat == 'Yes')) # True Positives\n",
        "def find_FN(y, y_hat):\n",
        "   return sum((y == 'Yes') & (y_hat == 'No')) # False Negatives Type-II error\n",
        "def find_FP(y, y_hat):\n",
        "   return sum((y == 'No') & (y_hat == 'Yes')) # False Positives Type-I error\n",
        "def find_TN(y, y_hat):\n",
        "   return sum((y == 'No') & (y_hat == 'No')) # True Negatives\n",
        "TP=(find_TP(y1_test,svmpoly5_pre))\n",
        "TN=(find_TN(y1_test,svmpoly5_pre))\n",
        "FN=(find_FN(y1_test,svmpoly5_pre))\n",
        "FP=(find_FP(y1_test,svmpoly5_pre))\n",
        "print('True Positive:',TP)\n",
        "print('True Negative:',TN)\n",
        "print('False Positive:',FP)\n",
        "print('False Negative:',FN)\n",
        "accuracy=(TP+TN)/(TP+FP+TN+FN)\n",
        "print('Accuracy:',accuracy)\n",
        "acc43=accuracy*100\n",
        "if TP==0:\n",
        "  precision=0\n",
        "  recall=0\n",
        "  f1_score=0\n",
        "else:\n",
        "  precision = TP/(TP+FP)\n",
        "  recall = TP/(TP+FN)\n",
        "  f1_score = 2*((precision*recall)/(precision+recall))\n",
        "print('Precision:',precision)\n",
        "print('Recall:',recall)\n",
        "print('F1 score:',f1_score)\n",
        "if TN==0:\n",
        "  specificity=0\n",
        "else:\n",
        "  specificity=TN/(TN+FP)\n",
        "print('Specificity:',specificity)"
      ],
      "metadata": {
        "id": "tQEfV8ukxFa8",
        "colab": {
          "base_uri": "https://localhost:8080/"
        },
        "outputId": "0ce7a418-129e-4994-c334-c8d9bacbb76e"
      },
      "execution_count": 98,
      "outputs": [
        {
          "output_type": "stream",
          "name": "stdout",
          "text": [
            "True Positive: 0\n",
            "True Negative: 2520\n",
            "False Positive: 0\n",
            "False Negative: 1394\n",
            "Accuracy: 0.6438426162493612\n",
            "Precision: 0\n",
            "Recall: 0\n",
            "F1 score: 0\n",
            "Specificity: 1.0\n"
          ]
        }
      ]
    },
    {
      "cell_type": "code",
      "source": [
        "#Ailments\n",
        "#Fitting the model\n",
        "svmpoly6=classifier_svmpoly.fit(X_train, y2_train)\n",
        "svmpoly6_pre=svmpoly6.predict(X_test)\n",
        "acc38=accuracy_score(y2_test, svmpoly6_pre) # Accuracy\n",
        "print(acc38)\n",
        "acc38*=100"
      ],
      "metadata": {
        "id": "AhdDKHLixFa_",
        "colab": {
          "base_uri": "https://localhost:8080/"
        },
        "outputId": "bbb83573-f710-466b-9f0e-c4c90c5a76fe"
      },
      "execution_count": 99,
      "outputs": [
        {
          "output_type": "stream",
          "name": "stdout",
          "text": [
            "0.5881451200817578\n"
          ]
        }
      ]
    },
    {
      "cell_type": "code",
      "source": [
        "#Cement Industry Purpose\n",
        "#Fitting the model\n",
        "svmpoly7=classifier_svmpoly.fit(X_train, y3_train)\n",
        "svmpoly7_pre=svmpoly7.predict(X_test)\n",
        "acc39=accuracy_score(y3_test,svmpoly7_pre) # Accuracy\n",
        "print(acc39)\n",
        "acc39*=100"
      ],
      "metadata": {
        "id": "69pYgALlxFbB",
        "colab": {
          "base_uri": "https://localhost:8080/"
        },
        "outputId": "61a856cc-7a7f-459e-e273-bbff813d63e4"
      },
      "execution_count": 100,
      "outputs": [
        {
          "output_type": "stream",
          "name": "stdout",
          "text": [
            "0.6389882473173224\n"
          ]
        }
      ]
    },
    {
      "cell_type": "code",
      "source": [
        "#Confusion Matrix for Cement Industry Purpose\n",
        "matrix = confusion_matrix(y3_test,svmpoly7_pre)\n",
        "class_names=['No','Yes']\n",
        "fig,ax=plot_confusion_matrix(conf_mat=matrix,figsize=(5,5))\n",
        "tick_marks = np.arange(len(class_names))\n",
        "plt.xticks(tick_marks, class_names, rotation=25)\n",
        "plt.yticks(tick_marks, class_names, rotation=0)\n",
        "plt.xlabel('Predicted label')\n",
        "plt.ylabel('True label')\n",
        "plt.title('Confusion Matrix for SVM-poly Model')\n",
        "plt.show()"
      ],
      "metadata": {
        "id": "wTMbgwwnxFbC",
        "colab": {
          "base_uri": "https://localhost:8080/",
          "height": 495
        },
        "outputId": "b2eb9bfd-1e13-4612-efae-52dc837a85ff"
      },
      "execution_count": 101,
      "outputs": [
        {
          "output_type": "display_data",
          "data": {
            "text/plain": [
              "<Figure size 500x500 with 1 Axes>"
            ],
            "image/png": "[encoded data removed]"
          },
          "metadata": {}
        }
      ]
    },
    {
      "cell_type": "code",
      "source": [
        "# Performance Metrics for Cement Industry Purpose\n",
        "def find_TP(y, y_hat):\n",
        "   return sum((y == 'Yes') & (y_hat == 'Yes')) # True Positives\n",
        "def find_FN(y, y_hat):\n",
        "   return sum((y == 'Yes') & (y_hat == 'No')) # False Negatives Type-II error\n",
        "def find_FP(y, y_hat):\n",
        "   return sum((y == 'No') & (y_hat == 'Yes')) # False Positives Type-I error\n",
        "def find_TN(y, y_hat):\n",
        "   return sum((y == 'No') & (y_hat == 'No')) # True Negatives\n",
        "TP=(find_TP(y3_test,svmpoly7_pre))\n",
        "TN=(find_TN(y3_test,svmpoly7_pre))\n",
        "FN=(find_FN(y3_test,svmpoly7_pre))\n",
        "FP=(find_FP(y3_test,svmpoly7_pre))\n",
        "print('True Positive:',TP)\n",
        "print('True Negative:',TN)\n",
        "print('False Positive:',FP)\n",
        "print('False Negative:',FN)\n",
        "accuracy=(TP+TN)/(TP+FP+TN+FN)\n",
        "print('Accuracy:',accuracy)\n",
        "acc41=accuracy*100\n",
        "\n",
        "if TP==0:\n",
        "  precision=0\n",
        "  recall=0\n",
        "  f1_score=0\n",
        "else:\n",
        "  precision = TP/(TP+FP)\n",
        "  recall = TP/(TP+FN)\n",
        "  f1_score = 2*((precision*recall)/(precision+recall))\n",
        "print('Precision:',precision)\n",
        "print('Recall:',recall)\n",
        "print('F1 score:',f1_score)\n",
        "if TN==0:\n",
        "  specificity=0\n",
        "else:\n",
        "  specificity=TN/(TN+FP)\n",
        "print('Specificity:',specificity)"
      ],
      "metadata": {
        "id": "IZH7UvpGxFbD",
        "colab": {
          "base_uri": "https://localhost:8080/"
        },
        "outputId": "ae8a9687-f7d0-449d-f3af-b97adb4d2056"
      },
      "execution_count": 102,
      "outputs": [
        {
          "output_type": "stream",
          "name": "stdout",
          "text": [
            "True Positive: 1543\n",
            "True Negative: 958\n",
            "False Positive: 1165\n",
            "False Negative: 248\n",
            "Accuracy: 0.6389882473173224\n",
            "Precision: 0.5697932053175776\n",
            "Recall: 0.8615298715801228\n",
            "F1 score: 0.6859302067126027\n",
            "Specificity: 0.45124823363165334\n"
          ]
        }
      ]
    },
    {
      "cell_type": "code",
      "source": [
        "#Irrigation Purpose\n",
        "#Training the model\n",
        "svmpoly8=classifier_svmpoly.fit(X_train, y4_train)\n",
        "svmpoly8_pre=svmpoly8.predict(X_test)\n",
        "acc40=accuracy_score(y4_test,svmpoly8_pre) # Accuracy\n",
        "print(acc40)\n",
        "acc40*=100"
      ],
      "metadata": {
        "id": "1sktky8CxFbE",
        "colab": {
          "base_uri": "https://localhost:8080/"
        },
        "outputId": "9e05222d-a9eb-4b5c-94ed-8bd7c360f2ef"
      },
      "execution_count": 103,
      "outputs": [
        {
          "output_type": "stream",
          "name": "stdout",
          "text": [
            "0.7376085845682167\n"
          ]
        }
      ]
    },
    {
      "cell_type": "code",
      "source": [
        "#Confusion Matrix for Irrigation Purpose\n",
        "matrix = confusion_matrix(y4_test,svmpoly8_pre)\n",
        "class_names=['No','Yes']\n",
        "fig,ax=plot_confusion_matrix(conf_mat=matrix,figsize=(5,5))\n",
        "tick_marks = np.arange(len(class_names))\n",
        "plt.xticks(tick_marks, class_names, rotation=25)\n",
        "plt.yticks(tick_marks, class_names, rotation=0)\n",
        "plt.xlabel('Predicted label')\n",
        "plt.ylabel('True label')\n",
        "plt.title('Confusion Matrix for SVM-poly Model')\n",
        "plt.show()"
      ],
      "metadata": {
        "id": "nu3iUtNXxFbF",
        "colab": {
          "base_uri": "https://localhost:8080/",
          "height": 495
        },
        "outputId": "479316c1-705c-4a01-d229-bf758317fefb"
      },
      "execution_count": 104,
      "outputs": [
        {
          "output_type": "display_data",
          "data": {
            "text/plain": [
              "<Figure size 500x500 with 1 Axes>"
            ],
            "image/png": "[encoded data removed]"
          },
          "metadata": {}
        }
      ]
    },
    {
      "cell_type": "code",
      "source": [
        "# Performance Metrics for Irrigation Purpose\n",
        "def find_TP(y, y_hat):\n",
        "   return sum((y == 'Yes') & (y_hat == 'Yes')) # True Positives\n",
        "def find_FN(y, y_hat):\n",
        "   return sum((y == 'Yes') & (y_hat == 'No')) # False Negatives Type-II error\n",
        "def find_FP(y, y_hat):\n",
        "   return sum((y == 'No') & (y_hat == 'Yes')) # False Positives Type-I error\n",
        "def find_TN(y, y_hat):\n",
        "   return sum((y == 'No') & (y_hat == 'No')) # True Negatives\n",
        "TP=(find_TP(y4_test,svmpoly8_pre))\n",
        "TN=(find_TN(y4_test,svmpoly8_pre))\n",
        "FN=(find_FN(y4_test,svmpoly8_pre))\n",
        "FP=(find_FP(y4_test,svmpoly8_pre))\n",
        "print('True Positive:',TP)\n",
        "print('True Negative:',TN)\n",
        "print('False Positive:',FP)\n",
        "print('False Negative:',FN)\n",
        "accuracy=(TP+TN)/(TP+FP+TN+FN)\n",
        "print('Accuracy:',accuracy)\n",
        "acc35=accuracy*100\n",
        "if TP==0:\n",
        "  precision=0\n",
        "  recall=0\n",
        "  f1_score=0\n",
        "else:\n",
        "  precision = TP/(TP+FP)\n",
        "  recall = TP/(TP+FN)\n",
        "  f1_score = 2*((precision*recall)/(precision+recall))\n",
        "print('Precision:',precision)\n",
        "print('Recall:',recall)\n",
        "print('F1 score:',f1_score)\n",
        "if TN==0:\n",
        "  specificity=0\n",
        "else:\n",
        "  specificity=TN/(TN+FP)\n",
        "print('Specificity:',specificity)"
      ],
      "metadata": {
        "id": "LPSGcSJ_xFbG",
        "colab": {
          "base_uri": "https://localhost:8080/"
        },
        "outputId": "c578e929-73c2-4b9e-961a-35004964e184"
      },
      "execution_count": 105,
      "outputs": [
        {
          "output_type": "stream",
          "name": "stdout",
          "text": [
            "True Positive: 0\n",
            "True Negative: 2887\n",
            "False Positive: 0\n",
            "False Negative: 1027\n",
            "Accuracy: 0.7376085845682167\n",
            "Precision: 0\n",
            "Recall: 0\n",
            "F1 score: 0\n",
            "Specificity: 1.0\n"
          ]
        }
      ]
    },
    {
      "cell_type": "markdown",
      "source": [
        "#### Prediction"
      ],
      "metadata": {
        "id": "Yi6KNflIxFbH"
      }
    },
    {
      "cell_type": "code",
      "source": [
        "'''ph=round(float(input()),2)\n",
        "Ca=round(float(input()),2)\n",
        "Mg=round(float(input()),2)\n",
        "Cl=round(float(input()),2)\n",
        "Ben=round(float(input()),2)\n",
        "THM=round(float(input()),2)\n",
        "Cu=round(float(input()),2)\n",
        "Ni=round(float(input()),2)\n",
        "Xtest1=[[ph,Ca,Mg,Cl,Ben,THM,Cu,Ni]]\n",
        "X_test1=pd.DataFrame(Xtest1)\n",
        "X_test1.rename(columns = {0: 'Ph',1:'Calcium(in ppm)',2:'Magnesium(in ppm)',3:'Chlorine(in ppm)',4:'Benzene(in ppb)',5:'THM(in ppb)',6:'Copper(in ppm)',7:'Nitrate(in ppm)',9:'Drinking Purpose',10:'Ailments',11:'Cement Industry Purpose',12:'Irrigation Purpose'}, inplace = True)\n",
        "X_test1'''"
      ],
      "metadata": {
        "id": "vn1eOWk6xFbH",
        "colab": {
          "base_uri": "https://localhost:8080/",
          "height": 105
        },
        "outputId": "9a731d4f-ed7f-43d1-d8a6-fc13246527b6"
      },
      "execution_count": 106,
      "outputs": [
        {
          "output_type": "execute_result",
          "data": {
            "text/plain": [
              "\"ph=round(float(input()),2)\\nCa=round(float(input()),2)\\nMg=round(float(input()),2)\\nCl=round(float(input()),2)\\nBen=round(float(input()),2)\\nTHM=round(float(input()),2)\\nCu=round(float(input()),2)\\nNi=round(float(input()),2)\\nXtest1=[[ph,Ca,Mg,Cl,Ben,THM,Cu,Ni]]\\nX_test1=pd.DataFrame(Xtest1)\\nX_test1.rename(columns = {0: 'Ph',1:'Calcium(in ppm)',2:'Magnesium(in ppm)',3:'Chlorine(in ppm)',4:'Benzene(in ppb)',5:'THM(in ppb)',6:'Copper(in ppm)',7:'Nitrate(in ppm)',9:'Drinking Purpose',10:'Ailments',11:'Cement Industry Purpose',12:'Irrigation Purpose'}, inplace = True)\\nX_test1\""
            ],
            "application/vnd.google.colaboratory.intrinsic+json": {
              "type": "string"
            }
          },
          "metadata": {},
          "execution_count": 106
        }
      ]
    },
    {
      "cell_type": "code",
      "source": [
        "svmpoly5=classifier_svmpoly.fit(X_train, y1_train)\n",
        "svmpoly_pre1=svmpoly5.predict(X_test1)\n",
        "svmpoly6=classifier_svmpoly.fit(X_train, y2_train)\n",
        "svmpoly_pre2=svmpoly6.predict(X_test1)\n",
        "svmpoly7=classifier_svmpoly.fit(X_train, y3_train)\n",
        "svmpoly_pre3=svmpoly7.predict(X_test1)\n",
        "svmpoly8=classifier_svmpoly.fit(X_train, y4_train)\n",
        "svmpoly_pre4=svmpoly8.predict(X_test1)\n",
        "print('Drinking Purpose: '+svmpoly_pre1[0])\n",
        "print('Ailments: '+svmpoly_pre2[0])\n",
        "print('Cement Industry Purpose: '+svmpoly_pre3[0])\n",
        "print('Irrigation Purpose: '+svmpoly_pre4[0])"
      ],
      "metadata": {
        "id": "lKfrAyX6xFbI",
        "colab": {
          "base_uri": "https://localhost:8080/"
        },
        "outputId": "c43f3974-5d81-4a9c-85c0-1c9f4b6cfce0"
      },
      "execution_count": 108,
      "outputs": [
        {
          "output_type": "stream",
          "name": "stdout",
          "text": [
            "Drinking Purpose: No\n",
            "Ailments: Safe\n",
            "Cement Industry Purpose: Yes\n",
            "Irrigation Purpose: No\n"
          ]
        }
      ]
    },
    {
      "cell_type": "markdown",
      "source": [
        "### Gaussian Naive Bayes"
      ],
      "metadata": {
        "id": "OC7x2DrAywM_"
      }
    },
    {
      "cell_type": "code",
      "source": [
        "from sklearn.naive_bayes import GaussianNB\n",
        "classifier_nb = GaussianNB()"
      ],
      "metadata": {
        "id": "-6-svc7BywND"
      },
      "execution_count": 109,
      "outputs": []
    },
    {
      "cell_type": "markdown",
      "source": [
        "#### Fitting the model and Predcting the Accuracies"
      ],
      "metadata": {
        "id": "odJbSZgZywNF"
      }
    },
    {
      "cell_type": "code",
      "source": [
        "import matplotlib.pyplot as plt\n",
        "from mlxtend.plotting import plot_confusion_matrix\n",
        "from sklearn.metrics import accuracy_score, confusion_matrix"
      ],
      "metadata": {
        "id": "xZv4Q1NhywNF"
      },
      "execution_count": 110,
      "outputs": []
    },
    {
      "cell_type": "code",
      "source": [
        "# Four features Concatenating into one and training the model -Drinking Purpose+Ailments+Cement Industry Purpose+Irrigation Purpose\n",
        "nb2=classifier_nb.fit(X_train,y6_train)\n",
        "nb2_pre=nb2.predict(X_test)\n",
        "acc42=accuracy_score(y6_test,nb2_pre) # Accuracy\n",
        "print(acc42)\n",
        "acc42*=100"
      ],
      "metadata": {
        "id": "OqZiJNPwywNH",
        "colab": {
          "base_uri": "https://localhost:8080/"
        },
        "outputId": "b8dd50a8-57ff-48a1-a462-142b6adcdecc"
      },
      "execution_count": 111,
      "outputs": [
        {
          "output_type": "stream",
          "name": "stdout",
          "text": [
            "0.8916709248850281\n"
          ]
        }
      ]
    },
    {
      "cell_type": "code",
      "source": [
        "# Two features Concatenating into one and training the model -Drinking Purpose+Ailments\n",
        "nb4=classifier_nb.fit(X_train,y_train)\n",
        "nb4_pre=nb4.predict(X_test)\n",
        "acc44=accuracy_score(y_test,nb4_pre) #Accuracy\n",
        "print(acc44)\n",
        "acc44*=100"
      ],
      "metadata": {
        "id": "3EDbROVBywNI",
        "colab": {
          "base_uri": "https://localhost:8080/"
        },
        "outputId": "67ae7390-a5ed-43d6-ce26-411ad673417a"
      },
      "execution_count": 112,
      "outputs": [
        {
          "output_type": "stream",
          "name": "stdout",
          "text": [
            "0.7023505365355135\n"
          ]
        }
      ]
    },
    {
      "cell_type": "code",
      "source": [
        "#Drinking Purpose\n",
        "#Training the model\n",
        "nb5=classifier_nb.fit(X_train, y1_train)\n",
        "nb5_pre=nb5.predict(X_test)\n",
        "acc45=accuracy_score(y1_test,nb5_pre) #Accuracy\n",
        "print(acc45)\n",
        "acc45*=100"
      ],
      "metadata": {
        "id": "fpJ8MiDnywNI",
        "colab": {
          "base_uri": "https://localhost:8080/"
        },
        "outputId": "94e22ec1-a520-42bf-ff5c-af3b2c411ce3"
      },
      "execution_count": 113,
      "outputs": [
        {
          "output_type": "stream",
          "name": "stdout",
          "text": [
            "0.6775677056719469\n"
          ]
        }
      ]
    },
    {
      "cell_type": "code",
      "source": [
        "#Confusion Matrix for Drinking Purpose\n",
        "matrix = confusion_matrix(y1_test,nb5_pre)\n",
        "class_names=['No','Yes']\n",
        "fig,ax=plot_confusion_matrix(conf_mat=matrix,figsize=(5,5))\n",
        "tick_marks = np.arange(len(class_names))\n",
        "plt.xticks(tick_marks, class_names, rotation=25)\n",
        "plt.yticks(tick_marks, class_names, rotation=0)\n",
        "plt.xlabel('Predicted label')\n",
        "plt.ylabel('True label')\n",
        "plt.title('Confusion Matrix for Guassian Naive Bayes Model')\n",
        "plt.show()"
      ],
      "metadata": {
        "id": "hUFkuKRrywNK",
        "colab": {
          "base_uri": "https://localhost:8080/",
          "height": 495
        },
        "outputId": "e6ce8d66-b38f-44b9-ca66-5fb75c1b615a"
      },
      "execution_count": 114,
      "outputs": [
        {
          "output_type": "display_data",
          "data": {
            "text/plain": [
              "<Figure size 500x500 with 1 Axes>"
            ],
            "image/png": "[encoded data removed]"
          },
          "metadata": {}
        }
      ]
    },
    {
      "cell_type": "code",
      "source": [
        "# Performance Metrics for Drinking Purpose\n",
        "def find_TP(y, y_hat):\n",
        "   return sum((y == 'Yes') & (y_hat == 'Yes')) # True Positives\n",
        "def find_FN(y, y_hat):\n",
        "   return sum((y == 'Yes') & (y_hat == 'No')) # False Negatives Type-II error\n",
        "def find_FP(y, y_hat):\n",
        "   return sum((y == 'No') & (y_hat == 'Yes')) # False Positives Type-I error\n",
        "def find_TN(y, y_hat):\n",
        "   return sum((y == 'No') & (y_hat == 'No')) # True Negatives\n",
        "TP=(find_TP(y1_test,nb5_pre))\n",
        "TN=(find_TN(y1_test,nb5_pre))\n",
        "FN=(find_FN(y1_test,nb5_pre))\n",
        "FP=(find_FP(y1_test,nb5_pre))\n",
        "print('True Positive:',TP)\n",
        "print('True Negative:',TN)\n",
        "print('False Positive:',FP)\n",
        "print('False Negative:',FN)\n",
        "accuracy=(TP+TN)/(TP+FP+TN+FN)\n",
        "print('Accuracy:',accuracy)\n",
        "acc33=accuracy*100\n",
        "if TP==0:\n",
        "  precision=0\n",
        "  recall=0\n",
        "  f1_score=0\n",
        "else:\n",
        "  precision = TP/(TP+FP)\n",
        "  recall = TP/(TP+FN)\n",
        "  f1_score = 2*((precision*recall)/(precision+recall))\n",
        "print('Precision:',precision)\n",
        "print('Recall:',recall)\n",
        "print('F1 score:',f1_score)\n",
        "if TN==0:\n",
        "  specificity=0\n",
        "else:\n",
        "  specificity=TN/(TN+FP)\n",
        "print('Specificity:',specificity)"
      ],
      "metadata": {
        "id": "6cYFSRY6ywNK",
        "colab": {
          "base_uri": "https://localhost:8080/"
        },
        "outputId": "d1477d5f-7b42-4f98-f36a-c3a9680ab697"
      },
      "execution_count": 115,
      "outputs": [
        {
          "output_type": "stream",
          "name": "stdout",
          "text": [
            "True Positive: 1112\n",
            "True Negative: 1540\n",
            "False Positive: 980\n",
            "False Negative: 282\n",
            "Accuracy: 0.6775677056719469\n",
            "Precision: 0.5315487571701721\n",
            "Recall: 0.7977044476327116\n",
            "F1 score: 0.6379804934021802\n",
            "Specificity: 0.6111111111111112\n"
          ]
        }
      ]
    },
    {
      "cell_type": "code",
      "source": [
        "#Ailments\n",
        "#Fitting the model\n",
        "nb6=classifier_nb.fit(X_train, y2_train)\n",
        "nb6_pre=nb6.predict(X_test)\n",
        "acc46=accuracy_score(y2_test, nb6_pre) # Accuracy\n",
        "print(acc46)\n",
        "acc46*=100"
      ],
      "metadata": {
        "id": "H_4J_U9aywNL",
        "colab": {
          "base_uri": "https://localhost:8080/"
        },
        "outputId": "a9afb53d-07c0-4404-d5fe-0873ee0d619c"
      },
      "execution_count": 116,
      "outputs": [
        {
          "output_type": "stream",
          "name": "stdout",
          "text": [
            "0.7023505365355135\n"
          ]
        }
      ]
    },
    {
      "cell_type": "code",
      "source": [
        "#Cement Industry Purpose\n",
        "#Fitting the model\n",
        "nb7=classifier_nb.fit(X_train, y3_train)\n",
        "nb7_pre=nb7.predict(X_test)\n",
        "acc47=accuracy_score(y3_test,nb7_pre) # Accuracy\n",
        "print(acc47)\n",
        "acc47*=100"
      ],
      "metadata": {
        "id": "MKiYaPMGywNM",
        "colab": {
          "base_uri": "https://localhost:8080/"
        },
        "outputId": "35f06ec8-39ee-4562-a0ed-de6c243bf672"
      },
      "execution_count": 117,
      "outputs": [
        {
          "output_type": "stream",
          "name": "stdout",
          "text": [
            "0.6624936126724579\n"
          ]
        }
      ]
    },
    {
      "cell_type": "code",
      "source": [
        "#Confusion Matrix for Cement Industry Purpose\n",
        "matrix = confusion_matrix(y3_test,nb7_pre)\n",
        "class_names=['No','Yes']\n",
        "fig,ax=plot_confusion_matrix(conf_mat=matrix,figsize=(5,5))\n",
        "tick_marks = np.arange(len(class_names))\n",
        "plt.xticks(tick_marks, class_names, rotation=25)\n",
        "plt.yticks(tick_marks, class_names, rotation=0)\n",
        "plt.xlabel('Predicted label')\n",
        "plt.ylabel('True label')\n",
        "plt.title('Confusion Matrix for Guassian Naive Bayes Model')\n",
        "plt.show()"
      ],
      "metadata": {
        "id": "j2oZDFlGywNN",
        "colab": {
          "base_uri": "https://localhost:8080/",
          "height": 495
        },
        "outputId": "d11db0a9-b2c2-4104-d7a3-f2e675914257"
      },
      "execution_count": 118,
      "outputs": [
        {
          "output_type": "display_data",
          "data": {
            "text/plain": [
              "<Figure size 500x500 with 1 Axes>"
            ],
            "image/png": "[encoded data removed]"
          },
          "metadata": {}
        }
      ]
    },
    {
      "cell_type": "code",
      "source": [
        "# Performance Metrics for Cement Industry Purpose\n",
        "def find_TP(y, y_hat):\n",
        "   return sum((y == 'Yes') & (y_hat == 'Yes')) # True Positives\n",
        "def find_FN(y, y_hat):\n",
        "   return sum((y == 'Yes') & (y_hat == 'No')) # False Negatives Type-II error\n",
        "def find_FP(y, y_hat):\n",
        "   return sum((y == 'No') & (y_hat == 'Yes')) # False Positives Type-I error\n",
        "def find_TN(y, y_hat):\n",
        "   return sum((y == 'No') & (y_hat == 'No')) # True Negatives\n",
        "TP=(find_TP(y3_test,nb7_pre))\n",
        "TN=(find_TN(y3_test,nb7_pre))\n",
        "FN=(find_FN(y3_test,nb7_pre))\n",
        "FP=(find_FP(y3_test,nb7_pre))\n",
        "print('True Positive:',TP)\n",
        "print('True Negative:',TN)\n",
        "print('False Positive:',FP)\n",
        "print('False Negative:',FN)\n",
        "accuracy=(TP+TN)/(TP+FP+TN+FN)\n",
        "print('Accuracy:',accuracy)\n",
        "acc27=accuracy*100\n",
        "if TP==0:\n",
        "  precision=0\n",
        "  recall=0\n",
        "  f1_score=0\n",
        "else:\n",
        "  precision = TP/(TP+FP)\n",
        "  recall = TP/(TP+FN)\n",
        "  f1_score = 2*((precision*recall)/(precision+recall))\n",
        "print('Precision:',precision)\n",
        "print('Recall:',recall)\n",
        "print('F1 score:',f1_score)\n",
        "if TN==0:\n",
        "  specificity=0\n",
        "else:\n",
        "  specificity=TN/(TN+FP)\n",
        "print('Specificity:',specificity)"
      ],
      "metadata": {
        "id": "c5vvdm5CywNO",
        "colab": {
          "base_uri": "https://localhost:8080/"
        },
        "outputId": "cbc89151-469f-4b2b-f636-1492bafa9381"
      },
      "execution_count": 119,
      "outputs": [
        {
          "output_type": "stream",
          "name": "stdout",
          "text": [
            "True Positive: 1510\n",
            "True Negative: 1083\n",
            "False Positive: 1040\n",
            "False Negative: 281\n",
            "Accuracy: 0.6624936126724579\n",
            "Precision: 0.592156862745098\n",
            "Recall: 0.8431044109436069\n",
            "F1 score: 0.6956922368117945\n",
            "Specificity: 0.5101271785209609\n"
          ]
        }
      ]
    },
    {
      "cell_type": "code",
      "source": [
        "#Irrigation Purpose\n",
        "#Training the model\n",
        "nb8=classifier_nb.fit(X_train, y4_train)\n",
        "nb8_pre=nb8.predict(X_test)\n",
        "acc48=accuracy_score(y4_test,nb8_pre) # Accuracy\n",
        "print(acc48)\n",
        "acc48*=100"
      ],
      "metadata": {
        "id": "hpZrtEXBywNP",
        "colab": {
          "base_uri": "https://localhost:8080/"
        },
        "outputId": "dd2e6fb9-ccd6-4629-88a6-f3d6d9aca5dc"
      },
      "execution_count": 120,
      "outputs": [
        {
          "output_type": "stream",
          "name": "stdout",
          "text": [
            "0.7864077669902912\n"
          ]
        }
      ]
    },
    {
      "cell_type": "code",
      "source": [
        "#Confusion Matrix for Irrigation Purpose\n",
        "matrix = confusion_matrix(y4_test,nb8_pre)\n",
        "class_names=['No','Yes']\n",
        "fig,ax=plot_confusion_matrix(conf_mat=matrix,figsize=(5,5))\n",
        "tick_marks = np.arange(len(class_names))\n",
        "plt.xticks(tick_marks, class_names, rotation=25)\n",
        "plt.yticks(tick_marks, class_names, rotation=0)\n",
        "plt.xlabel('Predicted label')\n",
        "plt.ylabel('True label')\n",
        "plt.title('Confusion Matrix for Guassian Naive Bayes Model')\n",
        "plt.show()"
      ],
      "metadata": {
        "id": "8TD0H0SSywNP",
        "colab": {
          "base_uri": "https://localhost:8080/",
          "height": 495
        },
        "outputId": "9ab5b2e0-132e-47bf-d6c1-121b279cbd64"
      },
      "execution_count": 121,
      "outputs": [
        {
          "output_type": "display_data",
          "data": {
            "text/plain": [
              "<Figure size 500x500 with 1 Axes>"
            ],
            "image/png": "[encoded data removed]"
          },
          "metadata": {}
        }
      ]
    },
    {
      "cell_type": "code",
      "source": [
        "# Performance Metrics for Irrigation Purpose\n",
        "def find_TP(y, y_hat):\n",
        "   return sum((y == 'Yes') & (y_hat == 'Yes')) # True Positives\n",
        "def find_FN(y, y_hat):\n",
        "   return sum((y == 'Yes') & (y_hat == 'No')) # False Negatives Type-II error\n",
        "def find_FP(y, y_hat):\n",
        "   return sum((y == 'No') & (y_hat == 'Yes')) # False Positives Type-I error\n",
        "def find_TN(y, y_hat):\n",
        "   return sum((y == 'No') & (y_hat == 'No')) # True Negatives\n",
        "TP=(find_TP(y4_test,nb8_pre))\n",
        "TN=(find_TN(y4_test,nb8_pre))\n",
        "FN=(find_FN(y4_test,nb8_pre))\n",
        "FP=(find_FP(y4_test,nb8_pre))\n",
        "print('True Positive:',TP)\n",
        "print('True Negative:',TN)\n",
        "print('False Positive:',FP)\n",
        "print('False Negative:',FN)\n",
        "accuracy=(TP+TN)/(TP+FP+TN+FN)\n",
        "print('Accuracy:',accuracy)\n",
        "acc25=accuracy*100\n",
        "if TP==0:\n",
        "  precision=0\n",
        "  recall=0\n",
        "  f1_score=0\n",
        "else:\n",
        "  precision = TP/(TP+FP)\n",
        "  recall = TP/(TP+FN)\n",
        "  f1_score = 2*((precision*recall)/(precision+recall))\n",
        "print('Precision:',precision)\n",
        "print('Recall:',recall)\n",
        "print('F1 score:',f1_score)\n",
        "if TN==0:\n",
        "  specificity=0\n",
        "else:\n",
        "  specificity=TN/(TN+FP)\n",
        "print('Specificity:',specificity)"
      ],
      "metadata": {
        "id": "4_hcP1PZywNQ",
        "colab": {
          "base_uri": "https://localhost:8080/"
        },
        "outputId": "a177c08b-15e2-4460-de2e-4de44e0b8167"
      },
      "execution_count": 122,
      "outputs": [
        {
          "output_type": "stream",
          "name": "stdout",
          "text": [
            "True Positive: 745\n",
            "True Negative: 2333\n",
            "False Positive: 554\n",
            "False Negative: 282\n",
            "Accuracy: 0.7864077669902912\n",
            "Precision: 0.573518090839107\n",
            "Recall: 0.7254138266796495\n",
            "F1 score: 0.6405846947549441\n",
            "Specificity: 0.8081052996189816\n"
          ]
        }
      ]
    },
    {
      "cell_type": "markdown",
      "source": [
        "#### Prediction"
      ],
      "metadata": {
        "id": "ToLCLQDtywNR"
      }
    },
    {
      "cell_type": "code",
      "source": [
        "'''ph=round(float(input()),2)\n",
        "Ca=round(float(input()),2)\n",
        "Mg=round(float(input()),2)\n",
        "Cl=round(float(input()),2)\n",
        "Ben=round(float(input()),2)\n",
        "THM=round(float(input()),2)\n",
        "Cu=round(float(input()),2)\n",
        "Ni=round(float(input()),2)\n",
        "Xtest1=[[ph,Ca,Mg,Cl,Ben,THM,Cu,Ni]]\n",
        "X_test1=pd.DataFrame(Xtest1)\n",
        "X_test1.rename(columns = {0: 'Ph',1:'Calcium(in ppm)',2:'Magnesium(in ppm)',3:'Chlorine(in ppm)',4:'Benzene(in ppb)',5:'THM(in ppb)',6:'Copper(in ppm)',7:'Nitrate(in ppm)',9:'Drinking Purpose',10:'Ailments',11:'Cement Industry Purpose',12:'Irrigation Purpose'}, inplace = True)\n",
        "X_test1'''"
      ],
      "metadata": {
        "id": "ov91pLvVywNR",
        "colab": {
          "base_uri": "https://localhost:8080/",
          "height": 105
        },
        "outputId": "d6c3bfe0-dc6f-4390-d06f-83a1f1c56a1d"
      },
      "execution_count": 123,
      "outputs": [
        {
          "output_type": "execute_result",
          "data": {
            "text/plain": [
              "\"ph=round(float(input()),2)\\nCa=round(float(input()),2)\\nMg=round(float(input()),2)\\nCl=round(float(input()),2)\\nBen=round(float(input()),2)\\nTHM=round(float(input()),2)\\nCu=round(float(input()),2)\\nNi=round(float(input()),2)\\nXtest1=[[ph,Ca,Mg,Cl,Ben,THM,Cu,Ni]]\\nX_test1=pd.DataFrame(Xtest1)\\nX_test1.rename(columns = {0: 'Ph',1:'Calcium(in ppm)',2:'Magnesium(in ppm)',3:'Chlorine(in ppm)',4:'Benzene(in ppb)',5:'THM(in ppb)',6:'Copper(in ppm)',7:'Nitrate(in ppm)',9:'Drinking Purpose',10:'Ailments',11:'Cement Industry Purpose',12:'Irrigation Purpose'}, inplace = True)\\nX_test1\""
            ],
            "application/vnd.google.colaboratory.intrinsic+json": {
              "type": "string"
            }
          },
          "metadata": {},
          "execution_count": 123
        }
      ]
    },
    {
      "cell_type": "code",
      "source": [
        "nb5=classifier_nb.fit(X_train, y1_train)\n",
        "nb_pre1=nb5.predict(X_test1)\n",
        "nb6=classifier_nb.fit(X_train, y2_train)\n",
        "nb_pre2=nb6.predict(X_test1)\n",
        "nb7=classifier_nb.fit(X_train, y3_train)\n",
        "nb_pre3=nb7.predict(X_test1)\n",
        "nb8=classifier_nb.fit(X_train, y4_train)\n",
        "nb_pre4=nb8.predict(X_test1)\n",
        "print('Drinking Purpose: '+nb_pre1[0])\n",
        "print('Ailments: '+nb_pre2[0])\n",
        "print('Cement Industry Purpose: '+nb_pre3[0])\n",
        "print('Irrigation Purpose: '+nb_pre4[0])"
      ],
      "metadata": {
        "id": "4miYrTEnywNR",
        "colab": {
          "base_uri": "https://localhost:8080/"
        },
        "outputId": "65716e2e-9ba9-497e-fe6e-9f3e0ee33d5d"
      },
      "execution_count": 124,
      "outputs": [
        {
          "output_type": "stream",
          "name": "stdout",
          "text": [
            "Drinking Purpose: No\n",
            "Ailments: Anaemia,Nausea,Bladder Cancer,Methemoglobinemia,Diarrhoea,Leukaemia\n",
            "Cement Industry Purpose: No\n",
            "Irrigation Purpose: No\n"
          ]
        }
      ]
    },
    {
      "cell_type": "markdown",
      "source": [
        "### Comparison Table"
      ],
      "metadata": {
        "id": "2iErJgWOqkLL"
      }
    },
    {
      "cell_type": "code",
      "source": [
        "from prettytable import PrettyTable\n",
        "table = PrettyTable(['Algorithm', '4 features', 'concatenating 4 features','2 features','concatenating 2 features','Drinking Purpose','Ailments','Cement Industry Purpose','Irrigation Purpose'])\n",
        "l=[[\"Random Forest\",round(acc1,2),round(acc2,2),round(acc3,2),round(acc4,2),round(acc5,2),round(acc6,2),round(acc7,2),round(acc8,2)],\n",
        "   [\"KNN\",round(acc9,2),round(acc10,2),round(acc11,2),round(acc12,2),round(acc13,2),round(acc14,2),round(acc15,2),round(acc16,2)],\n",
        "   [\"Decision Tree\",round(acc17,2),round(acc18,2),round(acc19,2),round(acc20,2),round(acc21,2),round(acc22,2),round(acc23,2),round(acc24,2)],\n",
        "   [\"SVM(rbf)\",round(acc25,2),round(acc26,2),round(acc27,2),round(acc28,2),round(acc29,2),round(acc30,2),round(acc31,2),round(acc32,2)],\n",
        "   [\"SVM(poly)\",round(acc33,2),round(acc34,2),round(acc35,2),round(acc36,2),round(acc37,2),round(acc38,2),round(acc39,2),round(acc40,2)],\n",
        "   [\"Naive Bayes\",round(acc41,2),round(acc42,2),round(acc43,2),round(acc44,2),round(acc45,2),round(acc46,2),round(acc47,2),round(acc48,2)]]\n",
        "for rec in l:\n",
        "    table.add_row(rec)\n",
        "print(table)"
      ],
      "metadata": {
        "id": "TFmME4tpqoU5",
        "colab": {
          "base_uri": "https://localhost:8080/"
        },
        "outputId": "11dea57a-fa83-4fb1-cd36-240757a302a1"
      },
      "execution_count": 125,
      "outputs": [
        {
          "output_type": "stream",
          "name": "stdout",
          "text": [
            "+---------------+------------+--------------------------+------------+--------------------------+------------------+----------+-------------------------+--------------------+\n",
            "|   Algorithm   | 4 features | concatenating 4 features | 2 features | concatenating 2 features | Drinking Purpose | Ailments | Cement Industry Purpose | Irrigation Purpose |\n",
            "+---------------+------------+--------------------------+------------+--------------------------+------------------+----------+-------------------------+--------------------+\n",
            "| Random Forest |   91.11    |          91.57           |   91.82    |          91.95           |      92.59       |   92.0   |          92.41          |       92.54        |\n",
            "|      KNN      |   57.97    |          58.51           |    66.2    |          66.81           |      92.59       |  66.81   |          83.39          |       92.39        |\n",
            "| Decision Tree |   87.07    |          87.81           |   87.71    |          87.84           |      87.25       |  88.07   |          87.46          |       86.77        |\n",
            "|    SVM(rbf)   |   78.64    |           62.8           |   66.25    |          70.67           |      92.77       |  70.67   |          84.49          |       92.67        |\n",
            "|   SVM(poly)   |   67.76    |          68.57           |   73.76    |          58.81           |      64.38       |  58.81   |           63.9          |       73.76        |\n",
            "|  Naive Bayes  |    63.9    |          89.17           |   64.38    |          70.24           |      67.76       |  70.24   |          66.25          |       78.64        |\n",
            "+---------------+------------+--------------------------+------------+--------------------------+------------------+----------+-------------------------+--------------------+\n"
          ]
        }
      ]
    },
    {
      "cell_type": "code",
      "source": [],
      "metadata": {
        "id": "tusoOZrbuNz4"
      },
      "execution_count": null,
      "outputs": []
    }
  ]
}